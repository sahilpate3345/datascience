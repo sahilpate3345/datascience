{
  "nbformat": 4,
  "nbformat_minor": 0,
  "metadata": {
    "colab": {
      "private_outputs": true,
      "provenance": [],
      "authorship_tag": "ABX9TyNLIOy1Tmg30McXzIzLhPTP",
      "include_colab_link": true
    },
    "kernelspec": {
      "name": "python3",
      "display_name": "Python 3"
    },
    "language_info": {
      "name": "python"
    }
  },
  "cells": [
    {
      "cell_type": "markdown",
      "metadata": {
        "id": "view-in-github",
        "colab_type": "text"
      },
      "source": [
        "<a href=\"https://colab.research.google.com/github/sahilpate3345/datascience/blob/sahil/clustering.ipynb\" target=\"_parent\"><img src=\"https://colab.research.google.com/assets/colab-badge.svg\" alt=\"Open In Colab\"/></a>"
      ]
    },
    {
      "cell_type": "code",
      "execution_count": null,
      "metadata": {
        "id": "5B5saXV5e4Ky"
      },
      "outputs": [],
      "source": [
        "import pandas as pd\n",
        "import matplotlib.pyplot as plt\n",
        "import seaborn as sns\n",
        "from sklearn.datasets import make_blobs\n",
        "from sklearn.cluster import KMeans\n",
        "from sklearn.preprocessing import StandardScaler"
      ]
    },
    {
      "cell_type": "code",
      "source": [
        "X, y_true = make_blobs(n_samples=500, centers=3, cluster_std=4, random_state=42)"
      ],
      "metadata": {
        "id": "3Nt1OWZ9fKjl"
      },
      "execution_count": null,
      "outputs": []
    },
    {
      "cell_type": "code",
      "source": [
        "df = pd.DataFrame(X, columns=['Feature_1', 'Feature_2'])"
      ],
      "metadata": {
        "id": "_SBz1RLpfYyP"
      },
      "execution_count": null,
      "outputs": []
    },
    {
      "cell_type": "code",
      "source": [
        "df"
      ],
      "metadata": {
        "id": "iz04_GHRfjSg"
      },
      "execution_count": null,
      "outputs": []
    },
    {
      "cell_type": "code",
      "source": [
        "scaler = StandardScaler()\n",
        "X_scaled = scaler.fit_transform(df)"
      ],
      "metadata": {
        "id": "ooVWSR3AflA3"
      },
      "execution_count": null,
      "outputs": []
    },
    {
      "cell_type": "code",
      "source": [
        "inertia=[]\n",
        "K_range=range(1,11)"
      ],
      "metadata": {
        "id": "mQCI3hLkf0Fs"
      },
      "execution_count": null,
      "outputs": []
    },
    {
      "cell_type": "code",
      "source": [
        "for k in K_range:\n",
        "    kmeans = KMeans(n_clusters=k, random_state=42)\n",
        "    kmeans.fit(X_scaled)\n",
        "    inertia.append(kmeans.inertia_)"
      ],
      "metadata": {
        "id": "namNbnAPf8rR"
      },
      "execution_count": null,
      "outputs": []
    },
    {
      "cell_type": "code",
      "source": [
        "inertia"
      ],
      "metadata": {
        "id": "Ru4VZSYkgIHp"
      },
      "execution_count": null,
      "outputs": []
    },
    {
      "cell_type": "code",
      "source": [
        "plt.plot(K_range, inertia, marker='o')"
      ],
      "metadata": {
        "id": "NC7-b8QTgURs"
      },
      "execution_count": null,
      "outputs": []
    },
    {
      "cell_type": "code",
      "source": [
        "kmeans_final = KMeans(n_clusters=3, random_state=42)"
      ],
      "metadata": {
        "id": "Vqruywf2giSf"
      },
      "execution_count": null,
      "outputs": []
    },
    {
      "cell_type": "code",
      "source": [
        "cluster_labels = kmeans_final.fit_predict(X_scaled)\n",
        "\n"
      ],
      "metadata": {
        "id": "IzZHctRrgnrm"
      },
      "execution_count": null,
      "outputs": []
    },
    {
      "cell_type": "code",
      "source": [
        "df['cluster'] = cluster_labels"
      ],
      "metadata": {
        "id": "jplV4ksIgrJd"
      },
      "execution_count": null,
      "outputs": []
    },
    {
      "cell_type": "code",
      "source": [
        "sns.scatterplot(x=df['Feature_1'],\n",
        "                y=df['Feature_2'],\n",
        "                hue=df['cluster'],\n",
        "                palette='viridis')"
      ],
      "metadata": {
        "id": "6g_Nm6begvRO"
      },
      "execution_count": null,
      "outputs": []
    },
    {
      "cell_type": "code",
      "source": [
        "from sklearn.datasets import make_moons"
      ],
      "metadata": {
        "id": "cpFbiN3ShoE8"
      },
      "execution_count": null,
      "outputs": []
    },
    {
      "cell_type": "code",
      "source": [
        "X, y_true = make_moons(n_samples=500, noise=0.05, random_state=42)"
      ],
      "metadata": {
        "id": "hvVmPhERht-w"
      },
      "execution_count": null,
      "outputs": []
    },
    {
      "cell_type": "code",
      "source": [
        "from sklearn.cluster import KMeans, DBSCAN"
      ],
      "metadata": {
        "id": "USgmUZjHT3wV"
      },
      "execution_count": null,
      "outputs": []
    },
    {
      "cell_type": "code",
      "source": [
        "df = pd.DataFrame(X, columns=['Feature_1', 'Feature_2'])"
      ],
      "metadata": {
        "id": "95fC8sB9T_oQ"
      },
      "execution_count": null,
      "outputs": []
    },
    {
      "cell_type": "code",
      "source": [
        "scaler = StandardScaler()\n",
        "X_scaled = scaler.fit_transform(df)\n"
      ],
      "metadata": {
        "id": "ZvmLEQJnUICh"
      },
      "execution_count": null,
      "outputs": []
    },
    {
      "cell_type": "code",
      "source": [
        "kmeans = KMeans(n_clusters=2, random_state=42)\n",
        "kmeans_labels = kmeans.fit_predict(X_scaled)"
      ],
      "metadata": {
        "id": "ARqGpOkuUfRR"
      },
      "execution_count": null,
      "outputs": []
    },
    {
      "cell_type": "code",
      "source": [
        "df['kmeans_cluster'] = kmeans_labels\n"
      ],
      "metadata": {
        "id": "3e2WjvNgUkQK"
      },
      "execution_count": null,
      "outputs": []
    },
    {
      "cell_type": "code",
      "source": [
        "print(df.columns)"
      ],
      "metadata": {
        "id": "Gn00KVn0UqkK"
      },
      "execution_count": null,
      "outputs": []
    },
    {
      "cell_type": "code",
      "source": [
        "import seaborn as sns\n",
        "import matplotlib.pyplot as plt\n",
        "sns.scatterplot(\n",
        "    x=df['Feature_1'],\n",
        "    y=df['Feature_2'],\n",
        "    hue=df['kmeans_cluster'],\n",
        "    palette='tab10')\n",
        "plt.show()"
      ],
      "metadata": {
        "id": "cLqc2JT4V5O6"
      },
      "execution_count": null,
      "outputs": []
    },
    {
      "cell_type": "code",
      "source": [
        "dbscan = DBSCAN(eps=0.3, min_samples=5)\n",
        "dbscan_labels = dbscan.fit_predict(X_scaled)"
      ],
      "metadata": {
        "id": "hqUwCGIIWiJ6"
      },
      "execution_count": null,
      "outputs": []
    },
    {
      "cell_type": "code",
      "source": [
        "df['dbsacan_cluster']=dbscan_labels"
      ],
      "metadata": {
        "id": "eLTgDWHSWp2g"
      },
      "execution_count": null,
      "outputs": []
    },
    {
      "cell_type": "code",
      "source": [
        "from sklearn.cluster import DBSCAN\n",
        "import seaborn as sns\n",
        "import matplotlib.pyplot as plt\n",
        "\n",
        "# 1. Fit DBSCAN on scaled data\n",
        "dbscan = DBSCAN(eps=0.3, min_samples=5)\n",
        "dbscan_labels = dbscan.fit_predict(X_scaled)\n",
        "\n",
        "# 2. Save labels into dataframe\n",
        "df['dbscan_cluster'] = dbscan_labels\n",
        "\n",
        "# 3. Plot clusters\n",
        "sns.scatterplot(\n",
        "    x=df['Feature_1'],\n",
        "    y=df['Feature_2'],\n",
        "    hue=df['dbscan_cluster'],\n",
        "    palette='tab10'\n",
        ")\n",
        "plt.title(\"DBSCAN Clustering\")\n",
        "plt.show()\n"
      ],
      "metadata": {
        "id": "9fcslfZjWwcI"
      },
      "execution_count": null,
      "outputs": []
    }
  ]
}