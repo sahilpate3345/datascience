{
  "cells": [
    {
      "cell_type": "markdown",
      "metadata": {
        "id": "view-in-github",
        "colab_type": "text"
      },
      "source": [
        "<a href=\"https://colab.research.google.com/github/sahilpate3345/datascience/blob/sahil/t_test.ipynb\" target=\"_parent\"><img src=\"https://colab.research.google.com/assets/colab-badge.svg\" alt=\"Open In Colab\"/></a>"
      ]
    },
    {
      "cell_type": "code",
      "execution_count": null,
      "id": "2ae6a84a-d322-4541-856d-31c7b962c46e",
      "metadata": {
        "id": "2ae6a84a-d322-4541-856d-31c7b962c46e"
      },
      "outputs": [],
      "source": [
        "import numpy as np\n",
        "from scipy import stats"
      ]
    },
    {
      "cell_type": "code",
      "execution_count": null,
      "id": "4c410f66-060c-4f89-9394-6da017c3c4f0",
      "metadata": {
        "id": "4c410f66-060c-4f89-9394-6da017c3c4f0"
      },
      "outputs": [],
      "source": [
        "sample = [172, 174, 168, 169, 171, 173, 175, 170, 169, 172]\n",
        "sample_mean = np.mean(sample)\n",
        "sample_std = np.std(sample,ddof = 1)\n",
        "n = len(sample)\n",
        "mean_population = 170\n"
      ]
    },
    {
      "cell_type": "code",
      "execution_count": null,
      "id": "30397b83-acec-48d6-8b22-722b3778af2c",
      "metadata": {
        "id": "30397b83-acec-48d6-8b22-722b3778af2c",
        "outputId": "798fd493-1d26-48db-c6ef-cd4d85aba931"
      },
      "outputs": [
        {
          "data": {
            "text/plain": [
              "1.7782469350914734"
            ]
          },
          "execution_count": 6,
          "metadata": {},
          "output_type": "execute_result"
        }
      ],
      "source": [
        "t_stats = (sample_mean - mean_population) / (sample_std / np.sqrt(n))\n",
        "t_stats"
      ]
    },
    {
      "cell_type": "code",
      "execution_count": null,
      "id": "7ee8a755-0953-4b6c-beaf-ec789aa708ff",
      "metadata": {
        "id": "7ee8a755-0953-4b6c-beaf-ec789aa708ff"
      },
      "outputs": [],
      "source": [
        "p_value = 2 * (1 - stats.t.cdf(abs(t_stats),df = n -1 ))\n",
        "alpha = 0.05"
      ]
    },
    {
      "cell_type": "code",
      "execution_count": null,
      "id": "55db036a-9f8d-40ed-9f02-719a8d06fbef",
      "metadata": {
        "id": "55db036a-9f8d-40ed-9f02-719a8d06fbef",
        "outputId": "99b16475-d5e2-4a4a-d021-23e56483c408"
      },
      "outputs": [
        {
          "name": "stdout",
          "output_type": "stream",
          "text": [
            "accept the null hypothesis\n"
          ]
        }
      ],
      "source": [
        "if p_value < alpha:\n",
        "    print(\"reject the null hypothesis\")\n",
        "else:\n",
        "    print(\"accept the null hypothesis\")"
      ]
    },
    {
      "cell_type": "code",
      "execution_count": null,
      "id": "a9a17134-f73e-4530-90f2-2a551ead832d",
      "metadata": {
        "id": "a9a17134-f73e-4530-90f2-2a551ead832d"
      },
      "outputs": [],
      "source": []
    }
  ],
  "metadata": {
    "kernelspec": {
      "display_name": "Python [conda env:base] *",
      "language": "python",
      "name": "conda-base-py"
    },
    "language_info": {
      "codemirror_mode": {
        "name": "ipython",
        "version": 3
      },
      "file_extension": ".py",
      "mimetype": "text/x-python",
      "name": "python",
      "nbconvert_exporter": "python",
      "pygments_lexer": "ipython3",
      "version": "3.12.7"
    },
    "colab": {
      "provenance": [],
      "include_colab_link": true
    }
  },
  "nbformat": 4,
  "nbformat_minor": 5
}