{
  "cells": [
    {
      "cell_type": "markdown",
      "id": "4d5b6b2c-c78d-4ed2-b5bc-1016fb6c5df7",
      "metadata": {
        "tags": [],
        "id": "4d5b6b2c-c78d-4ed2-b5bc-1016fb6c5df7"
      },
      "source": [
        "# Data Science Test\n",
        "\n",
        "**Exam duration:**\n",
        "24 hours  \n",
        "\n",
        "**Required output:**\n",
        "The uploaded solution must be an ipython notebook (a file of type `ipynb`). All code must be written in python. All text must be written in Markdown.\n",
        "\n",
        "You may use Colab, Jupyter lab, Jupyter notebook or any other program to complete the exam.\n",
        "\n",
        "Upload your solution to Github before the deadline. You will get the upload link at bottom of the test.\n",
        "\n",
        "#### Before submission\n",
        "\n",
        "Make sure you are submitting error free code!\n",
        "\n",
        "Click Run --> Restart Kernal and Run all cells.\n",
        "\n",
        "#### Honor code\n",
        "\n",
        "As a student of AI Adventures, I **[sahil sandeep pate]** pledge to:\n",
        "\n",
        "1. Uphold the values of academic integrity, honesty, and respect in all of my academic work.\n",
        "\n",
        "2. Not engage in any form of academic misconduct, including cheating, plagiarism, or using unauthorized resources during exams.\n",
        "\n",
        "3. Commit to not using ChatGPT or any other AI language model during exam hours, and to rely only on my own knowledge, skills, and resources.\n",
        "\n",
        "4. Follow all exam rules and instructions, and not bring any unauthorized materials, devices, or resources into the exam room.\n",
        "\n",
        "5. Report any incidents of academic misconduct that I witness or become aware of, and cooperate fully with any investigation into such incidents.\n",
        "\n",
        "6. Not ask mentors questions that relate directly to coding during exams, such as \"why does my code snippet not work as expected?\" or \"how do I implement...?\"\n",
        "\n",
        "7. If I am stuck with implementation during an exam, I am allowed to use Google as a resource.\n",
        "\n",
        "By signing this pledge, I commit to upholding the highest standards of academic integrity and to avoiding all forms of cheating or academic misconduct during my studies at AI Adventures. I understand that violating this pledge may result in disciplinary actions.\n"
      ]
    },
    {
      "cell_type": "markdown",
      "id": "d9436835-161b-447c-997c-23a36b991bf1",
      "metadata": {
        "id": "d9436835-161b-447c-997c-23a36b991bf1"
      },
      "source": [
        "#### Answering the questions\n",
        "Most of the questions require you to implement something in Python but there might be some questions for which you do not need to write any code.\n",
        "\n",
        "For code questions (that is - almost all questions): you are required to show the **python** code you used to find the answer. An answer found using excel or other tools will not be accepted. The code should also be general, so that it would still work if the data were to change.\n",
        "\n",
        "The code output should only show the answer to the question with no extras. For example: if asked on 2018 data, show only 2018 data (and not 2015-2017 data in addition).\n",
        "\n",
        "We provide cells in which you can type your answer. Use can modify the to `Code` or `Markdown`. Use `Code` to write python code, and `Markdown` for explanations.  \n",
        "\n",
        "You are not required to use all the cells we provide, and you are also not required to use only the cells we provide. You may add or remove answer cell as you need."
      ]
    },
    {
      "cell_type": "markdown",
      "id": "5db84584-ca28-4bd8-962e-0cd4febec6b9",
      "metadata": {
        "id": "5db84584-ca28-4bd8-962e-0cd4febec6b9"
      },
      "source": [
        "#### Libraries\n",
        "\n",
        "To answer the questions you may use:\n",
        "- any library you prefer (not necessarily the ones which were presented in the course)\n",
        "- all materials that we have provided you during the courses\n",
        "- the whole www (especially documentation of libraries and sites like stackoverflow may give you useful hints)\n",
        "\n",
        "In case something does not work as expected, check that you have the most recent version of the library.\n",
        "\n",
        "You can update your used libraries with a command like the following:"
      ]
    },
    {
      "cell_type": "code",
      "execution_count": null,
      "id": "4c8766a7-dde1-42e6-b70c-dea0ebe26fee",
      "metadata": {
        "id": "4c8766a7-dde1-42e6-b70c-dea0ebe26fee"
      },
      "outputs": [],
      "source": [
        "# !pip install -U <library_name>\n",
        "# remove the '#' sign in case you want to update any of the libraries"
      ]
    },
    {
      "cell_type": "markdown",
      "id": "26de46dc-6734-44b6-bdfb-e44241180149",
      "metadata": {
        "id": "26de46dc-6734-44b6-bdfb-e44241180149"
      },
      "source": [
        "# Good Luck!"
      ]
    },
    {
      "cell_type": "markdown",
      "id": "4225ae74-929b-4032-8315-797a9a62ddf8",
      "metadata": {
        "id": "4225ae74-929b-4032-8315-797a9a62ddf8"
      },
      "source": [
        "---"
      ]
    },
    {
      "cell_type": "markdown",
      "id": "ec685944-6a9c-40fc-9b94-80693afbb2bc",
      "metadata": {
        "jp-MarkdownHeadingCollapsed": true,
        "tags": [],
        "id": "ec685944-6a9c-40fc-9b94-80693afbb2bc"
      },
      "source": [
        "## The dataset\n",
        "\n",
        "Wildlife strikes with aircraft are increasing worldwide. Collecting and analyzing accurate data on wildlife strikes helps to better understand the scope and nature of the problem.\\\n",
        "In this exam, you will work with data on aircraft-wildlife collisions, courtesy of the [Federal Aviation Administration](https://wildlife.faa.gov/search)\\\n",
        "This dataset contains reports received from airlines, airports, pilots on aircraft collisions with wildlife.\\\n",
        "See the file: `about_the_dataset.xlsx` for an explanation on the columns in the dataset.\n"
      ]
    },
    {
      "cell_type": "markdown",
      "id": "f464ba11-8eb8-4c3b-80c6-db7dc3012a91",
      "metadata": {
        "jp-MarkdownHeadingCollapsed": true,
        "tags": [],
        "id": "f464ba11-8eb8-4c3b-80c6-db7dc3012a91"
      },
      "source": [
        "## Task 1 - Code of honor (mandatory, no points):"
      ]
    },
    {
      "cell_type": "markdown",
      "id": "ee969b1f-79f8-4f25-8f74-71dad2de9c13",
      "metadata": {
        "id": "ee969b1f-79f8-4f25-8f74-71dad2de9c13"
      },
      "source": [
        "Please copy the following sentence and add your full name:\n",
        "\n",
        "As a student of AI Adventures, I `enter_your_name here` pledge to:\n",
        "\n",
        "1. Uphold the values of academic integrity, honesty, and respect in all of my academic work.\n",
        "\n",
        "2. Not engage in any form of academic misconduct, including cheating, plagiarism, or using unauthorized resources during exams.\n",
        "\n",
        "3. Commit to not using ChatGPT or any other AI language model during exam hours, and to rely only on my own knowledge, skills, and resources.\n",
        "\n",
        "4. Follow all exam rules and instructions, and not bring any unauthorized materials, devices, or resources into the exam room.\n",
        "\n",
        "5. Report any incidents of academic misconduct that I witness or become aware of, and cooperate fully with any investigation into such incidents.\n",
        "\n",
        "6. Not ask mentors questions that relate directly to coding during exams, such as \"why does my code snippet not work as expected?\" or \"how do I implement...?\"\n",
        "\n",
        "7. If I am stuck with implementation during an exam, I am allowed to use Google as a resource.\n",
        "\n",
        "By signing this pledge, I commit to upholding the highest standards of academic integrity and to avoiding all forms of cheating or academic misconduct during my studies at AI Adventures. I understand that violating this pledge may result in disciplinary actions."
      ]
    },
    {
      "cell_type": "markdown",
      "source": [
        "-------------------------------------------------------------------------------------"
      ],
      "metadata": {
        "id": "VGCzSEiIgw86"
      },
      "id": "VGCzSEiIgw86"
    },
    {
      "cell_type": "markdown",
      "id": "953aa328-510c-4f48-97ee-25d1c592ca3c",
      "metadata": {
        "jp-MarkdownHeadingCollapsed": true,
        "tags": [],
        "id": "953aa328-510c-4f48-97ee-25d1c592ca3c"
      },
      "source": [
        "## Task 2 - Data Import"
      ]
    },
    {
      "cell_type": "code",
      "source": [
        "from urllib import request\n",
        "import pandas as pd\n",
        "module_urls = [\"https://media.githubusercontent.com/media/Ai-Adventures/Test_Datasets/main/strikes_from_2020.csv\",\"https://media.githubusercontent.com/media/Ai-Adventures/Test_Datasets/main/strikes_until_2020.csv\"]\n",
        "for url in module_urls:\n",
        "  print(f'Fetching {url}')\n",
        "  module_name = url.split('/')[-1]\n",
        "  #with open(\"file_1.txt\") as f1, open(\"file_2.txt\") as f2\n",
        "  with request.urlopen(url) as f, open(module_name,'w') as outf:\n",
        "    a = f.read()\n",
        "    outf.write(a.decode('utf-8'))\n",
        "\n",
        "# this fills empty cells with empty strings\n",
        "\n",
        "\n",
        "\n",
        "\n",
        "\n",
        "\n",
        "\n",
        "\n",
        "\n",
        "\n",
        "\n",
        "\n"
      ],
      "metadata": {
        "id": "288wssmtkG_O",
        "colab": {
          "base_uri": "https://localhost:8080/"
        },
        "outputId": "a9678da6-b9c8-4d2c-9846-51e77be6ee90"
      },
      "id": "288wssmtkG_O",
      "execution_count": null,
      "outputs": [
        {
          "output_type": "stream",
          "name": "stdout",
          "text": [
            "Fetching https://media.githubusercontent.com/media/Ai-Adventures/Test_Datasets/main/strikes_from_2020.csv\n",
            "Fetching https://media.githubusercontent.com/media/Ai-Adventures/Test_Datasets/main/strikes_until_2020.csv\n"
          ]
        }
      ]
    },
    {
      "cell_type": "markdown",
      "id": "98f76b7c-8c5c-4b8e-ac79-19423bf83b3a",
      "metadata": {
        "tags": [],
        "id": "98f76b7c-8c5c-4b8e-ac79-19423bf83b3a"
      },
      "source": [
        "You will find two files:\\\n",
        "`strikes_until_2020.csv` - contains data on reported strikes up until 2020.\\\n",
        "`strikes_from_2020.csv` - contains data on reported strikes from the beginning of 2020 and onward.\n",
        "\n",
        "#### Task 2.1\n",
        "Place the files in the same directory with this python notebook.\n",
        "\n",
        "Read the files into dataframes. If you are unsure how to import a file\n",
        "using column names from a list, have a look at the documentation of the function that you use\n",
        "for the import. You may want to look into the original csv-file to find out how to configure the import.\\\n",
        "Note: you might encounter a `DtypeWarning` when reading the files. You can ignore this warning."
      ]
    },
    {
      "cell_type": "code",
      "execution_count": null,
      "id": "990595c6-2bd8-4bc4-b909-268c5ac6f606",
      "metadata": {
        "id": "990595c6-2bd8-4bc4-b909-268c5ac6f606"
      },
      "outputs": [],
      "source": [
        "import pandas as pd\n",
        "\n",
        "df1 = pd.read_csv('strikes_until_2020.csv',dtype='str')\n",
        "df2 = pd.read_csv('strikes_from_2020.csv',dtype='str')\n"
      ]
    },
    {
      "cell_type": "markdown",
      "id": "a0a2915c-5c87-4898-bc40-16cfddd21f51",
      "metadata": {
        "id": "a0a2915c-5c87-4898-bc40-16cfddd21f51"
      },
      "source": [
        "#### Task 2.2\n",
        "How many rows and how many columns does each dataframe contain?"
      ]
    },
    {
      "cell_type": "code",
      "execution_count": null,
      "id": "80c9fd2c-ef4f-4d8e-a4cf-8bdf0682a6df",
      "metadata": {
        "id": "80c9fd2c-ef4f-4d8e-a4cf-8bdf0682a6df",
        "colab": {
          "base_uri": "https://localhost:8080/",
          "height": 446
        },
        "outputId": "0f725eb1-1092-4351-a78c-e6c6bd749a54"
      },
      "outputs": [
        {
          "output_type": "execute_result",
          "data": {
            "text/plain": [
              "  Unnamed: 0 INDEX_NR    INCIDENT_DATE INCIDENT_MONTH INCIDENT_YEAR   TIME  \\\n",
              "0     224953  1082851  05/01/2021 0:00              1          2021    NaN   \n",
              "1     224997  1082943  01/01/2021 0:00              1          2021   8:25   \n",
              "2     224998  1082950  02/01/2021 0:00              1          2021   1:01   \n",
              "3     224999  1082951  02/01/2021 0:00              1          2021   1:55   \n",
              "4     225000  1082953  01/01/2021 0:00              1          2021  15:30   \n",
              "\n",
              "  TIME_OF_DAY AIRPORT_ID                     AIRPORT   LATITUDE  ...  \\\n",
              "0         NaN       MNMG           MANAGUA INTL ARPT  12.141494  ...   \n",
              "1         NaN       KRFD  CHICAGO/ROCKFORD INTL ARPT   42.19536  ...   \n",
              "2         NaN       KTPA                  TAMPA INTL   27.97547  ...   \n",
              "3         NaN       KTPA                  TAMPA INTL   27.97547  ...   \n",
              "4        Dusk       KEVV         EVANSVILLE REGIONAL   38.03799  ...   \n",
              "\n",
              "  ENROUTE_STATE NR_INJURIES NR_FATALITIES COMMENTS REPORTED_NAME  \\\n",
              "0           NaN         NaN           NaN      NaN      REDACTED   \n",
              "1           NaN         NaN           NaN      NaN      REDACTED   \n",
              "2           NaN         NaN           NaN      NaN      REDACTED   \n",
              "3           NaN         NaN           NaN      NaN      REDACTED   \n",
              "4           NaN         NaN           NaN      NaN      REDACTED   \n",
              "\n",
              "  REPORTED_TITLE                SOURCE                    PERSON  \\\n",
              "0       REDACTED  Air Transport Report  Air Transport Operations   \n",
              "1       REDACTED     FAA Form 5200-7-E             Carcass Found   \n",
              "2       REDACTED     FAA Form 5200-7-E             Carcass Found   \n",
              "3       REDACTED     FAA Form 5200-7-E             Carcass Found   \n",
              "4       REDACTED     FAA Form 5200-7-E        Airport Operations   \n",
              "\n",
              "           LUPDATE TRANSFER  \n",
              "0  06/01/2021 0:00        0  \n",
              "1  06/01/2021 0:00        0  \n",
              "2  06/01/2021 0:00        0  \n",
              "3  06/01/2021 0:00        0  \n",
              "4  06/01/2021 0:00        0  \n",
              "\n",
              "[5 rows x 102 columns]"
            ],
            "text/html": [
              "\n",
              "  <div id=\"df-59f7f1c7-f8e7-49b6-9040-e8429d82a00c\" class=\"colab-df-container\">\n",
              "    <div>\n",
              "<style scoped>\n",
              "    .dataframe tbody tr th:only-of-type {\n",
              "        vertical-align: middle;\n",
              "    }\n",
              "\n",
              "    .dataframe tbody tr th {\n",
              "        vertical-align: top;\n",
              "    }\n",
              "\n",
              "    .dataframe thead th {\n",
              "        text-align: right;\n",
              "    }\n",
              "</style>\n",
              "<table border=\"1\" class=\"dataframe\">\n",
              "  <thead>\n",
              "    <tr style=\"text-align: right;\">\n",
              "      <th></th>\n",
              "      <th>Unnamed: 0</th>\n",
              "      <th>INDEX_NR</th>\n",
              "      <th>INCIDENT_DATE</th>\n",
              "      <th>INCIDENT_MONTH</th>\n",
              "      <th>INCIDENT_YEAR</th>\n",
              "      <th>TIME</th>\n",
              "      <th>TIME_OF_DAY</th>\n",
              "      <th>AIRPORT_ID</th>\n",
              "      <th>AIRPORT</th>\n",
              "      <th>LATITUDE</th>\n",
              "      <th>...</th>\n",
              "      <th>ENROUTE_STATE</th>\n",
              "      <th>NR_INJURIES</th>\n",
              "      <th>NR_FATALITIES</th>\n",
              "      <th>COMMENTS</th>\n",
              "      <th>REPORTED_NAME</th>\n",
              "      <th>REPORTED_TITLE</th>\n",
              "      <th>SOURCE</th>\n",
              "      <th>PERSON</th>\n",
              "      <th>LUPDATE</th>\n",
              "      <th>TRANSFER</th>\n",
              "    </tr>\n",
              "  </thead>\n",
              "  <tbody>\n",
              "    <tr>\n",
              "      <th>0</th>\n",
              "      <td>224953</td>\n",
              "      <td>1082851</td>\n",
              "      <td>05/01/2021 0:00</td>\n",
              "      <td>1</td>\n",
              "      <td>2021</td>\n",
              "      <td>NaN</td>\n",
              "      <td>NaN</td>\n",
              "      <td>MNMG</td>\n",
              "      <td>MANAGUA INTL ARPT</td>\n",
              "      <td>12.141494</td>\n",
              "      <td>...</td>\n",
              "      <td>NaN</td>\n",
              "      <td>NaN</td>\n",
              "      <td>NaN</td>\n",
              "      <td>NaN</td>\n",
              "      <td>REDACTED</td>\n",
              "      <td>REDACTED</td>\n",
              "      <td>Air Transport Report</td>\n",
              "      <td>Air Transport Operations</td>\n",
              "      <td>06/01/2021 0:00</td>\n",
              "      <td>0</td>\n",
              "    </tr>\n",
              "    <tr>\n",
              "      <th>1</th>\n",
              "      <td>224997</td>\n",
              "      <td>1082943</td>\n",
              "      <td>01/01/2021 0:00</td>\n",
              "      <td>1</td>\n",
              "      <td>2021</td>\n",
              "      <td>8:25</td>\n",
              "      <td>NaN</td>\n",
              "      <td>KRFD</td>\n",
              "      <td>CHICAGO/ROCKFORD INTL ARPT</td>\n",
              "      <td>42.19536</td>\n",
              "      <td>...</td>\n",
              "      <td>NaN</td>\n",
              "      <td>NaN</td>\n",
              "      <td>NaN</td>\n",
              "      <td>NaN</td>\n",
              "      <td>REDACTED</td>\n",
              "      <td>REDACTED</td>\n",
              "      <td>FAA Form 5200-7-E</td>\n",
              "      <td>Carcass Found</td>\n",
              "      <td>06/01/2021 0:00</td>\n",
              "      <td>0</td>\n",
              "    </tr>\n",
              "    <tr>\n",
              "      <th>2</th>\n",
              "      <td>224998</td>\n",
              "      <td>1082950</td>\n",
              "      <td>02/01/2021 0:00</td>\n",
              "      <td>1</td>\n",
              "      <td>2021</td>\n",
              "      <td>1:01</td>\n",
              "      <td>NaN</td>\n",
              "      <td>KTPA</td>\n",
              "      <td>TAMPA INTL</td>\n",
              "      <td>27.97547</td>\n",
              "      <td>...</td>\n",
              "      <td>NaN</td>\n",
              "      <td>NaN</td>\n",
              "      <td>NaN</td>\n",
              "      <td>NaN</td>\n",
              "      <td>REDACTED</td>\n",
              "      <td>REDACTED</td>\n",
              "      <td>FAA Form 5200-7-E</td>\n",
              "      <td>Carcass Found</td>\n",
              "      <td>06/01/2021 0:00</td>\n",
              "      <td>0</td>\n",
              "    </tr>\n",
              "    <tr>\n",
              "      <th>3</th>\n",
              "      <td>224999</td>\n",
              "      <td>1082951</td>\n",
              "      <td>02/01/2021 0:00</td>\n",
              "      <td>1</td>\n",
              "      <td>2021</td>\n",
              "      <td>1:55</td>\n",
              "      <td>NaN</td>\n",
              "      <td>KTPA</td>\n",
              "      <td>TAMPA INTL</td>\n",
              "      <td>27.97547</td>\n",
              "      <td>...</td>\n",
              "      <td>NaN</td>\n",
              "      <td>NaN</td>\n",
              "      <td>NaN</td>\n",
              "      <td>NaN</td>\n",
              "      <td>REDACTED</td>\n",
              "      <td>REDACTED</td>\n",
              "      <td>FAA Form 5200-7-E</td>\n",
              "      <td>Carcass Found</td>\n",
              "      <td>06/01/2021 0:00</td>\n",
              "      <td>0</td>\n",
              "    </tr>\n",
              "    <tr>\n",
              "      <th>4</th>\n",
              "      <td>225000</td>\n",
              "      <td>1082953</td>\n",
              "      <td>01/01/2021 0:00</td>\n",
              "      <td>1</td>\n",
              "      <td>2021</td>\n",
              "      <td>15:30</td>\n",
              "      <td>Dusk</td>\n",
              "      <td>KEVV</td>\n",
              "      <td>EVANSVILLE REGIONAL</td>\n",
              "      <td>38.03799</td>\n",
              "      <td>...</td>\n",
              "      <td>NaN</td>\n",
              "      <td>NaN</td>\n",
              "      <td>NaN</td>\n",
              "      <td>NaN</td>\n",
              "      <td>REDACTED</td>\n",
              "      <td>REDACTED</td>\n",
              "      <td>FAA Form 5200-7-E</td>\n",
              "      <td>Airport Operations</td>\n",
              "      <td>06/01/2021 0:00</td>\n",
              "      <td>0</td>\n",
              "    </tr>\n",
              "  </tbody>\n",
              "</table>\n",
              "<p>5 rows × 102 columns</p>\n",
              "</div>\n",
              "    <div class=\"colab-df-buttons\">\n",
              "\n",
              "  <div class=\"colab-df-container\">\n",
              "    <button class=\"colab-df-convert\" onclick=\"convertToInteractive('df-59f7f1c7-f8e7-49b6-9040-e8429d82a00c')\"\n",
              "            title=\"Convert this dataframe to an interactive table.\"\n",
              "            style=\"display:none;\">\n",
              "\n",
              "  <svg xmlns=\"http://www.w3.org/2000/svg\" height=\"24px\" viewBox=\"0 -960 960 960\">\n",
              "    <path d=\"M120-120v-720h720v720H120Zm60-500h600v-160H180v160Zm220 220h160v-160H400v160Zm0 220h160v-160H400v160ZM180-400h160v-160H180v160Zm440 0h160v-160H620v160ZM180-180h160v-160H180v160Zm440 0h160v-160H620v160Z\"/>\n",
              "  </svg>\n",
              "    </button>\n",
              "\n",
              "  <style>\n",
              "    .colab-df-container {\n",
              "      display:flex;\n",
              "      gap: 12px;\n",
              "    }\n",
              "\n",
              "    .colab-df-convert {\n",
              "      background-color: #E8F0FE;\n",
              "      border: none;\n",
              "      border-radius: 50%;\n",
              "      cursor: pointer;\n",
              "      display: none;\n",
              "      fill: #1967D2;\n",
              "      height: 32px;\n",
              "      padding: 0 0 0 0;\n",
              "      width: 32px;\n",
              "    }\n",
              "\n",
              "    .colab-df-convert:hover {\n",
              "      background-color: #E2EBFA;\n",
              "      box-shadow: 0px 1px 2px rgba(60, 64, 67, 0.3), 0px 1px 3px 1px rgba(60, 64, 67, 0.15);\n",
              "      fill: #174EA6;\n",
              "    }\n",
              "\n",
              "    .colab-df-buttons div {\n",
              "      margin-bottom: 4px;\n",
              "    }\n",
              "\n",
              "    [theme=dark] .colab-df-convert {\n",
              "      background-color: #3B4455;\n",
              "      fill: #D2E3FC;\n",
              "    }\n",
              "\n",
              "    [theme=dark] .colab-df-convert:hover {\n",
              "      background-color: #434B5C;\n",
              "      box-shadow: 0px 1px 3px 1px rgba(0, 0, 0, 0.15);\n",
              "      filter: drop-shadow(0px 1px 2px rgba(0, 0, 0, 0.3));\n",
              "      fill: #FFFFFF;\n",
              "    }\n",
              "  </style>\n",
              "\n",
              "    <script>\n",
              "      const buttonEl =\n",
              "        document.querySelector('#df-59f7f1c7-f8e7-49b6-9040-e8429d82a00c button.colab-df-convert');\n",
              "      buttonEl.style.display =\n",
              "        google.colab.kernel.accessAllowed ? 'block' : 'none';\n",
              "\n",
              "      async function convertToInteractive(key) {\n",
              "        const element = document.querySelector('#df-59f7f1c7-f8e7-49b6-9040-e8429d82a00c');\n",
              "        const dataTable =\n",
              "          await google.colab.kernel.invokeFunction('convertToInteractive',\n",
              "                                                    [key], {});\n",
              "        if (!dataTable) return;\n",
              "\n",
              "        const docLinkHtml = 'Like what you see? Visit the ' +\n",
              "          '<a target=\"_blank\" href=https://colab.research.google.com/notebooks/data_table.ipynb>data table notebook</a>'\n",
              "          + ' to learn more about interactive tables.';\n",
              "        element.innerHTML = '';\n",
              "        dataTable['output_type'] = 'display_data';\n",
              "        await google.colab.output.renderOutput(dataTable, element);\n",
              "        const docLink = document.createElement('div');\n",
              "        docLink.innerHTML = docLinkHtml;\n",
              "        element.appendChild(docLink);\n",
              "      }\n",
              "    </script>\n",
              "  </div>\n",
              "\n",
              "\n",
              "    <div id=\"df-ded4303d-d12a-4348-9542-edb9d8ef3fa0\">\n",
              "      <button class=\"colab-df-quickchart\" onclick=\"quickchart('df-ded4303d-d12a-4348-9542-edb9d8ef3fa0')\"\n",
              "                title=\"Suggest charts\"\n",
              "                style=\"display:none;\">\n",
              "\n",
              "<svg xmlns=\"http://www.w3.org/2000/svg\" height=\"24px\"viewBox=\"0 0 24 24\"\n",
              "     width=\"24px\">\n",
              "    <g>\n",
              "        <path d=\"M19 3H5c-1.1 0-2 .9-2 2v14c0 1.1.9 2 2 2h14c1.1 0 2-.9 2-2V5c0-1.1-.9-2-2-2zM9 17H7v-7h2v7zm4 0h-2V7h2v10zm4 0h-2v-4h2v4z\"/>\n",
              "    </g>\n",
              "</svg>\n",
              "      </button>\n",
              "\n",
              "<style>\n",
              "  .colab-df-quickchart {\n",
              "      --bg-color: #E8F0FE;\n",
              "      --fill-color: #1967D2;\n",
              "      --hover-bg-color: #E2EBFA;\n",
              "      --hover-fill-color: #174EA6;\n",
              "      --disabled-fill-color: #AAA;\n",
              "      --disabled-bg-color: #DDD;\n",
              "  }\n",
              "\n",
              "  [theme=dark] .colab-df-quickchart {\n",
              "      --bg-color: #3B4455;\n",
              "      --fill-color: #D2E3FC;\n",
              "      --hover-bg-color: #434B5C;\n",
              "      --hover-fill-color: #FFFFFF;\n",
              "      --disabled-bg-color: #3B4455;\n",
              "      --disabled-fill-color: #666;\n",
              "  }\n",
              "\n",
              "  .colab-df-quickchart {\n",
              "    background-color: var(--bg-color);\n",
              "    border: none;\n",
              "    border-radius: 50%;\n",
              "    cursor: pointer;\n",
              "    display: none;\n",
              "    fill: var(--fill-color);\n",
              "    height: 32px;\n",
              "    padding: 0;\n",
              "    width: 32px;\n",
              "  }\n",
              "\n",
              "  .colab-df-quickchart:hover {\n",
              "    background-color: var(--hover-bg-color);\n",
              "    box-shadow: 0 1px 2px rgba(60, 64, 67, 0.3), 0 1px 3px 1px rgba(60, 64, 67, 0.15);\n",
              "    fill: var(--button-hover-fill-color);\n",
              "  }\n",
              "\n",
              "  .colab-df-quickchart-complete:disabled,\n",
              "  .colab-df-quickchart-complete:disabled:hover {\n",
              "    background-color: var(--disabled-bg-color);\n",
              "    fill: var(--disabled-fill-color);\n",
              "    box-shadow: none;\n",
              "  }\n",
              "\n",
              "  .colab-df-spinner {\n",
              "    border: 2px solid var(--fill-color);\n",
              "    border-color: transparent;\n",
              "    border-bottom-color: var(--fill-color);\n",
              "    animation:\n",
              "      spin 1s steps(1) infinite;\n",
              "  }\n",
              "\n",
              "  @keyframes spin {\n",
              "    0% {\n",
              "      border-color: transparent;\n",
              "      border-bottom-color: var(--fill-color);\n",
              "      border-left-color: var(--fill-color);\n",
              "    }\n",
              "    20% {\n",
              "      border-color: transparent;\n",
              "      border-left-color: var(--fill-color);\n",
              "      border-top-color: var(--fill-color);\n",
              "    }\n",
              "    30% {\n",
              "      border-color: transparent;\n",
              "      border-left-color: var(--fill-color);\n",
              "      border-top-color: var(--fill-color);\n",
              "      border-right-color: var(--fill-color);\n",
              "    }\n",
              "    40% {\n",
              "      border-color: transparent;\n",
              "      border-right-color: var(--fill-color);\n",
              "      border-top-color: var(--fill-color);\n",
              "    }\n",
              "    60% {\n",
              "      border-color: transparent;\n",
              "      border-right-color: var(--fill-color);\n",
              "    }\n",
              "    80% {\n",
              "      border-color: transparent;\n",
              "      border-right-color: var(--fill-color);\n",
              "      border-bottom-color: var(--fill-color);\n",
              "    }\n",
              "    90% {\n",
              "      border-color: transparent;\n",
              "      border-bottom-color: var(--fill-color);\n",
              "    }\n",
              "  }\n",
              "</style>\n",
              "\n",
              "      <script>\n",
              "        async function quickchart(key) {\n",
              "          const quickchartButtonEl =\n",
              "            document.querySelector('#' + key + ' button');\n",
              "          quickchartButtonEl.disabled = true;  // To prevent multiple clicks.\n",
              "          quickchartButtonEl.classList.add('colab-df-spinner');\n",
              "          try {\n",
              "            const charts = await google.colab.kernel.invokeFunction(\n",
              "                'suggestCharts', [key], {});\n",
              "          } catch (error) {\n",
              "            console.error('Error during call to suggestCharts:', error);\n",
              "          }\n",
              "          quickchartButtonEl.classList.remove('colab-df-spinner');\n",
              "          quickchartButtonEl.classList.add('colab-df-quickchart-complete');\n",
              "        }\n",
              "        (() => {\n",
              "          let quickchartButtonEl =\n",
              "            document.querySelector('#df-ded4303d-d12a-4348-9542-edb9d8ef3fa0 button');\n",
              "          quickchartButtonEl.style.display =\n",
              "            google.colab.kernel.accessAllowed ? 'block' : 'none';\n",
              "        })();\n",
              "      </script>\n",
              "    </div>\n",
              "\n",
              "    </div>\n",
              "  </div>\n"
            ],
            "application/vnd.google.colaboratory.intrinsic+json": {
              "type": "dataframe",
              "variable_name": "df2"
            }
          },
          "metadata": {},
          "execution_count": 63
        }
      ],
      "source": [
        "df1.head()\n",
        "df2.head()"
      ]
    },
    {
      "cell_type": "markdown",
      "id": "b49dde67-7cd5-4363-adfe-4e745ec15add",
      "metadata": {
        "id": "b49dde67-7cd5-4363-adfe-4e745ec15add"
      },
      "source": [
        "#### Task 2.3\n",
        "Present all of column names of one of the dataframes"
      ]
    },
    {
      "cell_type": "code",
      "execution_count": null,
      "id": "b9cb7898-8c9e-4062-a07a-35320b25bfb5",
      "metadata": {
        "id": "b9cb7898-8c9e-4062-a07a-35320b25bfb5",
        "colab": {
          "base_uri": "https://localhost:8080/"
        },
        "outputId": "00ac92ce-a977-43b2-9f97-ea112b01357f"
      },
      "outputs": [
        {
          "output_type": "stream",
          "name": "stdout",
          "text": [
            "Index(['Unnamed: 0', 'INDEX_NR', 'INCIDENT_DATE', 'INCIDENT_MONTH',\n",
            "       'INCIDENT_YEAR', 'TIME', 'TIME_OF_DAY', 'AIRPORT_ID', 'AIRPORT',\n",
            "       'LATITUDE',\n",
            "       ...\n",
            "       'ENROUTE_STATE', 'NR_INJURIES', 'NR_FATALITIES', 'COMMENTS',\n",
            "       'REPORTED_NAME', 'REPORTED_TITLE', 'SOURCE', 'PERSON', 'LUPDATE',\n",
            "       'TRANSFER'],\n",
            "      dtype='object', length=102)\n",
            "Index(['Unnamed: 0', 'INDEX_NR', 'INCIDENT_DATE', 'INCIDENT_MONTH',\n",
            "       'INCIDENT_YEAR', 'TIME', 'TIME_OF_DAY', 'AIRPORT_ID', 'AIRPORT',\n",
            "       'LATITUDE',\n",
            "       ...\n",
            "       'ENROUTE_STATE', 'NR_INJURIES', 'NR_FATALITIES', 'COMMENTS',\n",
            "       'REPORTED_NAME', 'REPORTED_TITLE', 'SOURCE', 'PERSON', 'LUPDATE',\n",
            "       'TRANSFER'],\n",
            "      dtype='object', length=102)\n"
          ]
        }
      ],
      "source": [
        "print(df1.columns)\n",
        "print(df2.columns)\n"
      ]
    },
    {
      "cell_type": "markdown",
      "id": "e16e85fa-7c3c-4402-8c48-ea9fb09fa450",
      "metadata": {
        "jp-MarkdownHeadingCollapsed": true,
        "tags": [],
        "id": "e16e85fa-7c3c-4402-8c48-ea9fb09fa450"
      },
      "source": [
        "## Task 3 - Data Preprocessing"
      ]
    },
    {
      "cell_type": "markdown",
      "id": "6c27d5c2-e2c3-40ac-a5f4-605a80d176ff",
      "metadata": {
        "tags": [],
        "id": "6c27d5c2-e2c3-40ac-a5f4-605a80d176ff"
      },
      "source": [
        "#### Task 3.1\n",
        "Combine the two dataframes: `strikes_until_2020` and `strikes_from_2020` into one dataframe named `all_strikes`. \\\n",
        "Present three rows of the dataframe."
      ]
    },
    {
      "cell_type": "code",
      "execution_count": null,
      "id": "37872430-f7d3-41fd-a033-4c60bd9bd241",
      "metadata": {
        "id": "37872430-f7d3-41fd-a033-4c60bd9bd241",
        "colab": {
          "base_uri": "https://localhost:8080/"
        },
        "outputId": "bbaccaae-90a1-4d80-e758-c96817492c97"
      },
      "outputs": [
        {
          "output_type": "stream",
          "name": "stdout",
          "text": [
            "  Unnamed: 0 INDEX_NR    INCIDENT_DATE INCIDENT_MONTH INCIDENT_YEAR TIME  \\\n",
            "0          0   608247  06/05/1991 0:00              5          1991  NaN   \n",
            "1          1   608248  05/11/1993 0:00             11          1993  NaN   \n",
            "2          2   608249  02/07/1995 0:00              7          1995  NaN   \n",
            "\n",
            "  TIME_OF_DAY AIRPORT_ID           AIRPORT  LATITUDE  ... ENROUTE_STATE  \\\n",
            "0         Day       KSAT  SAN ANTONIO INTL  29.53369  ...           NaN   \n",
            "1        Dawn       KMCI  KANSAS CITY INTL  39.29761  ...           NaN   \n",
            "2         NaN       KMCI  KANSAS CITY INTL  39.29761  ...           NaN   \n",
            "\n",
            "  NR_INJURIES NR_FATALITIES  \\\n",
            "0         NaN           NaN   \n",
            "1         NaN           NaN   \n",
            "2         NaN           NaN   \n",
            "\n",
            "                                            COMMENTS REPORTED_NAME  \\\n",
            "0      SOURCE = FAA FROM 3830 /Legacy Record=100006/      REDACTED   \n",
            "1  THIS MAY BE DUPL STRIKE FOR AIR MIDWEST, BUT T...      REDACTED   \n",
            "2                             /Legacy Record=100008/      REDACTED   \n",
            "\n",
            "  REPORTED_TITLE                SOURCE                    PERSON  \\\n",
            "0       REDACTED                 Other                     Pilot   \n",
            "1       REDACTED       FAA Form 5200-7                       NaN   \n",
            "2       REDACTED  Air Transport Report  Air Transport Operations   \n",
            "\n",
            "           LUPDATE TRANSFER  \n",
            "0  21/11/1997 0:00        0  \n",
            "1  13/05/1998 0:00        0  \n",
            "2  20/12/2007 0:00        0  \n",
            "\n",
            "[3 rows x 102 columns]\n"
          ]
        }
      ],
      "source": [
        "all_strikes=pd.concat([df1,df2])\n",
        "print(all_strikes.head(3))"
      ]
    },
    {
      "cell_type": "markdown",
      "id": "3d11c4c3-6b3e-4d53-958d-7dff924ab477",
      "metadata": {
        "tags": [],
        "id": "3d11c4c3-6b3e-4d53-958d-7dff924ab477"
      },
      "source": [
        "#### Task 3.2\n",
        "\n",
        "Remove from the dataframe  columns that contain more than 60,000 missing values. How many columns are left?\\\n",
        "Note: in this question, as in the next ones, make sure to assign back to `all_strikes`"
      ]
    },
    {
      "cell_type": "code",
      "source": [
        "all_strikes=all_strikes.loc[:,all_strikes.isnull().sum()<=60000]\n",
        "print(\"number column left\",all_strikes.shape[1])"
      ],
      "metadata": {
        "colab": {
          "base_uri": "https://localhost:8080/"
        },
        "id": "cxAa4HdDNP3U",
        "outputId": "109260f2-eae1-42e7-a1af-b443ce54c6a0"
      },
      "id": "cxAa4HdDNP3U",
      "execution_count": null,
      "outputs": [
        {
          "output_type": "stream",
          "name": "stdout",
          "text": [
            "number column left 64\n"
          ]
        }
      ]
    },
    {
      "cell_type": "markdown",
      "id": "c19c4ce1-c7a0-4e92-b6aa-7f92f962acca",
      "metadata": {
        "tags": [],
        "id": "c19c4ce1-c7a0-4e92-b6aa-7f92f962acca"
      },
      "source": [
        "#### Task 3.3\n",
        "Remove columns that contain the same values in ALL rows.\\\n",
        "Print the names of the columns you removed."
      ]
    },
    {
      "cell_type": "code",
      "execution_count": null,
      "id": "cca39b47-6f50-4daf-8c68-af6b501f348d",
      "metadata": {
        "id": "cca39b47-6f50-4daf-8c68-af6b501f348d",
        "colab": {
          "base_uri": "https://localhost:8080/"
        },
        "outputId": "75e103dc-8032-4915-e5f8-b01fb123fe8c"
      },
      "outputs": [
        {
          "output_type": "stream",
          "name": "stdout",
          "text": [
            "Columns removed (same value in all rows):\n",
            "['STR_STR', 'REPORTED_NAME', 'REPORTED_TITLE', 'TRANSFER']\n"
          ]
        }
      ],
      "source": [
        "\n",
        "r = [col for col in all_strikes.columns if all_strikes[col].nunique() == 1]\n",
        "print(\"Columns removed (same value in all rows):\")\n",
        "print(r)\n",
        "all_strikes = all_strikes.drop(columns=r)\n",
        "\n",
        "\n",
        "\n",
        "\n"
      ]
    },
    {
      "cell_type": "markdown",
      "id": "18f3576f-23ac-42c2-a614-d345ebb6bec3",
      "metadata": {
        "tags": [],
        "id": "18f3576f-23ac-42c2-a614-d345ebb6bec3"
      },
      "source": [
        "#### Task 3.4\n",
        "\n",
        "Set the datatype of the date column to be of type datetime.\\\n",
        "This may prove to be a little tricky. You can use: `all_strikes['INCIDENT_DATE'].str[:-5]` to help."
      ]
    },
    {
      "cell_type": "code",
      "execution_count": null,
      "id": "a8c4e432-37e2-473b-ba13-7678a0b8f54e",
      "metadata": {
        "id": "a8c4e432-37e2-473b-ba13-7678a0b8f54e"
      },
      "outputs": [],
      "source": [
        "all_strikes['INCIDENT_DATE'] = pd.to_datetime(all_strikes['INCIDENT_DATE'].str[:-5], errors='coerce')\n"
      ]
    },
    {
      "cell_type": "markdown",
      "id": "51eba7a0-00c1-48d8-9518-bcb300ea2bfb",
      "metadata": {
        "tags": [],
        "id": "51eba7a0-00c1-48d8-9518-bcb300ea2bfb"
      },
      "source": [
        "#### Task 3.5\n",
        "\n",
        "The `NUM_STRUCK` column should report the number of birds that struck the aircraft.\\\n",
        "Print all the unique values in this column (for example, if this column contains only `11` and `22` then print: 11, 22)"
      ]
    },
    {
      "cell_type": "code",
      "execution_count": null,
      "id": "acb4af97-ef65-47e7-a10a-7544564e3955",
      "metadata": {
        "id": "acb4af97-ef65-47e7-a10a-7544564e3955",
        "colab": {
          "base_uri": "https://localhost:8080/"
        },
        "outputId": "77e7bc16-8c3c-43c5-bf81-9dc20e515c87"
      },
      "outputs": [
        {
          "output_type": "stream",
          "name": "stdout",
          "text": [
            "['1' '11-100' '02-Oct' nan 'More than 100']\n"
          ]
        }
      ],
      "source": [
        "print(all_strikes['NUM_STRUCK'].unique())"
      ]
    },
    {
      "cell_type": "markdown",
      "id": "a54533fe-15b8-40d4-bfdd-afa7d7505b14",
      "metadata": {
        "tags": [],
        "id": "a54533fe-15b8-40d4-bfdd-afa7d7505b14"
      },
      "source": [
        "#### Task 3.6\n",
        "\n",
        "For the `NUM_STRUCK` column, replace the value: `02-Oct` with the value: `2-10`\\\n",
        "Then, reprint all unique values in this column."
      ]
    },
    {
      "cell_type": "code",
      "execution_count": null,
      "id": "8736c5ed-c384-4905-a9c4-ab9eac3e05e6",
      "metadata": {
        "id": "8736c5ed-c384-4905-a9c4-ab9eac3e05e6",
        "colab": {
          "base_uri": "https://localhost:8080/"
        },
        "outputId": "5fe63c6f-c196-4ed4-8c87-69d090c6c7a5"
      },
      "outputs": [
        {
          "output_type": "stream",
          "name": "stdout",
          "text": [
            "Unique values:\n",
            "['1' '11-100' '2-10' nan 'More than 100']\n"
          ]
        }
      ],
      "source": [
        "\n",
        "all_strikes['NUM_STRUCK'] = all_strikes['NUM_STRUCK'].replace('02-Oct', '2-10')\n",
        "print(\"Unique values:\")\n",
        "print(all_strikes['NUM_STRUCK'].unique())\n"
      ]
    },
    {
      "cell_type": "markdown",
      "id": "b23120b1-a62a-4ad3-bf60-6d462fcd420d",
      "metadata": {
        "tags": [],
        "id": "b23120b1-a62a-4ad3-bf60-6d462fcd420d"
      },
      "source": [
        "#### Task 3.7\n",
        "\n",
        "There are columns that specify if a certain part of the aircraft was struck. Their values are either `0` or `1`.\\\n",
        "For example, `STR_WINDSHLD`=1 means that the aircraft was struck on its windshield.\\\n",
        "All columns indicating a strike begin with `STR_`.\n",
        "\n",
        "You need to add a column that accumlates the number of strikes for each aircraft (each row in the dataframe).\\\n",
        "Name the new column: `total_struck`\\\n",
        "Print the mean number of strikes using this function: `all_strikes[\"STR_total\"].mean()`"
      ]
    },
    {
      "cell_type": "code",
      "execution_count": null,
      "id": "17e9da31-ea90-4ed2-8672-29c3e3459cb6",
      "metadata": {
        "id": "17e9da31-ea90-4ed2-8672-29c3e3459cb6",
        "colab": {
          "base_uri": "https://localhost:8080/"
        },
        "outputId": "fa04c166-4c0c-4627-a050-5f0b933fac83"
      },
      "outputs": [
        {
          "output_type": "stream",
          "name": "stdout",
          "text": [
            "0.8371987266939518\n"
          ]
        }
      ],
      "source": [
        "cols = [c for c in all_strikes.columns if c.startswith('STR_')]\n",
        "all_strikes[cols] = all_strikes[cols].astype(float)\n",
        "all_strikes['STR_total'] = all_strikes[cols].sum(axis=1)\n",
        "print(all_strikes['STR_total'].mean())\n",
        "\n"
      ]
    },
    {
      "cell_type": "markdown",
      "id": "cffe36d7-3278-424e-9927-24c34edd6588",
      "metadata": {
        "tags": [],
        "id": "cffe36d7-3278-424e-9927-24c34edd6588"
      },
      "source": [
        "#### Task 3.8\n",
        "\n",
        "Now, find all columns that indicate a certain part of the aircraft was damaged (hint: these columns begin with `DAM`).\\\n",
        "Add a column named: `total_damaged` that indicates the total damaged parts of an aircraft.\\\n",
        "Print the mean damage."
      ]
    },
    {
      "cell_type": "code",
      "execution_count": null,
      "id": "2c74eaf6-72f5-42bc-9214-9d1ab39fcdf4",
      "metadata": {
        "id": "2c74eaf6-72f5-42bc-9214-9d1ab39fcdf4",
        "colab": {
          "base_uri": "https://localhost:8080/"
        },
        "outputId": "f00d07b5-114d-4de5-ca46-4cd5e2d3e379"
      },
      "outputs": [
        {
          "output_type": "stream",
          "name": "stdout",
          "text": [
            "0.08663786569652873\n"
          ]
        }
      ],
      "source": [
        "dam_cols = [c for c in all_strikes.columns if c.startswith('DAM')]\n",
        "all_strikes[dam_cols] = all_strikes[dam_cols].astype(float)\n",
        "all_strikes['total_damaged'] = all_strikes[dam_cols].sum(axis=1)\n",
        "print(all_strikes['total_damaged'].mean())\n",
        "\n",
        "\n"
      ]
    },
    {
      "cell_type": "markdown",
      "id": "6f995f4a-0664-423c-afc2-728fc107f3a3",
      "metadata": {
        "tags": [],
        "id": "6f995f4a-0664-423c-afc2-728fc107f3a3"
      },
      "source": [
        "## CHECKPOINT (not obligatory)"
      ]
    },
    {
      "cell_type": "code",
      "execution_count": null,
      "id": "574252ae-92a5-4a05-a604-2d68b1e4b48b",
      "metadata": {
        "id": "574252ae-92a5-4a05-a604-2d68b1e4b48b"
      },
      "outputs": [],
      "source": [
        "import pandas as pd\n",
        "all_strikes = pd.read_pickle('strikes_checkpoint')\n"
      ]
    },
    {
      "cell_type": "markdown",
      "id": "9ac0ae28-e637-4a68-9072-3580596a4d6b",
      "metadata": {
        "id": "9ac0ae28-e637-4a68-9072-3580596a4d6b"
      },
      "source": [
        "If you are not sure that you performed the previous tasks correctly, you can now import the pickle: `strikes_checkpoint` and continue your work with it.\\\n",
        "Note: the file is compressed with zip, you need to unzip it first."
      ]
    },
    {
      "cell_type": "markdown",
      "id": "6547402c-d520-4607-9762-746dfaeed6ba",
      "metadata": {
        "jp-MarkdownHeadingCollapsed": true,
        "tags": [],
        "id": "6547402c-d520-4607-9762-746dfaeed6ba"
      },
      "source": [
        "## Task 4 - Filtering"
      ]
    },
    {
      "cell_type": "markdown",
      "id": "ab5c2fb2-ff16-4873-8094-3ccf4d8c10d8",
      "metadata": {
        "id": "ab5c2fb2-ff16-4873-8094-3ccf4d8c10d8"
      },
      "source": [
        "#### Task 4.1\n",
        "\n",
        "Create a dataframe that contains only data from aircraft of type `A-320` from `INCIDENT_DATE` 1.1.2022 and onward.\\\n",
        "How many rows does your dataframe contain?"
      ]
    },
    {
      "cell_type": "code",
      "execution_count": null,
      "id": "da7ae370-7113-4d3f-9972-b40646ff9e93",
      "metadata": {
        "id": "da7ae370-7113-4d3f-9972-b40646ff9e93"
      },
      "outputs": [],
      "source": [
        "all_strikes['INCIDENT_DATE'] = pd.to_datetime(all_strikes['INCIDENT_DATE'])\n",
        "a320_data = all_strikes[(all_strikes['AIRCRAFT'] == 'A-320') & (all_strikes['INCIDENT_DATE'] >= '2022-01-01')]\n",
        "print(len(a320_data))\n"
      ]
    },
    {
      "cell_type": "markdown",
      "id": "77908614-cdce-4b8d-aefb-4750bfe1ec06",
      "metadata": {
        "id": "77908614-cdce-4b8d-aefb-4750bfe1ec06"
      },
      "source": [
        "#### Task 4.2\n",
        "\n",
        "Create a dataframe the contains only data where the number `DMG_total`  (the total damage) is 5 or more.\\\n",
        "Print the number of rows in the dataframe."
      ]
    },
    {
      "cell_type": "code",
      "execution_count": null,
      "id": "cb695607-35c2-4aa5-addc-824eb1258c9f",
      "metadata": {
        "id": "cb695607-35c2-4aa5-addc-824eb1258c9f"
      },
      "outputs": [],
      "source": [
        "dam_cols = [col for col in all_strikes.columns if col.startswith('DAM')]\n",
        "all_strikes[dam_cols] = all_strikes[dam_cols].astype(float)\n",
        "all_strikes['DMG_total'] = all_strikes[dam_cols].sum(axis=1)\n"
      ]
    },
    {
      "cell_type": "code",
      "source": [
        "\n",
        "dmg_data = all_strikes[all_strikes['DMG_total'] >= 5]\n",
        "print(len(dmg_data))\n"
      ],
      "metadata": {
        "colab": {
          "base_uri": "https://localhost:8080/"
        },
        "id": "KDfnrVY2jWy5",
        "outputId": "8e271f35-a467-4839-d6e5-c4c934ea6403"
      },
      "id": "KDfnrVY2jWy5",
      "execution_count": null,
      "outputs": [
        {
          "output_type": "stream",
          "name": "stdout",
          "text": [
            "137\n"
          ]
        }
      ]
    },
    {
      "cell_type": "markdown",
      "id": "8cecf66b-ca2e-4e0b-8d34-b1ece642dd3d",
      "metadata": {
        "jp-MarkdownHeadingCollapsed": true,
        "tags": [],
        "id": "8cecf66b-ca2e-4e0b-8d34-b1ece642dd3d"
      },
      "source": [
        "## Task 5 - Data Analysis"
      ]
    },
    {
      "cell_type": "markdown",
      "id": "a2fc8525-124c-4cd7-8c0a-18bb6d90bfb7",
      "metadata": {
        "id": "a2fc8525-124c-4cd7-8c0a-18bb6d90bfb7"
      },
      "source": [
        "#### Task 5.1\n",
        "\n",
        "\n"
      ]
    },
    {
      "cell_type": "markdown",
      "id": "2476aacf-7e7a-4dc6-813e-d56dfe37cfea",
      "metadata": {
        "id": "2476aacf-7e7a-4dc6-813e-d56dfe37cfea"
      },
      "source": [
        "Each reported incident is a row in the dataframe.\\\n",
        "Which airports (column `AIRPORT`) reported the most incidents?\\\n",
        "Present the names of the 10 airports who reported the most incidents.\\\n",
        "Note: You will see that the most common airport is `UNKNOWN`. Omit it and look at the 10 airports with a known name (for example: `MEMPHIS INTL` is one of these 10 airports)"
      ]
    },
    {
      "cell_type": "code",
      "execution_count": null,
      "id": "4603f1b4-cda9-4e34-8d26-046763543d6c",
      "metadata": {
        "id": "4603f1b4-cda9-4e34-8d26-046763543d6c",
        "colab": {
          "base_uri": "https://localhost:8080/"
        },
        "outputId": "0d525001-a749-46cc-e799-198eb04670ce"
      },
      "outputs": [
        {
          "output_type": "stream",
          "name": "stdout",
          "text": [
            "AIRPORT\n",
            "DENVER INTL AIRPORT                       8688\n",
            "DALLAS/FORT WORTH INTL ARPT               7126\n",
            "CHICAGO O'HARE INTL ARPT                  5798\n",
            "JOHN F KENNEDY INTL                       5681\n",
            "MEMPHIS INTL                              4377\n",
            "SALT LAKE CITY INTL                       3445\n",
            "SACRAMENTO INTL                           3387\n",
            "DETROIT METRO WAYNE COUNTY ARPT           3312\n",
            "ORLANDO INTL                              3295\n",
            "HARTSFIELD - JACKSON ATLANTA INTL ARPT    3134\n",
            "Name: count, dtype: int64\n"
          ]
        }
      ],
      "source": [
        "r=all_strikes[all_strikes['AIRPORT']!='UNKNOWN']\n",
        "top_airports=r['AIRPORT'].value_counts().head(10)\n",
        "print(top_airports)\n"
      ]
    },
    {
      "cell_type": "markdown",
      "id": "096d7068-d7d2-4aa1-9d22-9ca4945f071b",
      "metadata": {
        "id": "096d7068-d7d2-4aa1-9d22-9ca4945f071b"
      },
      "source": [
        "#### Task 5.2\n",
        "Create a dataframe that contains only the 10 airports that reported the most incidents.\\\n",
        "Print the percentage of incidents (out of the total amount of incidents) reported by these 10 airports"
      ]
    },
    {
      "cell_type": "code",
      "execution_count": null,
      "id": "5df6db40-0705-4696-97f3-54ce83b2ce03",
      "metadata": {
        "id": "5df6db40-0705-4696-97f3-54ce83b2ce03",
        "colab": {
          "base_uri": "https://localhost:8080/"
        },
        "outputId": "87858201-ec1d-4399-e88b-2887d1e30ee0"
      },
      "outputs": [
        {
          "output_type": "stream",
          "name": "stdout",
          "text": [
            "Percentage of incidents reported by top 10 airports: 0.18%\n"
          ]
        }
      ],
      "source": [
        "r=all_strikes[all_strikes['AIRPORT']!='UNKNOWN']\n",
        "top10_name=r['AIRPORT'].value_counts().head(10).index\n",
        "top10_df=r[r['AIRPORT'].isin(top10_name)]\n",
        "Percentage=(len(top10_df)/len(all_strikes))\n",
        "print(f\"Percentage of incidents reported by top 10 airports: {Percentage:.2f}%\")"
      ]
    },
    {
      "cell_type": "markdown",
      "id": "e54b0508-2d14-48d0-9d28-b74aa9c9f7d2",
      "metadata": {
        "id": "e54b0508-2d14-48d0-9d28-b74aa9c9f7d2"
      },
      "source": [
        "#### Task 5.3\n",
        "\n",
        "When do most incidents occur?\n",
        "Create a table that displays the average number of strikes (as indicated by the column `STR_total`) and the average damage (column `DMG_total`) at different times during the day (`TIME_OF_DAY`)"
      ]
    },
    {
      "cell_type": "code",
      "execution_count": null,
      "id": "254e4c74-d709-42e2-a09a-65f70624e7b9",
      "metadata": {
        "id": "254e4c74-d709-42e2-a09a-65f70624e7b9",
        "colab": {
          "base_uri": "https://localhost:8080/",
          "height": 547
        },
        "outputId": "d8c63199-72b8-46d8-9959-b784a2ff6bc1"
      },
      "outputs": [
        {
          "output_type": "stream",
          "name": "stdout",
          "text": [
            "Index(['Unnamed: 0', 'INDEX_NR', 'INCIDENT_DATE', 'INCIDENT_MONTH',\n",
            "       'INCIDENT_YEAR', 'AIRPORT_ID', 'AIRPORT', 'LATITUDE', 'LONGITUDE',\n",
            "       'STATE', 'FAAREGION', 'OPID', 'OPERATOR', 'AIRCRAFT', 'INGESTED_OTHER',\n",
            "       'INDICATED_DAMAGE', 'STR_RAD', 'DAM_RAD', 'STR_WINDSHLD',\n",
            "       'DAM_WINDSHLD', 'STR_NOSE', 'DAM_NOSE', 'STR_ENG1', 'DAM_ENG1',\n",
            "       'ING_ENG1', 'STR_ENG2', 'DAM_ENG2', 'ING_ENG2', 'STR_ENG3', 'DAM_ENG3',\n",
            "       'ING_ENG3', 'STR_ENG4', 'DAM_ENG4', 'ING_ENG4', 'STR_PROP', 'DAM_PROP',\n",
            "       'STR_WING_ROT', 'DAM_WING_ROT', 'STR_FUSE', 'DAM_FUSE', 'STR_LG',\n",
            "       'DAM_LG', 'STR_TAIL', 'DAM_TAIL', 'STR_LGHTS', 'DAM_LGHTS', 'STR_OTHER',\n",
            "       'DAM_OTHER', 'SPECIES_ID', 'SPECIES', 'REMARKS', 'REMAINS_COLLECTED',\n",
            "       'REMAINS_SENT', 'WARNED', 'NUM_STRUCK', 'SIZE', 'COMMENTS', 'SOURCE',\n",
            "       'PERSON', 'LUPDATE', 'STR_total', 'total_damaged', 'DMG_total'],\n",
            "      dtype='object')\n"
          ]
        },
        {
          "output_type": "error",
          "ename": "KeyError",
          "evalue": "'TIME_OF_DAY'",
          "traceback": [
            "\u001b[0;31m---------------------------------------------------------------------------\u001b[0m",
            "\u001b[0;31mKeyError\u001b[0m                                  Traceback (most recent call last)",
            "\u001b[0;32m/tmp/ipython-input-19-1049381128.py\u001b[0m in \u001b[0;36m<cell line: 0>\u001b[0;34m()\u001b[0m\n\u001b[1;32m      1\u001b[0m \u001b[0mprint\u001b[0m\u001b[0;34m(\u001b[0m\u001b[0mall_strikes\u001b[0m\u001b[0;34m.\u001b[0m\u001b[0mcolumns\u001b[0m\u001b[0;34m)\u001b[0m\u001b[0;34m\u001b[0m\u001b[0;34m\u001b[0m\u001b[0m\n\u001b[0;32m----> 2\u001b[0;31m \u001b[0msummary_table\u001b[0m \u001b[0;34m=\u001b[0m \u001b[0mall_strikes\u001b[0m\u001b[0;34m.\u001b[0m\u001b[0mgroupby\u001b[0m\u001b[0;34m(\u001b[0m\u001b[0;34m'TIME_OF_DAY'\u001b[0m\u001b[0;34m)\u001b[0m\u001b[0;34m[\u001b[0m\u001b[0;34m[\u001b[0m\u001b[0;34m'STR_total'\u001b[0m\u001b[0;34m,\u001b[0m\u001b[0;34m'DMG_total'\u001b[0m\u001b[0;34m]\u001b[0m\u001b[0;34m]\u001b[0m\u001b[0;34m.\u001b[0m\u001b[0mmean\u001b[0m\u001b[0;34m(\u001b[0m\u001b[0;34m)\u001b[0m\u001b[0;34m\u001b[0m\u001b[0;34m\u001b[0m\u001b[0m\n\u001b[0m\u001b[1;32m      3\u001b[0m \u001b[0mprint\u001b[0m\u001b[0;34m(\u001b[0m\u001b[0msummary_table\u001b[0m\u001b[0;34m)\u001b[0m\u001b[0;34m\u001b[0m\u001b[0;34m\u001b[0m\u001b[0m\n",
            "\u001b[0;32m/usr/local/lib/python3.11/dist-packages/pandas/core/frame.py\u001b[0m in \u001b[0;36mgroupby\u001b[0;34m(self, by, axis, level, as_index, sort, group_keys, observed, dropna)\u001b[0m\n\u001b[1;32m   9181\u001b[0m             \u001b[0;32mraise\u001b[0m \u001b[0mTypeError\u001b[0m\u001b[0;34m(\u001b[0m\u001b[0;34m\"You have to supply one of 'by' and 'level'\"\u001b[0m\u001b[0;34m)\u001b[0m\u001b[0;34m\u001b[0m\u001b[0;34m\u001b[0m\u001b[0m\n\u001b[1;32m   9182\u001b[0m \u001b[0;34m\u001b[0m\u001b[0m\n\u001b[0;32m-> 9183\u001b[0;31m         return DataFrameGroupBy(\n\u001b[0m\u001b[1;32m   9184\u001b[0m             \u001b[0mobj\u001b[0m\u001b[0;34m=\u001b[0m\u001b[0mself\u001b[0m\u001b[0;34m,\u001b[0m\u001b[0;34m\u001b[0m\u001b[0;34m\u001b[0m\u001b[0m\n\u001b[1;32m   9185\u001b[0m             \u001b[0mkeys\u001b[0m\u001b[0;34m=\u001b[0m\u001b[0mby\u001b[0m\u001b[0;34m,\u001b[0m\u001b[0;34m\u001b[0m\u001b[0;34m\u001b[0m\u001b[0m\n",
            "\u001b[0;32m/usr/local/lib/python3.11/dist-packages/pandas/core/groupby/groupby.py\u001b[0m in \u001b[0;36m__init__\u001b[0;34m(self, obj, keys, axis, level, grouper, exclusions, selection, as_index, sort, group_keys, observed, dropna)\u001b[0m\n\u001b[1;32m   1327\u001b[0m \u001b[0;34m\u001b[0m\u001b[0m\n\u001b[1;32m   1328\u001b[0m         \u001b[0;32mif\u001b[0m \u001b[0mgrouper\u001b[0m \u001b[0;32mis\u001b[0m \u001b[0;32mNone\u001b[0m\u001b[0;34m:\u001b[0m\u001b[0;34m\u001b[0m\u001b[0;34m\u001b[0m\u001b[0m\n\u001b[0;32m-> 1329\u001b[0;31m             grouper, exclusions, obj = get_grouper(\n\u001b[0m\u001b[1;32m   1330\u001b[0m                 \u001b[0mobj\u001b[0m\u001b[0;34m,\u001b[0m\u001b[0;34m\u001b[0m\u001b[0;34m\u001b[0m\u001b[0m\n\u001b[1;32m   1331\u001b[0m                 \u001b[0mkeys\u001b[0m\u001b[0;34m,\u001b[0m\u001b[0;34m\u001b[0m\u001b[0;34m\u001b[0m\u001b[0m\n",
            "\u001b[0;32m/usr/local/lib/python3.11/dist-packages/pandas/core/groupby/grouper.py\u001b[0m in \u001b[0;36mget_grouper\u001b[0;34m(obj, key, axis, level, sort, observed, validate, dropna)\u001b[0m\n\u001b[1;32m   1041\u001b[0m                 \u001b[0min_axis\u001b[0m\u001b[0;34m,\u001b[0m \u001b[0mlevel\u001b[0m\u001b[0;34m,\u001b[0m \u001b[0mgpr\u001b[0m \u001b[0;34m=\u001b[0m \u001b[0;32mFalse\u001b[0m\u001b[0;34m,\u001b[0m \u001b[0mgpr\u001b[0m\u001b[0;34m,\u001b[0m \u001b[0;32mNone\u001b[0m\u001b[0;34m\u001b[0m\u001b[0;34m\u001b[0m\u001b[0m\n\u001b[1;32m   1042\u001b[0m             \u001b[0;32melse\u001b[0m\u001b[0;34m:\u001b[0m\u001b[0;34m\u001b[0m\u001b[0;34m\u001b[0m\u001b[0m\n\u001b[0;32m-> 1043\u001b[0;31m                 \u001b[0;32mraise\u001b[0m \u001b[0mKeyError\u001b[0m\u001b[0;34m(\u001b[0m\u001b[0mgpr\u001b[0m\u001b[0;34m)\u001b[0m\u001b[0;34m\u001b[0m\u001b[0;34m\u001b[0m\u001b[0m\n\u001b[0m\u001b[1;32m   1044\u001b[0m         \u001b[0;32melif\u001b[0m \u001b[0misinstance\u001b[0m\u001b[0;34m(\u001b[0m\u001b[0mgpr\u001b[0m\u001b[0;34m,\u001b[0m \u001b[0mGrouper\u001b[0m\u001b[0;34m)\u001b[0m \u001b[0;32mand\u001b[0m \u001b[0mgpr\u001b[0m\u001b[0;34m.\u001b[0m\u001b[0mkey\u001b[0m \u001b[0;32mis\u001b[0m \u001b[0;32mnot\u001b[0m \u001b[0;32mNone\u001b[0m\u001b[0;34m:\u001b[0m\u001b[0;34m\u001b[0m\u001b[0;34m\u001b[0m\u001b[0m\n\u001b[1;32m   1045\u001b[0m             \u001b[0;31m# Add key to exclusions\u001b[0m\u001b[0;34m\u001b[0m\u001b[0;34m\u001b[0m\u001b[0m\n",
            "\u001b[0;31mKeyError\u001b[0m: 'TIME_OF_DAY'"
          ]
        }
      ],
      "source": [
        "print(all_strikes.columns)\n",
        "summary_table = all_strikes.groupby('TIME_OF_DAY')[['STR_total','DMG_total']].mean()\n",
        "print(summary_table)\n"
      ]
    },
    {
      "cell_type": "markdown",
      "id": "0c5e2d10-789b-4584-afdc-091dcdc3a0ca",
      "metadata": {
        "id": "0c5e2d10-789b-4584-afdc-091dcdc3a0ca"
      },
      "source": [
        "#### Task 5.4\n",
        "\n",
        "Do warnings help?\\\n",
        "Create a table showing the total number of strikes (`STR_total`) when a warning was issued or not issued (column `WARNED`).\\\n",
        "Omit rows where it is unknown whether or not a warning was issued."
      ]
    },
    {
      "cell_type": "code",
      "execution_count": null,
      "id": "9f606f2b-7653-4dab-bfd3-fa8f500037ee",
      "metadata": {
        "id": "9f606f2b-7653-4dab-bfd3-fa8f500037ee",
        "colab": {
          "base_uri": "https://localhost:8080/"
        },
        "outputId": "e91dc87f-a84e-40ed-a47e-c7bdfc4ed77a"
      },
      "outputs": [
        {
          "output_type": "stream",
          "name": "stdout",
          "text": [
            "Series([], Name: STR_total, dtype: float64)\n"
          ]
        }
      ],
      "source": [
        "filtered = all_strikes[all_strikes['WARNED'].isin(['YES', 'NO'])]\n",
        "warned_table = filtered.groupby('WARNED')['STR_total'].sum()\n",
        "print(warned_table)\n"
      ]
    },
    {
      "cell_type": "markdown",
      "id": "19434c9a-6498-40b1-aa71-14056a2254d7",
      "metadata": {
        "id": "19434c9a-6498-40b1-aa71-14056a2254d7"
      },
      "source": [
        "#### Task 5.5\n",
        "Who reports the incidents most often? Use the column `PERSON` to find out."
      ]
    },
    {
      "cell_type": "code",
      "execution_count": null,
      "id": "d144a155-12a1-4388-823a-8ed6a9462a5f",
      "metadata": {
        "id": "d144a155-12a1-4388-823a-8ed6a9462a5f",
        "colab": {
          "base_uri": "https://localhost:8080/"
        },
        "outputId": "746a7114-4ca9-482b-de3a-510acc43a629"
      },
      "outputs": [
        {
          "output_type": "stream",
          "name": "stdout",
          "text": [
            "PERSON\n",
            "Carcass Found               70781\n",
            "Airport Operations          58114\n",
            "Pilot                       48015\n",
            "Air Transport Operations    32564\n",
            "Tower                       27279\n",
            "Other                        5965\n",
            "Name: count, dtype: int64\n"
          ]
        }
      ],
      "source": [
        "report_counts=all_strikes['PERSON'].value_counts()\n",
        "print(report_counts)"
      ]
    },
    {
      "cell_type": "markdown",
      "id": "07b08342-d6ad-4424-af6d-7ac34b1d1b02",
      "metadata": {
        "id": "07b08342-d6ad-4424-af6d-7ac34b1d1b02"
      },
      "source": [
        "#### Task 5.6\n",
        "\n",
        "Who reports the incidents most often **when there is damage to the aircraft**?\n",
        "\n",
        "Create a table that displays the reporting person (`PERSON`) and the total damage (`DMG_total`) and total strikes (`STR_total`)"
      ]
    },
    {
      "cell_type": "code",
      "execution_count": null,
      "id": "e072883c-1774-4d13-9281-86d590c55121",
      "metadata": {
        "id": "e072883c-1774-4d13-9281-86d590c55121",
        "colab": {
          "base_uri": "https://localhost:8080/"
        },
        "outputId": "412ff883-8fb5-4403-f845-c83999363aab"
      },
      "outputs": [
        {
          "output_type": "stream",
          "name": "stdout",
          "text": [
            "                          DMG_total  STR_total\n",
            "PERSON                                        \n",
            "Air Transport Operations     3701.0     4556.0\n",
            "Airport Operations           4354.0     5643.0\n",
            "Other                        1808.0     1822.0\n",
            "Pilot                        7297.0     9501.0\n",
            "Tower                        2490.0     3057.0\n"
          ]
        }
      ],
      "source": [
        "damaged = all_strikes[all_strikes['DMG_total'] > 0]\n",
        "report_table = damaged.groupby('PERSON')[['DMG_total', 'STR_total']].sum()\n",
        "print(report_table)\n"
      ]
    },
    {
      "cell_type": "markdown",
      "id": "7c6c3411-5fd3-426a-bd5a-08151e17cf75",
      "metadata": {
        "jp-MarkdownHeadingCollapsed": true,
        "tags": [],
        "id": "7c6c3411-5fd3-426a-bd5a-08151e17cf75"
      },
      "source": [
        "## Task 6 - Data Visualization"
      ]
    },
    {
      "cell_type": "markdown",
      "id": "25e38b11-2d62-4809-91a5-1d780573e73a",
      "metadata": {
        "id": "25e38b11-2d62-4809-91a5-1d780573e73a"
      },
      "source": [
        "#### Task 6.1\n",
        "\n",
        "Present **one** histogram plot that contains **two** distributions: the `SPEED` when there was and wasn't a warning (column `WARNED`)\\\n",
        "Note:\n",
        "* Remove outliers: that is, remove the two rows where the speed is higher than 1000 mph.\n",
        "* Do not display incidents with an Unknown warning.\n",
        "* Do not use more than 20 bins (see [histplot documentation](https://seaborn.pydata.org/generated/seaborn.histplot.html) )"
      ]
    },
    {
      "cell_type": "code",
      "execution_count": null,
      "id": "1793a93a-2d56-4bd5-9d2a-4707bba2b391",
      "metadata": {
        "id": "1793a93a-2d56-4bd5-9d2a-4707bba2b391",
        "colab": {
          "base_uri": "https://localhost:8080/",
          "height": 662
        },
        "outputId": "e2a3454d-4f30-47fa-9db2-c5e0ce90eff6"
      },
      "outputs": [
        {
          "output_type": "stream",
          "name": "stderr",
          "text": [
            "/tmp/ipython-input-27-2609354786.py:11: UserWarning: No artists with labels found to put in legend.  Note that artists whose label start with an underscore are ignored when legend() is called with no argument.\n",
            "  plt.legend(title='Warning Issued')\n"
          ]
        },
        {
          "output_type": "display_data",
          "data": {
            "text/plain": [
              "<Figure size 1000x600 with 1 Axes>"
            ],
            "image/png": "[encoded data removed]"
          },
          "metadata": {}
        }
      ],
      "source": [
        "import pandas as pd\n",
        "import seaborn as sns\n",
        "import matplotlib.pyplot as plt\n",
        "df = pd.read_csv(\"/content/strikes_from_2020.csv\")\n",
        "df = df[(df['SPEED'] <= 1000) & (df['WARNED'] != 'Unknown')]\n",
        "plt.figure(figsize=(10, 6))\n",
        "sns.histplot(data=df, x='SPEED', hue='WARNED', bins=20, kde=False, palette='Set2')\n",
        "plt.title('Speed Distribution')\n",
        "plt.xlabel('Speed (mph)')\n",
        "plt.ylabel('Number of Incidents')\n",
        "plt.legend(title='Warning Issued')\n",
        "plt.tight_layout()\n",
        "plt.show()\n"
      ]
    },
    {
      "cell_type": "markdown",
      "id": "3e7c13f3-d99e-4e9f-b210-ba5032a3ddb4",
      "metadata": {
        "tags": [],
        "id": "3e7c13f3-d99e-4e9f-b210-ba5032a3ddb4"
      },
      "source": [
        "#### Task 6.2\n",
        "\n",
        "Present a figure that compares the `DMG_Total` in 2017-2022 (`INCIDENT_YEAR`), for different warnings (`WARNED`) types."
      ]
    },
    {
      "cell_type": "code",
      "execution_count": null,
      "id": "3bf279c7-e1b6-4fbf-b90d-ea109cfa12e3",
      "metadata": {
        "id": "3bf279c7-e1b6-4fbf-b90d-ea109cfa12e3",
        "colab": {
          "base_uri": "https://localhost:8080/",
          "height": 714
        },
        "outputId": "86d432ea-f8b3-49e8-9f83-edc859108d2f"
      },
      "outputs": [
        {
          "output_type": "stream",
          "name": "stderr",
          "text": [
            "/tmp/ipython-input-37-2350771254.py:12: FutureWarning: \n",
            "\n",
            "Passing `palette` without assigning `hue` is deprecated and will be removed in v0.14.0. Assign the `x` variable to `hue` and set `legend=False` for the same effect.\n",
            "\n",
            "  sns.barplot(data=damage_summary, x='WARNED', y='DMG_total', palette='Set2')\n"
          ]
        },
        {
          "output_type": "display_data",
          "data": {
            "text/plain": [
              "<Figure size 800x600 with 1 Axes>"
            ],
            "image/png": "[encoded data removed]"
          },
          "metadata": {}
        }
      ],
      "source": [
        "import pandas as pd\n",
        "import seaborn as sns\n",
        "import matplotlib.pyplot as plt\n",
        "\n",
        "df = pd.read_csv(\"/content/strikes_from_2020.csv\")\n",
        "df_filtered = df[(df['INCIDENT_YEAR'] >= 2017) & (df['INCIDENT_YEAR'] <= 2022)].copy()\n",
        "damage_cols = [col for col in df_filtered.columns if col.startswith('DAM')]\n",
        "df_filtered[damage_cols] = df_filtered[damage_cols].apply(pd.to_numeric, errors='coerce')\n",
        "df_filtered['DMG_total'] = df_filtered[damage_cols].sum(axis=1)\n",
        "damage_summary = df_filtered.groupby('WARNED')['DMG_total'].sum().reset_index()\n",
        "plt.figure(figsize=(8, 6))\n",
        "sns.barplot(data=damage_summary, x='WARNED', y='DMG_total', palette='Set2')\n",
        "plt.title('Total Damage (2017–2022) by Warning Type')\n",
        "plt.xlabel('Warning Issued')\n",
        "plt.ylabel('Total Damage ($)')\n",
        "plt.tight_layout()\n",
        "plt.show()\n",
        "\n",
        "\n"
      ]
    },
    {
      "cell_type": "markdown",
      "id": "2b945aa5-71b6-4fb0-a129-e8449907f1c4",
      "metadata": {
        "id": "2b945aa5-71b6-4fb0-a129-e8449907f1c4"
      },
      "source": [
        "#### Task 6.3\n",
        "\n",
        "Create a figure that compares and displays **how many** strikes (`STR_total`) occurred in different phases of the flight (`PHASE_OF_FLIGHT`). The figure should only present cases where there are 8 or more total strikes (`STR_total`). Make sure the categories on the x-axis are readable."
      ]
    },
    {
      "cell_type": "code",
      "execution_count": null,
      "id": "afc19b6b-924c-41ff-ac5e-fe8b7a189911",
      "metadata": {
        "id": "afc19b6b-924c-41ff-ac5e-fe8b7a189911",
        "colab": {
          "base_uri": "https://localhost:8080/",
          "height": 1000
        },
        "outputId": "e93bee8b-b3fe-46ed-ca4c-73f63cb922cc"
      },
      "outputs": [
        {
          "output_type": "stream",
          "name": "stderr",
          "text": [
            "/tmp/ipython-input-39-3088872608.py:8: FutureWarning: \n",
            "\n",
            "Passing `palette` without assigning `hue` is deprecated and will be removed in v0.14.0. Assign the `x` variable to `hue` and set `legend=False` for the same effect.\n",
            "\n",
            "  sns.barplot(data=strike,x='PHASE_OF_FLIGHT',y='STR_total',palette='viridis')\n"
          ]
        },
        {
          "output_type": "display_data",
          "data": {
            "text/plain": [
              "<Figure size 800x1000 with 1 Axes>"
            ],
            "image/png": "[encoded data removed]"
          },
          "metadata": {}
        }
      ],
      "source": [
        "import pandas as pd\n",
        "import matplotlib.pyplot as plt\n",
        "import seaborn as sns\n",
        "df=pd.read_csv('/content/strikes_from_2020.csv')\n",
        "strike=df.groupby('PHASE_OF_FLIGHT').size().reset_index(name='STR_total')\n",
        "strike=strike[strike['STR_total']>8]\n",
        "plt.figure(figsize=(8,10))\n",
        "sns.barplot(data=strike,x='PHASE_OF_FLIGHT',y='STR_total',palette='viridis')\n",
        "plt.xticks(rotation=45,ha='right')\n",
        "plt.title('Total Strikes by Phase of Flight (Only 8 or More)')\n",
        "plt.xlabel('Phase of Flight')\n",
        "plt.ylabel('Total Strikes')\n",
        "plt.tight_layout()\n",
        "plt.show()"
      ]
    },
    {
      "cell_type": "markdown",
      "id": "3565e33c-e625-4e5a-be96-04abb9da135a",
      "metadata": {
        "id": "3565e33c-e625-4e5a-be96-04abb9da135a"
      },
      "source": [
        "#### Task 6.4\n",
        "\n",
        "Create a figure that displays the correlation between the `HEIGHT` and the total strikes (`STR_total`)"
      ]
    },
    {
      "cell_type": "code",
      "execution_count": null,
      "id": "28e10b9e-7e96-4186-84d7-907d919522b8",
      "metadata": {
        "id": "28e10b9e-7e96-4186-84d7-907d919522b8",
        "colab": {
          "base_uri": "https://localhost:8080/",
          "height": 607
        },
        "outputId": "157ffeaf-ffa6-4144-8d5e-62bfc565ffc2"
      },
      "outputs": [
        {
          "output_type": "display_data",
          "data": {
            "text/plain": [
              "<Figure size 1000x600 with 1 Axes>"
            ],
            "image/png": "[encoded data removed]"
          },
          "metadata": {}
        }
      ],
      "source": [
        "import pandas as pd\n",
        "import seaborn as sns\n",
        "import matplotlib.pyplot as plt\n",
        "df = pd.read_csv(\"/content/strikes_from_2020.csv\")\n",
        "df['HEIGHT'] = pd.to_numeric(df['HEIGHT'], errors='coerce')\n",
        "df = df.dropna(subset=['HEIGHT'])\n",
        "strike = df.groupby('HEIGHT').size().reset_index(name='STR_total')\n",
        "plt.figure(figsize=(10, 6))\n",
        "sns.scatterplot(data=strike, x='HEIGHT', y='STR_total')\n",
        "sns.regplot(data=strike, x='HEIGHT', y='STR_total', scatter=False, color='red')\n",
        "plt.title('Correlation between Height and Total Strikes')\n",
        "plt.xlabel('Height (ft)')\n",
        "plt.ylabel('Total Strikes (STR_total)')\n",
        "plt.tight_layout()\n",
        "plt.show()\n",
        "\n"
      ]
    },
    {
      "cell_type": "markdown",
      "id": "06df5cc8-eb15-4260-b170-690eb8ba24f9",
      "metadata": {
        "id": "06df5cc8-eb15-4260-b170-690eb8ba24f9"
      },
      "source": [
        "#### Task 6.5\n",
        "\n",
        "Create a figure that shows the **median** speed in different times of the day (`SPEED`, `TIME_OF_DAY`).\n",
        "Do not show cases where the speed is higher than 500 mph."
      ]
    },
    {
      "cell_type": "code",
      "execution_count": null,
      "id": "eb50fbc6-64fb-45a6-8dc9-b4355645704b",
      "metadata": {
        "id": "eb50fbc6-64fb-45a6-8dc9-b4355645704b",
        "colab": {
          "base_uri": "https://localhost:8080/",
          "height": 714
        },
        "outputId": "40bec570-b172-4abb-fb86-513b82da6c3b"
      },
      "outputs": [
        {
          "output_type": "stream",
          "name": "stderr",
          "text": [
            "/tmp/ipython-input-48-773173297.py:10: FutureWarning: \n",
            "\n",
            "Passing `palette` without assigning `hue` is deprecated and will be removed in v0.14.0. Assign the `x` variable to `hue` and set `legend=False` for the same effect.\n",
            "\n",
            "  sns.barplot(data=median_s, x='TIME_OF_DAY', y='SPEED', palette='Set2')\n"
          ]
        },
        {
          "output_type": "display_data",
          "data": {
            "text/plain": [
              "<Figure size 1000x600 with 1 Axes>"
            ],
            "image/png": "[encoded data removed]"
          },
          "metadata": {}
        }
      ],
      "source": [
        "import numpy as np\n",
        "import pandas as pd\n",
        "import seaborn as sns\n",
        "import matplotlib.pyplot as plt\n",
        "df = pd.read_csv('/content/strikes_from_2020.csv')\n",
        "df['SPEED'] = pd.to_numeric(df['SPEED'], errors='coerce')\n",
        "df_filtered = df[df['SPEED'] <= 500].copy()\n",
        "median_s = df_filtered.groupby('TIME_OF_DAY')['SPEED'].median().reset_index()\n",
        "plt.figure(figsize=(10, 6))\n",
        "sns.barplot(data=median_s, x='TIME_OF_DAY', y='SPEED', palette='Set2')\n",
        "plt.title('Median Speed by Time of Day (SPEED ≤ 500 mph)')\n",
        "plt.xlabel('Time of Day')\n",
        "plt.ylabel('Median Speed (mph)')\n",
        "plt.xticks(rotation=30)\n",
        "plt.tight_layout()\n",
        "plt.show()\n"
      ]
    },
    {
      "cell_type": "markdown",
      "id": "8dfcecb1-060d-409c-8ed5-de4931a78a4f",
      "metadata": {
        "jp-MarkdownHeadingCollapsed": true,
        "tags": [],
        "id": "8dfcecb1-060d-409c-8ed5-de4931a78a4f"
      },
      "source": [
        "## Task 7 - Statistics"
      ]
    },
    {
      "cell_type": "markdown",
      "source": [
        "#### NOTE: Before you go aheadd and start solving this section you should look at [this chapter](https://colab.research.google.com/drive/1-HhoNycFjuwUx_toHOeQi_qhctLH_JuD?usp=sharing)"
      ],
      "metadata": {
        "id": "1pBVZpwrH42w"
      },
      "id": "1pBVZpwrH42w"
    },
    {
      "cell_type": "markdown",
      "id": "afae7c76-5b0f-4279-8583-bde3318d06f3",
      "metadata": {
        "id": "afae7c76-5b0f-4279-8583-bde3318d06f3"
      },
      "source": [
        "#### Task 7.1 (2 points):\n",
        "\n",
        "Which type of t-test should be used to determine if there is a statistical difference between the number of strikes (`STR_total`) when there was\\wasn't a warning (`WARNED=Yes\\No`)"
      ]
    },
    {
      "cell_type": "code",
      "execution_count": null,
      "id": "64b0c75c-c57f-4acf-a889-2a5b0c17e242",
      "metadata": {
        "id": "64b0c75c-c57f-4acf-a889-2a5b0c17e242",
        "colab": {
          "base_uri": "https://localhost:8080/"
        },
        "outputId": "4352713e-76e0-4408-ede8-691a7078d13f"
      },
      "outputs": [
        {
          "output_type": "stream",
          "name": "stdout",
          "text": [
            "T-statistic: nan, P-value: nan\n"
          ]
        },
        {
          "output_type": "stream",
          "name": "stderr",
          "text": [
            "/usr/local/lib/python3.11/dist-packages/scipy/stats/_axis_nan_policy.py:586: RuntimeWarning: Precision loss occurred in moment calculation due to catastrophic cancellation. This occurs when the data are nearly identical. Results may be unreliable.\n",
            "  res = hypotest_fun_out(*samples, **kwds)\n"
          ]
        }
      ],
      "source": [
        "import pandas as pd\n",
        "from scipy.stats import ttest_ind\n",
        "df = pd.read_csv('/content/strikes_from_2020.csv')\n",
        "df['STR_total'] = 1\n",
        "df = df[df['WARNED'].isin(['Yes', 'No'])]\n",
        "yes = df[df['WARNED'] == 'Yes']['STR_total']\n",
        "no = df[df['WARNED'] == 'No']['STR_total']\n",
        "t, p = ttest_ind(yes, no, equal_var=False)\n",
        "print(f\"T-statistic: {t:.3f}, P-value: {p:.3f}\")\n",
        "\n"
      ]
    },
    {
      "cell_type": "markdown",
      "id": "76722161-872a-4bcb-8fe2-1bbe431b0463",
      "metadata": {
        "tags": [],
        "id": "76722161-872a-4bcb-8fe2-1bbe431b0463"
      },
      "source": [
        "#### Task 7.2\n",
        "\n",
        "Apply the test you suggested in the previous task."
      ]
    },
    {
      "cell_type": "code",
      "execution_count": null,
      "id": "23885df7-c857-4edc-b450-4f075b7b9250",
      "metadata": {
        "id": "23885df7-c857-4edc-b450-4f075b7b9250",
        "colab": {
          "base_uri": "https://localhost:8080/"
        },
        "outputId": "1848a72e-d118-4e2f-9e10-1f46af1f74a8"
      },
      "outputs": [
        {
          "output_type": "stream",
          "name": "stdout",
          "text": [
            "Welch's t-test Results:\n",
            "T-statistic: nan\n",
            "P-value: nan\n"
          ]
        },
        {
          "output_type": "stream",
          "name": "stderr",
          "text": [
            "/usr/local/lib/python3.11/dist-packages/scipy/_lib/deprecation.py:234: SmallSampleWarning: One or more sample arguments is too small; all returned values will be NaN. See documentation for sample size requirements.\n",
            "  return f(*args, **kwargs)\n"
          ]
        }
      ],
      "source": [
        "import pandas as pd\n",
        "from scipy.stats import ttest_ind\n",
        "df=pd.read_csv('/content/strikes_from_2020.csv')\n",
        "df=df[df['WARNED'].isin([yes,no])].copy()\n",
        "df['STR_total']=1\n",
        "yes=df[df['WARNED']=='YES']['STR_total']\n",
        "no=df[df['WARNED']=='NO']['STR_total']\n",
        "t_stat,p_val=ttest_ind(yes,no,equal_var=False)\n",
        "print(\"Welch's t-test Results:\")\n",
        "print(f\"T-statistic: {t_stat:.3f}\")\n",
        "print(f\"P-value: {p_val:.3f}\")\n",
        "\n",
        "\n"
      ]
    },
    {
      "cell_type": "markdown",
      "id": "c9788afb-1045-4360-b193-3a884c0885d5",
      "metadata": {
        "id": "c9788afb-1045-4360-b193-3a884c0885d5"
      },
      "source": [
        "#### Task 7.3  \n",
        "\n",
        "What do the results tell us?\n",
        "Briefly interpret the results."
      ]
    },
    {
      "cell_type": "code",
      "execution_count": null,
      "id": "8f2b8902-eaca-4534-bee0-8216ea3e17a0",
      "metadata": {
        "id": "8f2b8902-eaca-4534-bee0-8216ea3e17a0",
        "colab": {
          "base_uri": "https://localhost:8080/"
        },
        "outputId": "3a3a0182-1d0d-46d7-9b82-91e824915e64"
      },
      "outputs": [
        {
          "output_type": "stream",
          "name": "stdout",
          "text": [
            "Welch's t-test Results:\n",
            "T-statistic: nan\n",
            "P-value: nan\n"
          ]
        },
        {
          "output_type": "stream",
          "name": "stderr",
          "text": [
            "/usr/local/lib/python3.11/dist-packages/scipy/stats/_axis_nan_policy.py:586: RuntimeWarning: Precision loss occurred in moment calculation due to catastrophic cancellation. This occurs when the data are nearly identical. Results may be unreliable.\n",
            "  res = hypotest_fun_out(*samples, **kwds)\n"
          ]
        }
      ],
      "source": [
        "import pandas as pd\n",
        "from scipy.stats import ttest_ind\n",
        "df = pd.read_csv('/content/strikes_from_2020.csv')\n",
        "df = df[df['WARNED'].isin(['Yes', 'No'])].copy()\n",
        "df['STR_total'] = 1\n",
        "yes = df[df['WARNED'] == 'Yes']['STR_total']\n",
        "no = df[df['WARNED'] == 'No']['STR_total']\n",
        "t_stat, p_val = ttest_ind(yes, no, equal_var=False)\n",
        "print(\"Welch's t-test Results:\")\n",
        "print(f\"T-statistic: {t_stat:.3f}\")\n",
        "print(f\"P-value: {p_val:.3f}\")"
      ]
    },
    {
      "cell_type": "markdown",
      "id": "1393aaa3-391c-4655-809f-5429400ea5b2",
      "metadata": {
        "id": "1393aaa3-391c-4655-809f-5429400ea5b2"
      },
      "source": [
        "#### Task 7.4\n",
        "\n",
        "Which type of test should be used to determine whether the proportion of total damage (`DMG_total`) out of all the total strikes (`STR_total`), is constant in all `INCIDENT_YEAR`?"
      ]
    },
    {
      "cell_type": "code",
      "execution_count": null,
      "id": "3ac39157-d52f-4f23-95ed-6dd80f6e773a",
      "metadata": {
        "id": "3ac39157-d52f-4f23-95ed-6dd80f6e773a",
        "colab": {
          "base_uri": "https://localhost:8080/"
        },
        "outputId": "aaa640b2-c238-4e7c-d0f0-9ed5829a09fd"
      },
      "outputs": [
        {
          "output_type": "stream",
          "name": "stdout",
          "text": [
            "One-Way ANOVA Results:\n",
            "F-statistic: 4.363\n",
            "P-value: 0.013\n"
          ]
        }
      ],
      "source": [
        "import pandas as pd\n",
        "from scipy.stats import f_oneway\n",
        "df = pd.read_csv('/content/strikes_from_2020.csv')\n",
        "damage_cols = [col for col in df.columns if col.startswith('DAM')]\n",
        "df[damage_cols] = df[damage_cols].apply(pd.to_numeric, errors='coerce')\n",
        "df['DMG_total'] = df[damage_cols].sum(axis=1)\n",
        "df['INCIDENT_YEAR'] = pd.to_numeric(df['INCIDENT_YEAR'], errors='coerce')\n",
        "df = df.dropna(subset=['DMG_total', 'INCIDENT_YEAR'])\n",
        "df['STR_total'] = 1\n",
        "df['damage_per_strike'] = df['DMG_total'] / df['STR_total']\n",
        "groups = [group['damage_per_strike'].values for _, group in df.groupby('INCIDENT_YEAR')]\n",
        "f_stat, p_val = f_oneway(*groups)\n",
        "print(\"One-Way ANOVA Results:\")\n",
        "print(f\"F-statistic: {f_stat:.3f}\")\n",
        "print(f\"P-value: {p_val:.3f}\")\n"
      ]
    },
    {
      "cell_type": "markdown",
      "id": "a90b8a67-ab94-49e0-b1e3-4b8caea0ed80",
      "metadata": {
        "id": "a90b8a67-ab94-49e0-b1e3-4b8caea0ed80"
      },
      "source": [
        "#### Task 7.5\n",
        "\n",
        "Apply the test you suggested in the previous task."
      ]
    },
    {
      "cell_type": "code",
      "execution_count": null,
      "id": "8ead0a04-c284-4541-8b24-5132df2d810a",
      "metadata": {
        "id": "8ead0a04-c284-4541-8b24-5132df2d810a",
        "colab": {
          "base_uri": "https://localhost:8080/"
        },
        "outputId": "4445f632-836c-44bf-d172-a9588e5dad05"
      },
      "outputs": [
        {
          "output_type": "stream",
          "name": "stdout",
          "text": [
            "One-Way ANOVA Results:\n",
            "F-statistic: 4.363\n",
            "P-value: 0.013\n"
          ]
        }
      ],
      "source": [
        "import pandas as pd\n",
        "from scipy.stats import f_oneway\n",
        "df = pd.read_csv('/content/strikes_from_2020.csv')\n",
        "damage_cols = [col for col in df.columns if col.startswith('DAM')]\n",
        "df[damage_cols] = df[damage_cols].apply(pd.to_numeric, errors='coerce')\n",
        "df['DMG_total'] = df[damage_cols].sum(axis=1)\n",
        "df['INCIDENT_YEAR'] = pd.to_numeric(df['INCIDENT_YEAR'], errors='coerce')\n",
        "df = df.dropna(subset=['DMG_total', 'INCIDENT_YEAR'])\n",
        "df['STR_total'] = 1\n",
        "df['damage_per_strike'] = df['DMG_total'] / df['STR_total']\n",
        "groups = [group['damage_per_strike'].values for _, group in df.groupby('INCIDENT_YEAR')]\n",
        "f_stat, p_val = f_oneway(*groups)\n",
        "print(\"One-Way ANOVA Results:\")\n",
        "print(f\"F-statistic: {f_stat:.3f}\")\n",
        "print(f\"P-value: {p_val:.3f}\")\n"
      ]
    },
    {
      "cell_type": "markdown",
      "id": "e4cc2a3d-25c7-49db-9376-faafb4e1b100",
      "metadata": {
        "id": "e4cc2a3d-25c7-49db-9376-faafb4e1b100"
      },
      "source": [
        "#### Task 7.6\n",
        "\n",
        "Briefly interpret the results."
      ]
    },
    {
      "cell_type": "code",
      "execution_count": null,
      "id": "42bac2d9-41c0-4cef-9aee-681900fc9ed4",
      "metadata": {
        "id": "42bac2d9-41c0-4cef-9aee-681900fc9ed4",
        "colab": {
          "base_uri": "https://localhost:8080/"
        },
        "outputId": "02b566b3-49ba-48e6-9a2a-e397d3a9b837"
      },
      "outputs": [
        {
          "output_type": "stream",
          "name": "stdout",
          "text": [
            "One-Way ANOVA Results:\n",
            "F-statistic: 4.363\n",
            "P-value: 0.013\n"
          ]
        }
      ],
      "source": [
        "import pandas as pd\n",
        "from scipy.stats import f_oneway\n",
        "df = pd.read_csv('/content/strikes_from_2020.csv')\n",
        "damage_cols = [col for col in df.columns if col.startswith('DAM')]\n",
        "df[damage_cols] = df[damage_cols].apply(pd.to_numeric, errors='coerce')\n",
        "df['DMG_total'] = df[damage_cols].sum(axis=1)\n",
        "df['INCIDENT_YEAR'] = pd.to_numeric(df['INCIDENT_YEAR'], errors='coerce')\n",
        "df = df.dropna(subset=['DMG_total', 'INCIDENT_YEAR'])\n",
        "df['STR_total'] = 1\n",
        "df['damage_per_strike'] = df['DMG_total'] / df['STR_total']\n",
        "groups = [group['damage_per_strike'].values for _, group in df.groupby('INCIDENT_YEAR')]\n",
        "f_stat, p_val = f_oneway(*groups)\n",
        "print(\"One-Way ANOVA Results:\")\n",
        "print(f\"F-statistic: {f_stat:.3f}\")\n",
        "print(f\"P-value: {p_val:.3f}\")\n",
        "\n"
      ]
    },
    {
      "cell_type": "markdown",
      "id": "1f9f802d-d85c-4fd6-981a-5a2682870a38",
      "metadata": {
        "jp-MarkdownHeadingCollapsed": true,
        "tags": [],
        "id": "1f9f802d-d85c-4fd6-981a-5a2682870a38"
      },
      "source": [
        "## Task 8 - Web scraping"
      ]
    },
    {
      "cell_type": "markdown",
      "id": "e6de8b9e-72eb-423c-81c1-413edb6ec12b",
      "metadata": {
        "tags": [],
        "id": "e6de8b9e-72eb-423c-81c1-413edb6ec12b"
      },
      "source": [
        "#### Task 8.1\n",
        "How much do the top companies cost?\n",
        "\n",
        "Analyze this link: [Companies Market Cap - Top Companies](https://companiesmarketcap.com/)\n",
        "\n",
        "Create a list of the names of the top 10 companies by market capitalization on this page.\n"
      ]
    },
    {
      "cell_type": "code",
      "execution_count": null,
      "id": "b035c48a-dbbb-46c9-bfe7-d406891ec154",
      "metadata": {
        "id": "b035c48a-dbbb-46c9-bfe7-d406891ec154",
        "colab": {
          "base_uri": "https://localhost:8080/"
        },
        "outputId": "932da959-8301-47ce-f94e-86ce8d7b13d8"
      },
      "outputs": [
        {
          "output_type": "stream",
          "name": "stdout",
          "text": [
            ". 1 — MicrosoftMSFT\n",
            ". 2 — NVIDIANVDA\n",
            ". 3 — AppleAAPL\n",
            ". 4 — AmazonAMZN\n",
            ". 5 — Alphabet (Google)GOOG\n",
            ". 6 — Meta Platforms (Facebook)META\n",
            ". 7 — Saudi Aramco2222.SR\n",
            ". 8 — BroadcomAVGO\n",
            ". 9 — TSMCTSM\n",
            ". 10 — Berkshire HathawayBRK-B\n"
          ]
        }
      ],
      "source": [
        "import requests\n",
        "from bs4 import BeautifulSoup\n",
        "\n",
        "def get_top_10_companies(url):\n",
        "    resp = requests.get(url, headers={'User-Agent': 'Mozilla/5.0'})\n",
        "    resp.raise_for_status()\n",
        "    soup = BeautifulSoup(resp.text, 'html.parser')\n",
        "    rows = soup.select('table tr')\n",
        "    top10 = []\n",
        "    for row in rows[1:11]:\n",
        "        cols = row.find_all('td')\n",
        "        if not cols:\n",
        "            continue\n",
        "        rank = cols[0].get_text(strip=True)\n",
        "        name = cols[1].get_text(strip=True)\n",
        "        market_cap = cols[2].get_text(strip=True)\n",
        "        top10.append({\n",
        "            'rank': rank,\n",
        "            'name': name,\n",
        "            'market_cap': market_cap\n",
        "        })\n",
        "    return top10\n",
        "\n",
        "url = 'https://companiesmarketcap.com/'\n",
        "top10 = get_top_10_companies(url)\n",
        "for company in top10:\n",
        "    print(f\"{company['rank']}. {company['name']} — {company['market_cap']}\")\n"
      ]
    },
    {
      "cell_type": "markdown",
      "id": "b598ec93-f552-4ff4-9557-5a5f9ee6ab2a",
      "metadata": {
        "id": "b598ec93-f552-4ff4-9557-5a5f9ee6ab2a"
      },
      "source": [
        "#### Task 8.2\n",
        "\n",
        "Which Country has highest number of companies?"
      ]
    },
    {
      "cell_type": "code",
      "execution_count": null,
      "id": "29dcf659-e5c1-47e7-b9ea-981285743309",
      "metadata": {
        "id": "29dcf659-e5c1-47e7-b9ea-981285743309",
        "colab": {
          "base_uri": "https://localhost:8080/"
        },
        "outputId": "108a4ffa-ccd7-4b90-856c-b6df598dc9a5"
      },
      "outputs": [
        {
          "output_type": "stream",
          "name": "stdout",
          "text": [
            "\n",
            "Country with highest number of companies:  ( 0 )\n"
          ]
        }
      ],
      "source": [
        "import requests\n",
        "from bs4 import BeautifulSoup\n",
        "\n",
        "base = \"https://companiesmarketcap.com\"\n",
        "home = base + \"/countries/\"\n",
        "res = requests.get(home)\n",
        "soup = BeautifulSoup(res.text, \"html.parser\")\n",
        "links = soup.select(\"a.countries-link\")\n",
        "\n",
        "max_country = \"\"\n",
        "max_count = 0\n",
        "\n",
        "for link in links[:30]:\n",
        "    country = link.text.strip()\n",
        "    url = base + link['href']\n",
        "    html = requests.get(url).text\n",
        "    sub_soup = BeautifulSoup(html, \"html.parser\")\n",
        "    companies = sub_soup.select(\"tr.py-2\")\n",
        "    count = len(companies)\n",
        "    print(country, \":\", count)\n",
        "    if count > max_count:\n",
        "        max_count = count\n",
        "        max_country = country\n",
        "print(\"\\nCountry with highest number of companies:\", max_country, \"(\", max_count, \")\")\n",
        "\n",
        "\n",
        "\n",
        "\n",
        "\n"
      ]
    },
    {
      "cell_type": "markdown",
      "id": "7f308e60-87ed-49ba-b19c-da7b7252cd7b",
      "metadata": {
        "id": "7f308e60-87ed-49ba-b19c-da7b7252cd7b"
      },
      "source": [
        "#### Task 8.3\n",
        "\n",
        "List all the countries from India in the URL."
      ]
    },
    {
      "cell_type": "code",
      "execution_count": null,
      "id": "f55d76ea-94a4-4fd0-bfe2-883433660b0d",
      "metadata": {
        "id": "f55d76ea-94a4-4fd0-bfe2-883433660b0d",
        "colab": {
          "base_uri": "https://localhost:8080/"
        },
        "outputId": "d386a8ed-92f8-4c3d-a7fc-35360c491f40"
      },
      "outputs": [
        {
          "output_type": "stream",
          "name": "stdout",
          "text": [
            "Companies from India:\n",
            "\n"
          ]
        }
      ],
      "source": [
        "import requests\n",
        "from bs4 import BeautifulSoup\n",
        "\n",
        "url = \"https://companiesmarketcap.com/country/india/\"\n",
        "res = requests.get(url)\n",
        "soup = BeautifulSoup(res.text, \"html.parser\")\n",
        "rows = soup.select(\"tr.py-2\")\n",
        "\n",
        "print(\"Companies from India:\\n\")\n",
        "for row in rows:\n",
        "    name_tag = row.select_one(\"a.company-name\")\n",
        "    if name_tag:\n",
        "        print(name_tag.text.strip())\n"
      ]
    }
  ],
  "metadata": {
    "kernelspec": {
      "display_name": "Python 3 (ipykernel)",
      "language": "python",
      "name": "python3"
    },
    "language_info": {
      "codemirror_mode": {
        "name": "ipython",
        "version": 3
      },
      "file_extension": ".py",
      "mimetype": "text/x-python",
      "name": "python",
      "nbconvert_exporter": "python",
      "pygments_lexer": "ipython3",
      "version": "3.11.0"
    },
    "colab": {
      "provenance": []
    }
  },
  "nbformat": 4,
  "nbformat_minor": 5
}