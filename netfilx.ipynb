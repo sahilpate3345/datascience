{
  "nbformat": 4,
  "nbformat_minor": 0,
  "metadata": {
    "colab": {
      "private_outputs": true,
      "provenance": [],
      "authorship_tag": "ABX9TyN639oitQd5rJtM0wXDIzEz",
      "include_colab_link": true
    },
    "kernelspec": {
      "name": "python3",
      "display_name": "Python 3"
    },
    "language_info": {
      "name": "python"
    }
  },
  "cells": [
    {
      "cell_type": "markdown",
      "metadata": {
        "id": "view-in-github",
        "colab_type": "text"
      },
      "source": [
        "<a href=\"https://colab.research.google.com/github/sahilpate3345/datascience/blob/sahil/netfilx.ipynb\" target=\"_parent\"><img src=\"https://colab.research.google.com/assets/colab-badge.svg\" alt=\"Open In Colab\"/></a>"
      ]
    },
    {
      "cell_type": "code",
      "execution_count": null,
      "metadata": {
        "id": "Lutn2q2bqA2W"
      },
      "outputs": [],
      "source": [
        "import numpy as np\n",
        "import pandas as pd\n",
        "import matplotlib.pyplot as plt\n",
        "import seaborn as sns"
      ]
    },
    {
      "cell_type": "code",
      "source": [
        "df=pd.read_csv(\"/content/mymoviedb.csv\",lineterminator='\\n')\n",
        "df"
      ],
      "metadata": {
        "id": "4ojCa9o4qwoL"
      },
      "execution_count": null,
      "outputs": []
    },
    {
      "cell_type": "code",
      "source": [
        "df.head()\n"
      ],
      "metadata": {
        "id": "rUethV-trIud"
      },
      "execution_count": null,
      "outputs": []
    },
    {
      "cell_type": "code",
      "source": [
        "df.info()"
      ],
      "metadata": {
        "id": "FOnn2RCVrQ1k"
      },
      "execution_count": null,
      "outputs": []
    },
    {
      "cell_type": "code",
      "source": [
        "df['Genre'].head()"
      ],
      "metadata": {
        "id": "g6In2itErc6x"
      },
      "execution_count": null,
      "outputs": []
    },
    {
      "cell_type": "code",
      "source": [
        "df.duplicated().sum()"
      ],
      "metadata": {
        "id": "YQXKZXOWr8NB"
      },
      "execution_count": null,
      "outputs": []
    },
    {
      "cell_type": "code",
      "source": [
        "df.describe()"
      ],
      "metadata": {
        "id": "NdVNO3oWsl3x"
      },
      "execution_count": null,
      "outputs": []
    },
    {
      "cell_type": "code",
      "source": [
        "df.head()"
      ],
      "metadata": {
        "id": "g_wU06hDs0MS"
      },
      "execution_count": null,
      "outputs": []
    },
    {
      "cell_type": "markdown",
      "source": [
        "data cleaning"
      ],
      "metadata": {
        "id": "2p7z83XLuILZ"
      }
    },
    {
      "cell_type": "code",
      "source": [
        "df['Release_Date']=pd.to_datetime(df['Release_Date'])\n",
        "print(df['Release_Date'].dtypes)\n",
        "\n"
      ],
      "metadata": {
        "id": "zDAf2C_Yt-at"
      },
      "execution_count": null,
      "outputs": []
    },
    {
      "cell_type": "code",
      "source": [
        "df['Release_Date']=df['Release_Date'].dt.year\n",
        "df['Release_Date'].dtypes"
      ],
      "metadata": {
        "id": "iO_28-Zauk6v"
      },
      "execution_count": null,
      "outputs": []
    },
    {
      "cell_type": "code",
      "source": [
        "df.head()"
      ],
      "metadata": {
        "id": "EUa3JNz_u9he"
      },
      "execution_count": null,
      "outputs": []
    },
    {
      "cell_type": "code",
      "source": [
        "cols=['Overview','Original_Language','Poster_Url']"
      ],
      "metadata": {
        "id": "tYGi8eJIvHQu"
      },
      "execution_count": null,
      "outputs": []
    },
    {
      "cell_type": "code",
      "source": [
        "\n",
        "df.drop(['Overview', 'Original_Language', 'Poster_Url'], axis=1, inplace=True, errors='ignore')\n",
        "df.columns\n",
        "\n"
      ],
      "metadata": {
        "id": "bbZMYzM0vkXI"
      },
      "execution_count": null,
      "outputs": []
    },
    {
      "cell_type": "code",
      "source": [
        "df.head()"
      ],
      "metadata": {
        "id": "nCUaBhbcwqDL"
      },
      "execution_count": null,
      "outputs": []
    },
    {
      "cell_type": "code",
      "source": [
        "def catigorize_col(df, col, labels):\n",
        "    desc = df[col].describe()\n",
        "    edges = [\n",
        "        desc['min'],\n",
        "        desc['25%'],\n",
        "        desc['50%'],\n",
        "        desc['75%'],\n",
        "        desc['max']\n",
        "    ]\n",
        "    df[col + '_cat'] = pd.cut(df[col], bins=edges, labels=labels, duplicates='drop')\n",
        "    return df\n",
        "\n"
      ],
      "metadata": {
        "id": "eO8HILys2W6e"
      },
      "execution_count": null,
      "outputs": []
    },
    {
      "cell_type": "code",
      "source": [
        "labels = ['not_popular','below_avg','average','popular']\n",
        "catigorize_col(df, 'Vote_Average', labels)\n",
        "\n",
        "print(df['Vote_Average_cat'].unique())\n",
        "\n"
      ],
      "metadata": {
        "id": "LiH6RrFb0G5I"
      },
      "execution_count": null,
      "outputs": []
    },
    {
      "cell_type": "code",
      "source": [
        "df.head()"
      ],
      "metadata": {
        "id": "Q6GZhEZlzyNO"
      },
      "execution_count": null,
      "outputs": []
    },
    {
      "cell_type": "code",
      "source": [
        "df['Vote_Average'].value_counts()"
      ],
      "metadata": {
        "id": "gqixKCd45SIN"
      },
      "execution_count": null,
      "outputs": []
    },
    {
      "cell_type": "code",
      "source": [
        "df.dropna(inplace=True)\n",
        "df.isna().sum()"
      ],
      "metadata": {
        "id": "BGLXlEkC5uPr"
      },
      "execution_count": null,
      "outputs": []
    },
    {
      "cell_type": "code",
      "source": [
        "df.head()"
      ],
      "metadata": {
        "id": "o7JNvVLD5_DH"
      },
      "execution_count": null,
      "outputs": []
    },
    {
      "cell_type": "code",
      "source": [
        "df['Genre']=df['Genre'].str.split(',')\n",
        "df = df.explode('Genre')\n",
        "df.reset_index(drop=True, inplace=True)\n",
        "\n",
        "df.head()"
      ],
      "metadata": {
        "id": "4Mkh42EQ6L-t"
      },
      "execution_count": null,
      "outputs": []
    },
    {
      "cell_type": "code",
      "source": [
        "df['Genre']=df['Genre'].astype('category')\n",
        "df['Genre'].dtypes"
      ],
      "metadata": {
        "id": "NI5Tn08t7rCe"
      },
      "execution_count": null,
      "outputs": []
    },
    {
      "cell_type": "code",
      "source": [
        "df.info()"
      ],
      "metadata": {
        "id": "VPkiyaMQ8E0V"
      },
      "execution_count": null,
      "outputs": []
    },
    {
      "cell_type": "code",
      "source": [
        "df.nunique()"
      ],
      "metadata": {
        "id": "BhbeLe9N8Ik6"
      },
      "execution_count": null,
      "outputs": []
    },
    {
      "cell_type": "code",
      "source": [
        "df.head()"
      ],
      "metadata": {
        "id": "FsgEIYxQ9uu6"
      },
      "execution_count": null,
      "outputs": []
    },
    {
      "cell_type": "code",
      "source": [
        "import seaborn as sns\n",
        "sns.set_style('whitegrid')\n",
        "\n"
      ],
      "metadata": {
        "id": "NnghrOCi99hI"
      },
      "execution_count": null,
      "outputs": []
    },
    {
      "cell_type": "markdown",
      "source": [
        "what is most frquent genre of movies released on netflix?"
      ],
      "metadata": {
        "id": "gqapsNI2-UJk"
      }
    },
    {
      "cell_type": "code",
      "source": [
        "df['Genre'].describe()"
      ],
      "metadata": {
        "id": "29z9fvZU-ReV"
      },
      "execution_count": null,
      "outputs": []
    },
    {
      "cell_type": "code",
      "source": [
        "sns.catplot(y='Genre',data=df,kind='count',order=df['Genre'].value_counts().index,\n",
        "            color='#4287f5')\n",
        "plt.title('genre dis')\n",
        "plt.show()"
      ],
      "metadata": {
        "id": "x8ktrxGW-iZq"
      },
      "execution_count": null,
      "outputs": []
    },
    {
      "cell_type": "markdown",
      "source": [
        "which has highest most column"
      ],
      "metadata": {
        "id": "ytg9oMIR_jJR"
      }
    },
    {
      "cell_type": "code",
      "source": [
        "df.head()"
      ],
      "metadata": {
        "id": "auldwTYQ_X2B"
      },
      "execution_count": null,
      "outputs": []
    },
    {
      "cell_type": "markdown",
      "source": [],
      "metadata": {
        "id": "TD0ZOesAAABy"
      }
    },
    {
      "cell_type": "code",
      "source": [
        "sns.catplot(y='Vote_Average',data=df,kind='count',order=df['Vote_Average'].value_counts().index,\n",
        "            color='#4287f5')\n",
        "\n",
        "plt.title('Vote distribution')\n",
        "plt.show()"
      ],
      "metadata": {
        "id": "sQyWKCRJ_vJ_"
      },
      "execution_count": null,
      "outputs": []
    },
    {
      "cell_type": "code",
      "source": [
        "what movie got highest popularity what its genre?"
      ],
      "metadata": {
        "id": "FAMs0s0HA8vq"
      },
      "execution_count": null,
      "outputs": []
    },
    {
      "cell_type": "code",
      "source": [
        "df.head(2)"
      ],
      "metadata": {
        "id": "5Y-O3RFcBemO"
      },
      "execution_count": null,
      "outputs": []
    },
    {
      "cell_type": "code",
      "source": [
        "df[df['Popularity']==df['Popularity'].max()]"
      ],
      "metadata": {
        "id": "zev7Q37gA1vO"
      },
      "execution_count": null,
      "outputs": []
    },
    {
      "cell_type": "markdown",
      "source": [
        "what movie got lowest popularity"
      ],
      "metadata": {
        "id": "SYBht5D0Bmw_"
      }
    },
    {
      "cell_type": "code",
      "source": [
        "df[df['Popularity']==df['Popularity'].min()]"
      ],
      "metadata": {
        "id": "pCCZ3xK5BiKG"
      },
      "execution_count": null,
      "outputs": []
    },
    {
      "cell_type": "markdown",
      "source": [
        "which year has the most movie filmed"
      ],
      "metadata": {
        "id": "3XEt2-6bB1co"
      }
    },
    {
      "cell_type": "code",
      "source": [
        "df['Release_Date'].hist()\n",
        "plt.title('Release Date Column Distribution')\n",
        "plt.show()"
      ],
      "metadata": {
        "id": "NkNEi0m6ByuX"
      },
      "execution_count": null,
      "outputs": []
    }
  ]
}