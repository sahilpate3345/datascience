{
  "cells": [
    {
      "cell_type": "markdown",
      "metadata": {
        "id": "view-in-github",
        "colab_type": "text"
      },
      "source": [
        "<a href=\"https://colab.research.google.com/github/sahilpate3345/datascience/blob/sahil/two_sample_T_test.ipynb\" target=\"_parent\"><img src=\"https://colab.research.google.com/assets/colab-badge.svg\" alt=\"Open In Colab\"/></a>"
      ]
    },
    {
      "cell_type": "code",
      "execution_count": null,
      "id": "bead5187-17ab-46e0-89fc-22d4028baa73",
      "metadata": {
        "id": "bead5187-17ab-46e0-89fc-22d4028baa73"
      },
      "outputs": [],
      "source": [
        "import numpy as np\n",
        "from scipy import stats"
      ]
    },
    {
      "cell_type": "code",
      "execution_count": null,
      "id": "3273d9dc-af4e-45e6-90f0-bd9aa3e3190e",
      "metadata": {
        "id": "3273d9dc-af4e-45e6-90f0-bd9aa3e3190e"
      },
      "outputs": [],
      "source": [
        "group_A = [85, 88, 90, 92, 87, 85, 89, 91, 86, 88]\n",
        "group_B = [82, 84, 80, 83, 81, 79, 78, 85, 84, 83]"
      ]
    },
    {
      "cell_type": "code",
      "execution_count": null,
      "id": "bb8345e0-8db8-495a-9687-71bf7ceb635e",
      "metadata": {
        "id": "bb8345e0-8db8-495a-9687-71bf7ceb635e"
      },
      "outputs": [],
      "source": [
        "t_stats , p_value = stats.ttest_ind(group_A, group_B , equal_var= False)"
      ]
    },
    {
      "cell_type": "code",
      "execution_count": null,
      "id": "640568f7-8b8f-4f6c-9659-e67e4b43365a",
      "metadata": {
        "id": "640568f7-8b8f-4f6c-9659-e67e4b43365a",
        "outputId": "0dd3b8de-cbd9-4f96-97de-e5aaac0b9a1f"
      },
      "outputs": [
        {
          "data": {
            "text/plain": [
              "5.829604009507161"
            ]
          },
          "execution_count": 14,
          "metadata": {},
          "output_type": "execute_result"
        }
      ],
      "source": [
        "t_stats"
      ]
    },
    {
      "cell_type": "code",
      "execution_count": null,
      "id": "6db29f42-68db-4c48-8e49-87617749855d",
      "metadata": {
        "id": "6db29f42-68db-4c48-8e49-87617749855d"
      },
      "outputs": [],
      "source": [
        "alpha = 0.05"
      ]
    },
    {
      "cell_type": "code",
      "execution_count": null,
      "id": "973590f0-9a4c-4cba-a6d4-deb1f2fa4041",
      "metadata": {
        "id": "973590f0-9a4c-4cba-a6d4-deb1f2fa4041",
        "outputId": "92b6703f-635e-4f4d-d6a7-d7513929f002"
      },
      "outputs": [
        {
          "name": "stdout",
          "output_type": "stream",
          "text": [
            "I will reject the null hypothesis \n"
          ]
        }
      ],
      "source": [
        "if p_value < alpha:\n",
        "    print(\"I will reject the null hypothesis \")\n",
        "else:\n",
        "    print(\"i will accept the null hypothesis\" )"
      ]
    },
    {
      "cell_type": "code",
      "execution_count": null,
      "id": "f87ca446-e429-4ec8-ad5d-063e7782aede",
      "metadata": {
        "id": "f87ca446-e429-4ec8-ad5d-063e7782aede"
      },
      "outputs": [],
      "source": []
    }
  ],
  "metadata": {
    "kernelspec": {
      "display_name": "Python [conda env:base] *",
      "language": "python",
      "name": "conda-base-py"
    },
    "language_info": {
      "codemirror_mode": {
        "name": "ipython",
        "version": 3
      },
      "file_extension": ".py",
      "mimetype": "text/x-python",
      "name": "python",
      "nbconvert_exporter": "python",
      "pygments_lexer": "ipython3",
      "version": "3.12.7"
    },
    "colab": {
      "provenance": [],
      "include_colab_link": true
    }
  },
  "nbformat": 4,
  "nbformat_minor": 5
}