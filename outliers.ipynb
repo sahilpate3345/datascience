{
  "cells": [
    {
      "cell_type": "markdown",
      "metadata": {
        "id": "view-in-github",
        "colab_type": "text"
      },
      "source": [
        "<a href=\"https://colab.research.google.com/github/sahilpate3345/datascience/blob/sahil/outliers.ipynb\" target=\"_parent\"><img src=\"https://colab.research.google.com/assets/colab-badge.svg\" alt=\"Open In Colab\"/></a>"
      ]
    },
    {
      "cell_type": "code",
      "execution_count": null,
      "id": "863af3e3-578e-4481-93b4-fa0817abe5bb",
      "metadata": {
        "id": "863af3e3-578e-4481-93b4-fa0817abe5bb",
        "outputId": "d70bfc07-d5a5-4e7c-f094-02ad7fbc1bff"
      },
      "outputs": [
        {
          "data": {
            "text/plain": [
              "array([  2,   3,   4,   6,   7,   8,   9,  12,  13,  16,  17,  23,  25,\n",
              "        27,  34,  37, 201])"
            ]
          },
          "execution_count": 4,
          "metadata": {},
          "output_type": "execute_result"
        }
      ],
      "source": [
        "import numpy as np\n",
        "arr = np.array([2,3,4,6,7,8,9,12,13,16,17,23,25,27,34,37,201])\n",
        "arr"
      ]
    },
    {
      "cell_type": "code",
      "execution_count": null,
      "id": "a6745b52-c272-4fc4-87b3-4d41a98c1324",
      "metadata": {
        "id": "a6745b52-c272-4fc4-87b3-4d41a98c1324"
      },
      "outputs": [],
      "source": [
        "Q1 = np.percentile(arr,25)\n",
        "Q3 = np.percentile(arr,75)"
      ]
    },
    {
      "cell_type": "code",
      "execution_count": null,
      "id": "96bead5f-3568-4896-ae8b-147267566cec",
      "metadata": {
        "id": "96bead5f-3568-4896-ae8b-147267566cec",
        "outputId": "56c3905e-a8e9-49d2-9bd2-80c522124317"
      },
      "outputs": [
        {
          "data": {
            "text/plain": [
              "18.0"
            ]
          },
          "execution_count": 18,
          "metadata": {},
          "output_type": "execute_result"
        }
      ],
      "source": [
        "IQR = Q3 - Q1\n",
        "IQR"
      ]
    },
    {
      "cell_type": "code",
      "execution_count": null,
      "id": "42d6b1ab-7add-4305-882a-c4faa2a34c15",
      "metadata": {
        "id": "42d6b1ab-7add-4305-882a-c4faa2a34c15"
      },
      "outputs": [],
      "source": [
        "UF = Q3 + (1.5*IQR)\n",
        "LF = Q1 - (1.5*IQR)"
      ]
    },
    {
      "cell_type": "code",
      "execution_count": null,
      "id": "425833bc-9559-4914-bf6e-701849e3a69d",
      "metadata": {
        "id": "425833bc-9559-4914-bf6e-701849e3a69d"
      },
      "outputs": [],
      "source": [
        "l = []\n",
        "for i in arr:\n",
        "    if i >= LF and i <= UF:\n",
        "        l.append(i)\n",
        "arr2 = np.array(l)\n"
      ]
    },
    {
      "cell_type": "code",
      "execution_count": null,
      "id": "f1647bc8-0123-4e1d-aaa6-85c82062d736",
      "metadata": {
        "id": "f1647bc8-0123-4e1d-aaa6-85c82062d736",
        "outputId": "ae2b4104-7278-4b98-88a7-32f1116a9921"
      },
      "outputs": [
        {
          "name": "stdout",
          "output_type": "stream",
          "text": [
            "[  2   3   4   6   7   8   9  12  13  16  17  23  25  27  34  37 201]\n",
            "[ 2  3  4  6  7  8  9 12 13 16 17 23 25 27 34 37]\n"
          ]
        }
      ],
      "source": [
        "print(arr)\n",
        "print(arr2)"
      ]
    },
    {
      "cell_type": "code",
      "execution_count": null,
      "id": "413d1882-7fa1-4617-9369-a1a1a277e03e",
      "metadata": {
        "id": "413d1882-7fa1-4617-9369-a1a1a277e03e",
        "outputId": "e4e55874-50e4-4515-df8b-b58fcb2be637"
      },
      "outputs": [
        {
          "data": {
            "text/plain": [
              "<Axes: >"
            ]
          },
          "execution_count": 42,
          "metadata": {},
          "output_type": "execute_result"
        },
        {
          "data": {
            "image/png": "[encoded data removed]",
            "text/plain": [
              "<Figure size 640x480 with 1 Axes>"
            ]
          },
          "metadata": {},
          "output_type": "display_data"
        }
      ],
      "source": [
        "import seaborn as sns\n",
        "\n",
        "sns.boxplot(x = arr2)"
      ]
    },
    {
      "cell_type": "code",
      "execution_count": null,
      "id": "ab258a70-05b7-40a0-bf5c-77c6652fa464",
      "metadata": {
        "id": "ab258a70-05b7-40a0-bf5c-77c6652fa464"
      },
      "outputs": [],
      "source": []
    }
  ],
  "metadata": {
    "kernelspec": {
      "display_name": "Python [conda env:base] *",
      "language": "python",
      "name": "conda-base-py"
    },
    "language_info": {
      "codemirror_mode": {
        "name": "ipython",
        "version": 3
      },
      "file_extension": ".py",
      "mimetype": "text/x-python",
      "name": "python",
      "nbconvert_exporter": "python",
      "pygments_lexer": "ipython3",
      "version": "3.12.7"
    },
    "colab": {
      "provenance": [],
      "include_colab_link": true
    }
  },
  "nbformat": 4,
  "nbformat_minor": 5
}