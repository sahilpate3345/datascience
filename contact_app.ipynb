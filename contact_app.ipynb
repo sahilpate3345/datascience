{
  "cells": [
    {
      "cell_type": "markdown",
      "metadata": {
        "id": "view-in-github",
        "colab_type": "text"
      },
      "source": [
        "<a href=\"https://colab.research.google.com/github/sahilpate3345/datascience/blob/sahil/contact_app.ipynb\" target=\"_parent\"><img src=\"https://colab.research.google.com/assets/colab-badge.svg\" alt=\"Open In Colab\"/></a>"
      ]
    },
    {
      "cell_type": "markdown",
      "metadata": {
        "id": "QsCQKXIpQM9e"
      },
      "source": [
        "# Contact app\n",
        "\n",
        "You have learnt a lot of new things; data structures, string, regex & files. Lets use all our newly acquired knowledge to build a **contact app**, just like the ones in our smartphone.\n",
        "\n",
        "We will not be building a fancy UI, instead we will focus on understanding the programming logic.\n",
        "\n",
        "Lets get started!\n",
        "\n",
        "Think of all the features that your contact app has . . . !\n",
        "- It can show you all the contact names\n",
        "- You can search for contacts (using name)\n",
        "- You can see all the information associated with the contact\n",
        "- You can delete and update contacts\n",
        "\n",
        "Can you think of anything more ? Our contact app should have at least these features.\n",
        "- The app should show us all the contact names\n",
        "- It should allow us to select a contact and view all the information associated with the contact\n",
        "- It should allow us to update contact info & delete contact\n",
        "- Finally, it should show us all the contact names\n",
        "\n",
        "For every contact, we will store the `name`, `number` & `email`."
      ]
    },
    {
      "cell_type": "markdown",
      "metadata": {
        "id": "ZR9qeqT4QM9g"
      },
      "source": [
        "### Data Structure\n",
        "The very first thing that we need to decide is \"What data structure to use?\"\n",
        "\n",
        "To store all the contacts, we can use a list of dictionaries; were each dictionary stores the `name`, `number` & `email`  of the contact.\n",
        "\n",
        "Create a list of dictionaries called `contacts` with 3 dummy contacts.  "
      ]
    },
    {
      "cell_type": "code",
      "execution_count": null,
      "metadata": {
        "id": "z_syCuo9QM9g"
      },
      "outputs": [],
      "source": [
        "contacts=[{\"name\":\"sahil\" ,\"number\":\"9890XX\",\"email\":\"sahilpate3345@gmail.com\"},\n",
        "         {\"name\":\"rohan\",\"number\":\"98745xx\",\"email\":\"rohan6543@gmail.com\"},\n",
        "         {\"name\":\"ren\",\"number\":\"6533xx\",\"email\":\"ren123@gmail.com\"}]"
      ]
    },
    {
      "cell_type": "markdown",
      "metadata": {
        "id": "IZ74iwfkQM9h"
      },
      "source": [
        "### List all contact names\n",
        "Write `show_contacts` function that takes the `contacts` list and prints all the contact names. These names will help us to select the contact later."
      ]
    },
    {
      "cell_type": "code",
      "execution_count": null,
      "metadata": {
        "id": "EBS6DR75QM9h"
      },
      "outputs": [],
      "source": [
        "def show_contacts(contacts):\n",
        "  for i in contacts:\n",
        "    print(i['name'])\n",
        "\n"
      ]
    },
    {
      "cell_type": "code",
      "execution_count": null,
      "metadata": {
        "id": "yso9_85XQM9i",
        "colab": {
          "base_uri": "https://localhost:8080/"
        },
        "outputId": "c9d8685f-e62e-4622-844d-441e4c42d2d4"
      },
      "outputs": [
        {
          "output_type": "stream",
          "name": "stdout",
          "text": [
            "sahil\n",
            "rohan\n",
            "ren\n"
          ]
        }
      ],
      "source": [
        "show_contacts(contacts)"
      ]
    },
    {
      "cell_type": "markdown",
      "metadata": {
        "id": "43lI8DWJQM9i"
      },
      "source": [
        "### Add a new Contact\n",
        "\n",
        "Write `add_contact` function that takes user input and *adds new contact* dictionary to the existing list of `contacts`."
      ]
    },
    {
      "cell_type": "code",
      "execution_count": null,
      "metadata": {
        "id": "1_65J80rQM9i"
      },
      "outputs": [],
      "source": [
        "def add_contact(contacts):\n",
        "  name=input(\"enter person name\")\n",
        "  number=input(\"enter no of person\")\n",
        "  email=input(\"enter email id\")\n",
        "  new_contact={\n",
        "      'name':name,\n",
        "      'number':number,\n",
        "      'email':email\n",
        "  }\n",
        "  contacts.append(new_contact)\n",
        "  print(\"added succesfully\\n\")\n"
      ]
    },
    {
      "cell_type": "code",
      "source": [],
      "metadata": {
        "id": "LGVcu2stwLnV"
      },
      "execution_count": null,
      "outputs": []
    },
    {
      "cell_type": "code",
      "execution_count": null,
      "metadata": {
        "id": "nZoYZnGpQM9i",
        "colab": {
          "base_uri": "https://localhost:8080/"
        },
        "outputId": "2de87101-d5ed-43e8-ab74-9855b947c6d8"
      },
      "outputs": [
        {
          "output_type": "stream",
          "name": "stdout",
          "text": [
            "enter person nameTanuj\n",
            "enter no of person4576587687\n",
            "enter email idtanuj@gmail.com\n",
            "added succesfully\n",
            "\n"
          ]
        }
      ],
      "source": [
        "add_contact(contacts)"
      ]
    },
    {
      "cell_type": "markdown",
      "metadata": {
        "id": "JkUcDIb5QM9i"
      },
      "source": [
        "### Delete Contact\n",
        "\n",
        "Write `delete_contact` function to delete an existing contact by providing `name` of the contact which we want to delete."
      ]
    },
    {
      "cell_type": "code",
      "execution_count": null,
      "metadata": {
        "id": "n6-gKBnaQM9i"
      },
      "outputs": [],
      "source": [
        "def delete_contact(contacts, name):\n",
        "  for contact in contacts:\n",
        "    if contact['name']==name:\n",
        "      print(contact)\n",
        "      # contact['name']=\n",
        "      contacts.remove(contact)\n",
        "\n"
      ]
    },
    {
      "cell_type": "code",
      "execution_count": null,
      "metadata": {
        "id": "NBm9Xg69QM9i",
        "colab": {
          "base_uri": "https://localhost:8080/"
        },
        "outputId": "8df61fff-de44-4df8-e764-3e29de908b79"
      },
      "outputs": [
        {
          "output_type": "stream",
          "name": "stdout",
          "text": [
            "enter name of personTanuj\n",
            "{'name': 'Tanuj', 'number': '4576587687', 'email': 'tanuj@gmail.com'}\n"
          ]
        }
      ],
      "source": [
        "name=input(\"enter name of person\")\n",
        "\n",
        "delete_contact(contacts, name)"
      ]
    },
    {
      "cell_type": "code",
      "source": [],
      "metadata": {
        "id": "qsTHA7vqRdGI"
      },
      "execution_count": null,
      "outputs": []
    },
    {
      "cell_type": "markdown",
      "metadata": {
        "id": "GQsMSxneQM9i"
      },
      "source": [
        "### Update Contact details\n",
        "\n",
        "Let's write `update_contact` function which will *update contact details* such as `name`, `email` & `number`.\n",
        "The functions should take `contacts` and `name` as arguments. It should also print the newly added contact."
      ]
    },
    {
      "cell_type": "code",
      "execution_count": null,
      "metadata": {
        "id": "08JOQzAbQM9j"
      },
      "outputs": [],
      "source": [
        "def update_contact(contacts, name):\n",
        "  for contact in contacts:\n",
        "    if contact['name']==name:\n",
        "      c = int(input(\"Enter 1: Name, 2: Number, 3: email, 4: All, 5:Exit\"))\n",
        "      if c == 1:\n",
        "        contact['name']=input()\n",
        "      elif c == 3:\n",
        "        contact['email']=input()\n",
        "      elif c == 2:\n",
        "        contact['number']=input()\n",
        "      elif c ==4:\n",
        "        contact['name']=input()\n",
        "        contact['email']=input()\n",
        "        contact['number']=input()\n",
        "      else:\n",
        "        return contacts\n",
        "    else:\n",
        "      print(\"Contact not Found\")\n",
        "  return contacts\n",
        "\n",
        "\n",
        "\n"
      ]
    },
    {
      "cell_type": "code",
      "execution_count": null,
      "metadata": {
        "id": "ZcW9ZZFsQM9j",
        "colab": {
          "base_uri": "https://localhost:8080/"
        },
        "outputId": "4798b400-1003-4302-a9e1-a7bf010935b2"
      },
      "outputs": [
        {
          "output_type": "stream",
          "name": "stdout",
          "text": [
            "Enter 1: Name, 2: Number, 3: email, 4: All, 5:Exit1\n",
            "Sahil\n",
            "Contact not Found\n",
            "Contact not Found\n"
          ]
        },
        {
          "output_type": "execute_result",
          "data": {
            "text/plain": [
              "[{'name': 'Sahil', 'number': '9890XX', 'email': 'sahilpate3345@gmail.com'},\n",
              " {'name': 'rohan', 'number': '98745xx', 'email': 'rohan6543@gmail.com'},\n",
              " {'name': 'ren', 'number': '6533xx', 'email': 'ren123@gmail.com'}]"
            ]
          },
          "metadata": {},
          "execution_count": 93
        }
      ],
      "source": [
        "update_contact(contacts, \"sahil\")"
      ]
    },
    {
      "cell_type": "markdown",
      "metadata": {
        "id": "ba1S7XdEQM9j"
      },
      "source": [
        "### Open Contact\n",
        "`open_contact` function takes the `contacts` list and a `name` string as input. It prints the contact details if `name` matches some contact name in the `contacts` list, else prints `No match found!`.\n",
        "\n",
        "**Note:** The functions should be case insensitive."
      ]
    },
    {
      "cell_type": "code",
      "execution_count": null,
      "metadata": {
        "id": "pUlbb4X5QM9j"
      },
      "outputs": [],
      "source": [
        "def open_contact(contacts, name):\n",
        "  for contact in contacts:\n",
        "    if contact['name']==name:\n",
        "      return contact\n",
        "    else:\n",
        "      print(\"contact not found\")\n",
        "\n",
        "\n",
        "\n",
        "\n",
        "\n"
      ]
    },
    {
      "cell_type": "code",
      "execution_count": null,
      "metadata": {
        "id": "q3xwglZTQM9j",
        "colab": {
          "base_uri": "https://localhost:8080/"
        },
        "outputId": "74d46ff0-5fa7-4736-c2ab-f60f9b0345d4"
      },
      "outputs": [
        {
          "output_type": "execute_result",
          "data": {
            "text/plain": [
              "{'name': 'Sahil', 'number': '9890XX', 'email': 'sahilpate3345@gmail.com'}"
            ]
          },
          "metadata": {},
          "execution_count": 95
        }
      ],
      "source": [
        "open_contact(contacts, \"Sahil\")"
      ]
    },
    {
      "cell_type": "markdown",
      "metadata": {
        "id": "2wHMiKbtQM9j"
      },
      "source": [
        "We often see *update* & *delete* options after we open a particular contact. It would be great if we can also implement the same.\n",
        "\n",
        "After opening the contact, the program should wait for user input. The user can press `u` to update & `d` delete contact. Any other key press should be ignored\n",
        "\n",
        "Write the updated `open_contact` function below"
      ]
    },
    {
      "cell_type": "code",
      "execution_count": null,
      "metadata": {
        "id": "3ttpWX7kQM9j"
      },
      "outputs": [],
      "source": [
        "def open_contact(contacts, name):\n",
        "    for contact in contacts:\n",
        "        if contact['name'] == name:\n",
        "            print(\"Contact\")\n",
        "            c = input(\"Enter 1 to update contact, 2 to delete contact: \")\n",
        "            if c == \"1\":\n",
        "                update_contact(contacts, name)\n",
        "            elif c == \"2\":\n",
        "                delete_contact(contacts, name)\n",
        "\n",
        "\n",
        "\n"
      ]
    },
    {
      "cell_type": "code",
      "source": [],
      "metadata": {
        "id": "yVJPuNwnBTkb"
      },
      "execution_count": null,
      "outputs": []
    },
    {
      "cell_type": "code",
      "execution_count": null,
      "metadata": {
        "id": "Y2ruAlgWQM9j",
        "colab": {
          "base_uri": "https://localhost:8080/"
        },
        "outputId": "e287d516-90dc-4bc7-b5e4-d96d6540b0ff"
      },
      "outputs": [
        {
          "output_type": "stream",
          "name": "stdout",
          "text": [
            "Contact\n",
            "Enter 1 to update contact, 2 to delete contact: 1\n",
            "Enter 1: Name, 2: Number, 3: email, 4: All, 5:Exit3\n",
            "saghil@gmail.com\n",
            "Contact not Found\n",
            "Contact not Found\n"
          ]
        }
      ],
      "source": [
        "open_contact(contacts, \"Sahil\")"
      ]
    },
    {
      "cell_type": "code",
      "source": [
        "contacts"
      ],
      "metadata": {
        "colab": {
          "base_uri": "https://localhost:8080/"
        },
        "id": "F_AiHWFXGEaS",
        "outputId": "096edffa-aa42-4df0-8cb4-239b171ad500"
      },
      "execution_count": null,
      "outputs": [
        {
          "output_type": "execute_result",
          "data": {
            "text/plain": [
              "[{'name': 'Sahil', 'number': '9890XX', 'email': 'saghil@gmail.com'},\n",
              " {'name': 'rohan', 'number': '98745xx', 'email': 'rohan6543@gmail.com'},\n",
              " {'name': 'ren', 'number': '6533xx', 'email': 'ren123@gmail.com'}]"
            ]
          },
          "metadata": {},
          "execution_count": 98
        }
      ]
    },
    {
      "cell_type": "markdown",
      "metadata": {
        "id": "Dl1W4HE4QM9j"
      },
      "source": [
        "### Complete application (using all the above functions in use)\n",
        "\n",
        "We will use an infinite loop to encapsulate our application logic and break only when `q` is pressed. We will use `clear_output()` function from `IPython.display` to clear the output before printing anything new.\n",
        "\n",
        "Below is the pseudo-code to help you build the application logic."
      ]
    },
    {
      "cell_type": "code",
      "execution_count": null,
      "metadata": {
        "id": "j7YgKJbxQM9j",
        "colab": {
          "base_uri": "https://localhost:8080/",
          "height": 608
        },
        "outputId": "5b90d995-24cb-43be-d815-630d27582d2d"
      },
      "outputs": [
        {
          "output_type": "stream",
          "name": "stdout",
          "text": [
            "Sahil\n",
            "rohan\n",
            "ren\n",
            "Press 'a' - add contact, 'o' - open contact, 's' - search contact, 'q' - quita\n",
            "enter person namesahil\n",
            "enter no of person1\n",
            "enter email idsahilpate3345@gmail,com\n",
            "added succesfully\n",
            "\n",
            "Sahil\n",
            "rohan\n",
            "ren\n",
            "sahil\n"
          ]
        },
        {
          "output_type": "error",
          "ename": "KeyboardInterrupt",
          "evalue": "Interrupted by user",
          "traceback": [
            "\u001b[0;31m---------------------------------------------------------------------------\u001b[0m",
            "\u001b[0;31mKeyboardInterrupt\u001b[0m                         Traceback (most recent call last)",
            "\u001b[0;32m<ipython-input-99-b22e51bcb763>\u001b[0m in \u001b[0;36m<cell line: 0>\u001b[0;34m()\u001b[0m\n\u001b[1;32m      3\u001b[0m \u001b[0;32mwhile\u001b[0m \u001b[0;32mTrue\u001b[0m\u001b[0;34m:\u001b[0m\u001b[0;34m\u001b[0m\u001b[0;34m\u001b[0m\u001b[0m\n\u001b[1;32m      4\u001b[0m   \u001b[0mshow_contacts\u001b[0m\u001b[0;34m(\u001b[0m\u001b[0mcontacts\u001b[0m\u001b[0;34m)\u001b[0m\u001b[0;34m\u001b[0m\u001b[0;34m\u001b[0m\u001b[0m\n\u001b[0;32m----> 5\u001b[0;31m   \u001b[0maction\u001b[0m \u001b[0;34m=\u001b[0m \u001b[0minput\u001b[0m\u001b[0;34m(\u001b[0m\u001b[0;34m\"Press 'a' - add contact, 'o' - open contact, 's' - search contact, 'q' - quit\"\u001b[0m\u001b[0;34m)\u001b[0m\u001b[0;34m\u001b[0m\u001b[0;34m\u001b[0m\u001b[0m\n\u001b[0m\u001b[1;32m      6\u001b[0m   \u001b[0;32mif\u001b[0m \u001b[0maction\u001b[0m \u001b[0;34m==\u001b[0m \u001b[0;34m'a'\u001b[0m\u001b[0;34m:\u001b[0m\u001b[0;34m\u001b[0m\u001b[0;34m\u001b[0m\u001b[0m\n\u001b[1;32m      7\u001b[0m     \u001b[0madd_contact\u001b[0m\u001b[0;34m(\u001b[0m\u001b[0mcontacts\u001b[0m\u001b[0;34m)\u001b[0m\u001b[0;34m\u001b[0m\u001b[0;34m\u001b[0m\u001b[0m\n",
            "\u001b[0;32m/usr/local/lib/python3.11/dist-packages/ipykernel/kernelbase.py\u001b[0m in \u001b[0;36mraw_input\u001b[0;34m(self, prompt)\u001b[0m\n\u001b[1;32m   1175\u001b[0m                 \u001b[0;34m\"raw_input was called, but this frontend does not support input requests.\"\u001b[0m\u001b[0;34m\u001b[0m\u001b[0;34m\u001b[0m\u001b[0m\n\u001b[1;32m   1176\u001b[0m             )\n\u001b[0;32m-> 1177\u001b[0;31m         return self._input_request(\n\u001b[0m\u001b[1;32m   1178\u001b[0m             \u001b[0mstr\u001b[0m\u001b[0;34m(\u001b[0m\u001b[0mprompt\u001b[0m\u001b[0;34m)\u001b[0m\u001b[0;34m,\u001b[0m\u001b[0;34m\u001b[0m\u001b[0;34m\u001b[0m\u001b[0m\n\u001b[1;32m   1179\u001b[0m             \u001b[0mself\u001b[0m\u001b[0;34m.\u001b[0m\u001b[0m_parent_ident\u001b[0m\u001b[0;34m[\u001b[0m\u001b[0;34m\"shell\"\u001b[0m\u001b[0;34m]\u001b[0m\u001b[0;34m,\u001b[0m\u001b[0;34m\u001b[0m\u001b[0;34m\u001b[0m\u001b[0m\n",
            "\u001b[0;32m/usr/local/lib/python3.11/dist-packages/ipykernel/kernelbase.py\u001b[0m in \u001b[0;36m_input_request\u001b[0;34m(self, prompt, ident, parent, password)\u001b[0m\n\u001b[1;32m   1217\u001b[0m             \u001b[0;32mexcept\u001b[0m \u001b[0mKeyboardInterrupt\u001b[0m\u001b[0;34m:\u001b[0m\u001b[0;34m\u001b[0m\u001b[0;34m\u001b[0m\u001b[0m\n\u001b[1;32m   1218\u001b[0m                 \u001b[0;31m# re-raise KeyboardInterrupt, to truncate traceback\u001b[0m\u001b[0;34m\u001b[0m\u001b[0;34m\u001b[0m\u001b[0m\n\u001b[0;32m-> 1219\u001b[0;31m                 \u001b[0;32mraise\u001b[0m \u001b[0mKeyboardInterrupt\u001b[0m\u001b[0;34m(\u001b[0m\u001b[0;34m\"Interrupted by user\"\u001b[0m\u001b[0;34m)\u001b[0m \u001b[0;32mfrom\u001b[0m \u001b[0;32mNone\u001b[0m\u001b[0;34m\u001b[0m\u001b[0;34m\u001b[0m\u001b[0m\n\u001b[0m\u001b[1;32m   1220\u001b[0m             \u001b[0;32mexcept\u001b[0m \u001b[0mException\u001b[0m\u001b[0;34m:\u001b[0m\u001b[0;34m\u001b[0m\u001b[0;34m\u001b[0m\u001b[0m\n\u001b[1;32m   1221\u001b[0m                 \u001b[0mself\u001b[0m\u001b[0;34m.\u001b[0m\u001b[0mlog\u001b[0m\u001b[0;34m.\u001b[0m\u001b[0mwarning\u001b[0m\u001b[0;34m(\u001b[0m\u001b[0;34m\"Invalid Message:\"\u001b[0m\u001b[0;34m,\u001b[0m \u001b[0mexc_info\u001b[0m\u001b[0;34m=\u001b[0m\u001b[0;32mTrue\u001b[0m\u001b[0;34m)\u001b[0m\u001b[0;34m\u001b[0m\u001b[0;34m\u001b[0m\u001b[0m\n",
            "\u001b[0;31mKeyboardInterrupt\u001b[0m: Interrupted by user"
          ]
        }
      ],
      "source": [
        "from IPython.display import clear_output\n",
        "\n",
        "while True:\n",
        "  show_contacts(contacts)\n",
        "  action = input(\"Press 'a' - add contact, 'o' - open contact, 's' - search contact, 'q' - quit\")\n",
        "  if action == 'a':\n",
        "    add_contact(contacts)\n",
        "\n",
        "  elif action == 'o':\n",
        "    name = input(\"Enter name of the contact you want to open. \")\n",
        "    open_contact(contacts, \"Sahil\")\n",
        "\n",
        "  elif action == 'q':\n",
        "     break\n",
        "\n",
        "  else:\n",
        "      print(\"Contact not Found\")"
      ]
    },
    {
      "cell_type": "markdown",
      "metadata": {
        "id": "N7YCi8IrQM9j"
      },
      "source": [
        "## Using files\n",
        "\n",
        "One major problem with the above approach is \"persistent storage\". Every time you close this notebook, all the new contacts are lost. This happens because `contacts` is a python variable. Its lives inside python session. As soon as the session is killed/terminated, all the varibles are also deleted.\n",
        "\n",
        "To address this problem, we will have to use save the contacts in a disk. What better reason to use files? Instead of using *list of dictionary*, use file to save the contacts.\n",
        "\n",
        "Save every new contact in a new-line and use \" , \" to separate the contact fields. This is how the above contacts should look, when saved in a file.\n",
        "\n",
        "```text\n",
        "vivek, vivek@gmail.com, 9921668254\n",
        "ankur, ankur@gmail.com, 8806807004\n",
        "pranav, pranav@gmail.com, 987654321\n",
        "```\n",
        "\n",
        "You task is to make appropriate changes to the above code to use `contacts.txt` instead of using `contacts` list."
      ]
    },
    {
      "cell_type": "markdown",
      "metadata": {
        "id": "eqOWDbnQQM9j"
      },
      "source": [
        "We really hope you had a wonderful time building this applications. This is how applications are developed in really life. You start with a set of basic functionalities and then you keep adding new features (like persistent storage & validation). As the application grows in size, you might encounter new problems to solve."
      ]
    }
  ],
  "metadata": {
    "kernelspec": {
      "display_name": "Python 3",
      "language": "python",
      "name": "python3"
    },
    "language_info": {
      "codemirror_mode": {
        "name": "ipython",
        "version": 3
      },
      "file_extension": ".py",
      "mimetype": "text/x-python",
      "name": "python",
      "nbconvert_exporter": "python",
      "pygments_lexer": "ipython3",
      "version": "3.7.4"
    },
    "toc": {
      "base_numbering": 1,
      "nav_menu": {},
      "number_sections": true,
      "sideBar": true,
      "skip_h1_title": false,
      "title_cell": "Table of Contents",
      "title_sidebar": "Contents",
      "toc_cell": false,
      "toc_position": {},
      "toc_section_display": true,
      "toc_window_display": false
    },
    "colab": {
      "provenance": [],
      "include_colab_link": true
    }
  },
  "nbformat": 4,
  "nbformat_minor": 0
}