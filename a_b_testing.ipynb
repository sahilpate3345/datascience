{
  "nbformat": 4,
  "nbformat_minor": 0,
  "metadata": {
    "colab": {
      "private_outputs": true,
      "provenance": [],
      "cell_execution_strategy": "setup",
      "authorship_tag": "ABX9TyO5U+wRmwoNQrdaN8fh6f/Q",
      "include_colab_link": true
    },
    "kernelspec": {
      "name": "python3",
      "display_name": "Python 3"
    },
    "language_info": {
      "name": "python"
    }
  },
  "cells": [
    {
      "cell_type": "markdown",
      "metadata": {
        "id": "view-in-github",
        "colab_type": "text"
      },
      "source": [
        "<a href=\"https://colab.research.google.com/github/sahilpate3345/datascience/blob/sahil/a_b_testing.ipynb\" target=\"_parent\"><img src=\"https://colab.research.google.com/assets/colab-badge.svg\" alt=\"Open In Colab\"/></a>"
      ]
    },
    {
      "cell_type": "code",
      "execution_count": null,
      "metadata": {
        "id": "Vh1bZr1rx6wk"
      },
      "outputs": [],
      "source": [
        "# Import libraries\n",
        "import pandas as pd\n",
        "import matplotlib.pyplot as plt\n",
        "import seaborn as sns\n",
        "from scipy import stats\n",
        "from scipy.stats import ttest_ind\n",
        "\n",
        "\n",
        "# Load the dataset\n",
        "df = pd.read_csv(r\"/content/marketing_AB.csv\")\n",
        "\n",
        "# Preview the data\n",
        "df.head()"
      ]
    },
    {
      "cell_type": "code",
      "source": [
        "# Check column info\n",
        "df.info()\n",
        "\n",
        "# Check for missing values\n",
        "df.isnull().sum()\n",
        "\n",
        "# Convert 'converted' to integer\n",
        "df['converted'] = df['converted'].astype(int)"
      ],
      "metadata": {
        "id": "gg-ywCqcy0zJ"
      },
      "execution_count": null,
      "outputs": []
    },
    {
      "cell_type": "code",
      "source": [
        " #Summary statistics\n",
        "print(\"Summary Statistics for Numerical Variables:\")\n",
        "print(df.describe())"
      ],
      "metadata": {
        "id": "8DkQU6kU3cn-"
      },
      "execution_count": null,
      "outputs": []
    },
    {
      "cell_type": "code",
      "source": [
        "#Check how many people in each test group\n",
        "df['test group'].value_counts()\n"
      ],
      "metadata": {
        "id": "_LCo0JR53fRS"
      },
      "execution_count": null,
      "outputs": []
    },
    {
      "cell_type": "code",
      "source": [
        "# Check overall conversion rate\n",
        "df['converted'].mean()"
      ],
      "metadata": {
        "id": "G7ePcmGN3jlm"
      },
      "execution_count": null,
      "outputs": []
    },
    {
      "cell_type": "code",
      "source": [
        "df.groupby('test group')['converted'].mean()"
      ],
      "metadata": {
        "id": "nDlEZHmM3s2w"
      },
      "execution_count": null,
      "outputs": []
    },
    {
      "cell_type": "code",
      "source": [
        "import numpy as np\n",
        "from scipy.stats import ttest_ind\n",
        "\n",
        "# Example data (replace with your actual values)\n",
        "ad_group = np.array([23, 25, 30, 29, 22, 24, 27])\n",
        "psa_group = np.array([20, 21, 19, 18, 17, 22, 20])\n",
        "\n",
        "# Perform Welch’s T-test\n",
        "t_stat, p_value = ttest_ind(ad_group, psa_group, equal_var=False)\n",
        "\n",
        "print(\"\\nT-Test Results:\")\n",
        "print(f\"T-Statistic: {t_stat:.4f}\")\n",
        "print(f\"P-Value: {p_value:.4e}\")\n",
        "\n",
        "# Interpret result\n",
        "alpha = 0.05\n",
        "if p_value < alpha:\n",
        "    print(\"Statistically significant: Reject null hypothesis\")\n",
        "else:\n",
        "    print(\"Not statistically significant: Fail to reject null\")\n"
      ],
      "metadata": {
        "id": "0xoawGlo4dFo"
      },
      "execution_count": null,
      "outputs": []
    },
    {
      "cell_type": "code",
      "source": [
        "# Bar plot of conversion rates\n",
        "conversion_rate_by_group = df.groupby('test group')['converted'].mean()\n",
        "\n",
        "plt.figure(figsize=(8, 6))\n",
        "sns.barplot(x=conversion_rate_by_group.index, y=conversion_rate_by_group.values, palette=\"Set2\")\n",
        "plt.title('Conversion Rates by Test Group', fontsize=16)\n",
        "plt.xlabel('Test Group', fontsize=14)\n",
        "plt.ylabel('Conversion Rate', fontsize=14)\n",
        "plt.show()"
      ],
      "metadata": {
        "id": "z1XSicMm7XQD"
      },
      "execution_count": null,
      "outputs": []
    },
    {
      "cell_type": "code",
      "source": [
        "# Conversion Rates by Most Ads Day and Test Group\n",
        "conversion_rate_by_day = df.groupby(['most ads day', 'test group'])['converted'].mean().unstack()\n",
        "\n",
        "plt.figure(figsize=(10, 6))\n",
        "conversion_rate_by_day.plot(kind='bar', stacked=False, color=['#FF8C00', '#8A2BE2'], width=0.7)\n",
        "plt.title('Conversion Rates by Most Ads Day and Test Group', fontsize=15)\n",
        "plt.xlabel('Day of the Week', fontsize=12)\n",
        "plt.ylabel('Conversion Rate', fontsize=12)\n",
        "plt.xticks(rotation=45)\n",
        "plt.legend(title='Test Group', labels=['Ad', 'PSA'])\n",
        "plt.show()"
      ],
      "metadata": {
        "id": "b3fqBaxD4lIt"
      },
      "execution_count": null,
      "outputs": []
    },
    {
      "cell_type": "code",
      "source": [],
      "metadata": {
        "id": "0PmLYIaI4yA2"
      },
      "execution_count": null,
      "outputs": []
    },
    {
      "cell_type": "code",
      "source": [
        "\n"
      ],
      "metadata": {
        "id": "FITu63Sc8R0Q"
      },
      "execution_count": null,
      "outputs": []
    },
    {
      "cell_type": "code",
      "source": [],
      "metadata": {
        "id": "CeY2LUFg95MX"
      },
      "execution_count": null,
      "outputs": []
    },
    {
      "cell_type": "code",
      "source": [],
      "metadata": {
        "id": "E0QoZxcDAL5W"
      },
      "execution_count": null,
      "outputs": []
    },
    {
      "cell_type": "code",
      "source": [],
      "metadata": {
        "id": "UAFnQp3HAf1O"
      },
      "execution_count": null,
      "outputs": []
    },
    {
      "cell_type": "code",
      "source": [],
      "metadata": {
        "id": "GOws3qbqB7Mg"
      },
      "execution_count": null,
      "outputs": []
    }
  ]
}