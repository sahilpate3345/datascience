{
  "cells": [
    {
      "cell_type": "markdown",
      "metadata": {
        "id": "view-in-github",
        "colab_type": "text"
      },
      "source": [
        "<a href=\"https://colab.research.google.com/github/sahilpate3345/datascience/blob/sahil/Bike_Rent_OOPs_Project_(4).ipynb\" target=\"_parent\"><img src=\"https://colab.research.google.com/assets/colab-badge.svg\" alt=\"Open In Colab\"/></a>"
      ]
    },
    {
      "cell_type": "markdown",
      "id": "303d18ca",
      "metadata": {
        "id": "303d18ca"
      },
      "source": [
        "## OOP project"
      ]
    },
    {
      "cell_type": "markdown",
      "id": "5cada111",
      "metadata": {
        "id": "5cada111"
      },
      "source": [
        "A Bike Rental System\n",
        "\n",
        "A full fledged bike rental system implemented in Python using object oriented programming.\n",
        "\n",
        "Customers can see available bikes on the shop.\n",
        "Rent bikes on daily basis Rs.100 per day.\n",
        "Rent bikes on weekly basis Rs.500 per week.\n",
        "Family Rental, a promotion that can include from 3 to 5 Rentals (of any type) with a discount of 30% of the total price.\n",
        "\n",
        "The bike rental shop can issue a bill when customer decides to return the bike,\n",
        "display available inventory ,take requests on daily and weekly basis by cross verifying stock.\n",
        "\n",
        "For simplicity we assume that\n",
        "Any customer requests rentals of only one type i.e daily or weekly and is free to choose the number of bikes he/she wants.\n",
        "Requested bikes should be less than available stock."
      ]
    },
    {
      "cell_type": "code",
      "execution_count": 2,
      "id": "81b2891a",
      "metadata": {
        "id": "81b2891a"
      },
      "outputs": [],
      "source": [
        "class bike_shop:\n",
        "  stock=100\n",
        "  # def ___init__(self):\n",
        "  #   print(\"welcome to rental shop\")\n",
        "  def display_stock(self):\n",
        "    print(f\"available bike{self.stock}\")\n",
        "\n",
        "\n"
      ]
    },
    {
      "cell_type": "markdown",
      "id": "abae9162",
      "metadata": {
        "id": "abae9162"
      },
      "source": [
        "## Step 1\n",
        "\n",
        "Create a parent class `BikeRental`. Define `stock` as `class attribute` and assign value 100 to it.\n",
        "\n",
        "This class should not take any other attribute and when the object is created, it should display the message \"Welcome to rental bike shop.\"\n",
        "\n",
        "Define a method `displaystock` inside this class and when this method is called, it should display the total number of stock available."
      ]
    },
    {
      "cell_type": "code",
      "execution_count": 3,
      "id": "8816e06c",
      "metadata": {
        "id": "8816e06c",
        "colab": {
          "base_uri": "https://localhost:8080/"
        },
        "outputId": "df9d5328-9cf1-424c-d4bb-8cb5d4439250"
      },
      "outputs": [
        {
          "output_type": "stream",
          "name": "stdout",
          "text": [
            "Welcome to rental bike shop\n"
          ]
        }
      ],
      "source": [
        "class BikeRental:\n",
        "  stock = 100\n",
        "  print(\"Welcome to rental bike shop\")\n",
        "\n",
        "  def displaystock(self):\n",
        "    print(f\"total no of stock {self.stock}\")"
      ]
    },
    {
      "cell_type": "markdown",
      "id": "2ca3fb5c",
      "metadata": {
        "id": "2ca3fb5c"
      },
      "source": [
        "Create an object `bike_shop` of above class."
      ]
    },
    {
      "cell_type": "code",
      "execution_count": 4,
      "id": "5184fc96",
      "metadata": {
        "id": "5184fc96",
        "colab": {
          "base_uri": "https://localhost:8080/"
        },
        "outputId": "8c1c7b47-2097-44ee-e907-1f1a624b9bdb"
      },
      "outputs": [
        {
          "output_type": "stream",
          "name": "stdout",
          "text": [
            "total no of stock 100\n"
          ]
        }
      ],
      "source": [
        "bike_shop = BikeRental()\n",
        "bike_shop.displaystock()"
      ]
    },
    {
      "cell_type": "code",
      "execution_count": 4,
      "id": "ef59df60",
      "metadata": {
        "id": "ef59df60"
      },
      "outputs": [],
      "source": [
        "\n"
      ]
    },
    {
      "cell_type": "markdown",
      "id": "73d006a8",
      "metadata": {
        "id": "73d006a8"
      },
      "source": [
        "Check if above created object can access the `class attribute` `stock`."
      ]
    },
    {
      "cell_type": "code",
      "execution_count": 5,
      "id": "a96da206",
      "metadata": {
        "scrolled": true,
        "id": "a96da206",
        "colab": {
          "base_uri": "https://localhost:8080/"
        },
        "outputId": "3d911732-9bfc-458e-d046-47f3260931b9"
      },
      "outputs": [
        {
          "output_type": "execute_result",
          "data": {
            "text/plain": [
              "100"
            ]
          },
          "metadata": {},
          "execution_count": 5
        }
      ],
      "source": [
        "bike_shop.stock"
      ]
    },
    {
      "cell_type": "code",
      "execution_count": 5,
      "id": "4460bd03",
      "metadata": {
        "id": "4460bd03"
      },
      "outputs": [],
      "source": []
    },
    {
      "cell_type": "markdown",
      "id": "a702f97d",
      "metadata": {
        "id": "a702f97d"
      },
      "source": [
        "Call the method `displaystock` using above created object `bike_shop`."
      ]
    },
    {
      "cell_type": "code",
      "execution_count": 6,
      "id": "c4dc35b0",
      "metadata": {
        "id": "c4dc35b0"
      },
      "outputs": [],
      "source": [
        "## your code goes here ##"
      ]
    },
    {
      "cell_type": "code",
      "execution_count": 7,
      "id": "6a859671",
      "metadata": {
        "id": "6a859671",
        "colab": {
          "base_uri": "https://localhost:8080/"
        },
        "outputId": "e735d7d2-efa7-43a9-9cbf-5aa3485ea1bc"
      },
      "outputs": [
        {
          "output_type": "stream",
          "name": "stdout",
          "text": [
            "total no of stock 100\n"
          ]
        }
      ],
      "source": [
        "bike_shop.displaystock()"
      ]
    },
    {
      "cell_type": "markdown",
      "id": "d3a33de1",
      "metadata": {
        "id": "d3a33de1"
      },
      "source": [
        "## Step 2\n",
        "\n",
        "Create a derived class `Customer` to inherit the methods from `BikeRental` class.\n",
        "Define `bill` as `class attribute`and set it's initial value as zero.\n",
        "\n",
        "This class has `number_of_bikes`, `rentalBasis` (daily or weekly) and `number_of_days_or_weeks` as attributes."
      ]
    },
    {
      "cell_type": "code",
      "execution_count": 8,
      "id": "50196270",
      "metadata": {
        "id": "50196270"
      },
      "outputs": [],
      "source": [
        "class customer(BikeRental):\n",
        "    bill=0\n",
        "    def __init__(self,no_of_bike,rentalbasis,no_of_days_or_weeks):\n",
        "      super().__init__( )\n",
        "      self.no_of_bike=no_of_bike\n",
        "      self.rentalbasis=rentalbasis\n",
        "      self.no_of_days_or_weeks=no_of_days_or_weeks\n",
        "\n",
        "\n"
      ]
    },
    {
      "cell_type": "markdown",
      "source": [],
      "metadata": {
        "id": "g9ujNz1w7QZp"
      },
      "id": "g9ujNz1w7QZp"
    },
    {
      "cell_type": "code",
      "execution_count": 8,
      "id": "363883ea",
      "metadata": {
        "id": "363883ea"
      },
      "outputs": [],
      "source": []
    },
    {
      "cell_type": "markdown",
      "id": "98a400fe",
      "metadata": {
        "id": "98a400fe"
      },
      "source": [
        "Define a function `rentBike`, it should have following conditions:\n",
        "\n",
        "- if `number_of_bikes` is less than or equal to zero, it should display the message \"Number of bikes should be positive!\".\n",
        "\n",
        "- if `number_of_bikes` is greater than the `stock`, it should display the `number_of_bikes` available to rent.\n",
        "\n",
        "- Otherwise display the total `number_of_bikes` rented by the customer. Do not forget to update the value of `stock` i.e. subtract the `number_of_bikes` rented from stock and display the updated `stock`."
      ]
    },
    {
      "cell_type": "code",
      "execution_count": 9,
      "id": "0f15d993",
      "metadata": {
        "id": "0f15d993"
      },
      "outputs": [],
      "source": [
        "def rentBike(self):\n",
        "  if self.no_of_bike<=0:\n",
        "    print(\"no of bike should be positive\")\n",
        "  elif self.no_of_bike>self.stock:\n",
        "    print(\"no of bike available to rent\",self.stock)\n",
        "  else:\n",
        "    self.stock=-self.no_of_bike\n",
        "    print(f\"{self.no_of_bike}rent on {self.stock}\")\n",
        "\n",
        "    print(f\"update stock after rented{self.stock}\")\n"
      ]
    },
    {
      "cell_type": "code",
      "execution_count": 9,
      "id": "e66fb261",
      "metadata": {
        "id": "e66fb261"
      },
      "outputs": [],
      "source": []
    },
    {
      "cell_type": "markdown",
      "id": "cb22ec0f",
      "metadata": {
        "id": "cb22ec0f"
      },
      "source": [
        "Define a function `returnBike` to return the total bill of customer.\n",
        "- Check if `rentalBasis` is ' daily ' or ' weekly ' and accordingly calculate the bill. Rent on ' daily ' basis is Rs. 100 per bike and for ' weekly ' basis it is Rs. 500 per bike.\n",
        "\n",
        "- If `number_of_bikes` rented by customer is between 3 to 5 (both values inclusive), 30% discount is offered on total bill. So it should display the message \"You are eligible for Family rental promotion of 30% discount\"."
      ]
    },
    {
      "cell_type": "code",
      "execution_count": 10,
      "id": "48be1e59",
      "metadata": {
        "id": "48be1e59"
      },
      "outputs": [],
      "source": [
        "def returnBike(self):\n",
        "  if self.rentalbasis==\"daily\":\n",
        "     self.bill=self.no_of_bike*100*self.no_of_days_or_weeks\n",
        "  elif self.rentalbasis==\"weekly\":\n",
        "    self.bill=self.no_of_bike*500*self.no_of_days_or_weeks\n",
        "  if  3<=self.no_of_bike<=5:\n",
        "    print(\"you are eligible for family rental promotion of 30% discount\")\n",
        "    self.bill*=0.3\n",
        "    print(f\"bill:{self.bill}\")\n",
        "\n",
        "\n",
        "\n",
        "\n",
        "\n",
        "\n"
      ]
    },
    {
      "cell_type": "code",
      "execution_count": 10,
      "id": "29935c98",
      "metadata": {
        "id": "29935c98"
      },
      "outputs": [],
      "source": []
    },
    {
      "cell_type": "markdown",
      "id": "fa66397a",
      "metadata": {
        "id": "fa66397a"
      },
      "source": [
        "## Step 3\n",
        "\n",
        "Write complete `Customer` class using above defined functions `returnBike` and `rentBike` inside it as methods."
      ]
    },
    {
      "cell_type": "code",
      "execution_count": 11,
      "id": "e1c7c3f5",
      "metadata": {
        "id": "e1c7c3f5"
      },
      "outputs": [],
      "source": [
        "# class bike_shop:\n",
        "#   stock=100\n",
        "#   # def ___init__(self):\n",
        "#   #   print(\"welcome to rental shop\")\n",
        "# # def display_stock(self):\n",
        "  # print(f\"available bike{self.stock}\")\n",
        "class BikeRental:\n",
        "  stock = 100\n",
        "  def __init__(self):\n",
        "    print(\"Welcome to rental bike shop\")\n",
        "\n",
        "  def displaystock(self):\n",
        "    print(f\"total no of stock {self.stock}\")\n",
        "class customer(BikeRental):\n",
        "  bill=0\n",
        "  def __init__(self,no_of_bike,rentalbasis,no_of_days_or_weeks):\n",
        "      super().__init__( )\n",
        "      self.no_of_bike=no_of_bike\n",
        "      self.rentalbasis=rentalbasis\n",
        "      self.no_of_days_or_weeks=no_of_days_or_weeks\n",
        "  def rentBike(self):\n",
        "        if self.no_of_bike<=0:\n",
        "          print(\"no of bike should be positive\")\n",
        "        elif self.no_of_bike>self.stock:\n",
        "          print(\"no of bike available to rent\",self.stock)\n",
        "        else:\n",
        "          self.stock-=self.no_of_bike\n",
        "          print(f\"{self.no_of_bike}rent on {self.stock}\")\n",
        "          print(f\"update stock after rented{self.stock}\")\n",
        "  def returnBike(self):\n",
        "    if self.rentalbasis==\"day\":\n",
        "      self.bill=self.no_of_bike*100*self.no_of_days_or_weeks\n",
        "    elif self.rentalbasis==\"week\":\n",
        "      self.bill=self.no_of_bike*500*self.no_of_days_or_weeks\n",
        "    if  3<=self.no_of_bike<=5:\n",
        "        print(\"you are eligible for family rental promotion of 30% discount\")\n",
        "        self.bill*=0.3\n",
        "    print(f\"bill:{self.bill}\")"
      ]
    },
    {
      "cell_type": "code",
      "execution_count": 11,
      "id": "b8753564",
      "metadata": {
        "id": "b8753564"
      },
      "outputs": [],
      "source": []
    },
    {
      "cell_type": "code",
      "source": [
        "customer_1 = customer(2,'day',5)\n",
        "\n",
        "customer_1.rentBike()\n",
        "customer_1.returnBike()\n",
        "customer_2 = customer(1,'week',3)\n",
        "customer_2.rentBike()\n",
        "customer_2.returnBike()\n",
        "customer_3 = customer(4,'day',3)\n",
        "customer_3.rentBike()\n",
        "customer_3.returnBike()\n",
        "\n",
        "customer_4 = customer(3,'week',3)\n",
        "customer_4.rentBike()\n",
        "customer_4.returnBike()\n",
        "customer_5 = customer(120,'week',3)\n",
        "customer_5.rentBike()\n",
        "customer_5.returnBike()\n",
        "\n",
        "\n",
        "customer_6 = customer(0,'week',3)\n",
        "customer_6.rentBike()\n",
        "customer_6.returnBike()\n",
        "customer_7 = customer(-5,'week',3)\n",
        "customer_7.rentBike()\n",
        "customer_7.returnBike()\n",
        "customer_8 = customer(1,'day',3)\n",
        "customer_8.rentBike()\n",
        "customer_8.returnBike()\n",
        "\n"
      ],
      "metadata": {
        "colab": {
          "base_uri": "https://localhost:8080/"
        },
        "id": "P5OZ0CcFDt5i",
        "outputId": "744b5e36-36cd-4512-b8b6-78c6fca322f9"
      },
      "id": "P5OZ0CcFDt5i",
      "execution_count": 12,
      "outputs": [
        {
          "output_type": "stream",
          "name": "stdout",
          "text": [
            "Welcome to rental bike shop\n",
            "2rent on 98\n",
            "update stock after rented98\n",
            "bill:1000\n",
            "Welcome to rental bike shop\n",
            "1rent on 99\n",
            "update stock after rented99\n",
            "bill:1500\n",
            "Welcome to rental bike shop\n",
            "4rent on 96\n",
            "update stock after rented96\n",
            "you are eligible for family rental promotion of 30% discount\n",
            "bill:360.0\n",
            "Welcome to rental bike shop\n",
            "3rent on 97\n",
            "update stock after rented97\n",
            "you are eligible for family rental promotion of 30% discount\n",
            "bill:1350.0\n",
            "Welcome to rental bike shop\n",
            "no of bike available to rent 100\n",
            "bill:180000\n",
            "Welcome to rental bike shop\n",
            "no of bike should be positive\n",
            "bill:0\n",
            "Welcome to rental bike shop\n",
            "no of bike should be positive\n",
            "bill:-7500\n",
            "Welcome to rental bike shop\n",
            "1rent on 99\n",
            "update stock after rented99\n",
            "bill:300\n"
          ]
        }
      ]
    },
    {
      "cell_type": "markdown",
      "id": "dea7483f",
      "metadata": {
        "id": "dea7483f"
      },
      "source": [
        "## Step 4\n",
        "\n",
        "Check your `Bike Rental System` for test-case objects given below :\n",
        "\n",
        "For first four customers - check all the three attribute values and call `rentBike` and `returnBike` methods.\n",
        "\n",
        "- customer_1 = Customer(2,'day',5)\n",
        "\n",
        "- customer_2 = Customer(1,'week',3)\n",
        "\n",
        "- customer_3 = Customer(4,'day',3)  - Is family discount applicable here ?\n",
        "\n",
        "- customer_4 = Customer(3,'week',3) - Is family discount applicable here ?\n",
        "\n",
        "Call `rentBike` and `displaystock` methods for test-case objects given below :\n",
        "\n",
        "- customer_5 = Customer(120,'week',3)\n",
        "\n",
        "- customer_6 = Customer(0,'week',3)\n",
        "\n",
        "- customer_7 = Customer(-5,'week',3)\n",
        "\n",
        "- customer_8 = Customer(1,'day',3)"
      ]
    },
    {
      "cell_type": "code",
      "execution_count": 12,
      "id": "40d0a7aa",
      "metadata": {
        "id": "40d0a7aa"
      },
      "outputs": [],
      "source": []
    }
  ],
  "metadata": {
    "kernelspec": {
      "display_name": "Python 3",
      "language": "python",
      "name": "python3"
    },
    "language_info": {
      "codemirror_mode": {
        "name": "ipython",
        "version": 3
      },
      "file_extension": ".py",
      "mimetype": "text/x-python",
      "name": "python",
      "nbconvert_exporter": "python",
      "pygments_lexer": "ipython3",
      "version": "3.8.8"
    },
    "colab": {
      "provenance": [],
      "include_colab_link": true
    }
  },
  "nbformat": 4,
  "nbformat_minor": 5
}