{
  "cells": [
    {
      "cell_type": "markdown",
      "metadata": {
        "id": "view-in-github",
        "colab_type": "text"
      },
      "source": [
        "<a href=\"https://colab.research.google.com/github/sahilpate3345/datascience/blob/sahil/blackfriday_sahilpate.ipynb\" target=\"_parent\"><img src=\"https://colab.research.google.com/assets/colab-badge.svg\" alt=\"Open In Colab\"/></a>"
      ]
    },
    {
      "cell_type": "code",
      "execution_count": null,
      "id": "135dd8b9",
      "metadata": {
        "_cell_guid": "b1076dfc-b9ad-4769-8c92-a6c4dae69d19",
        "_uuid": "8f2839f25d086af736a60e9eeb907d3b93b6e0e5",
        "execution": {
          "iopub.execute_input": "2025-06-18T10:09:07.485842Z",
          "iopub.status.busy": "2025-06-18T10:09:07.484762Z",
          "iopub.status.idle": "2025-06-18T10:09:09.401483Z",
          "shell.execute_reply": "2025-06-18T10:09:09.400458Z"
        },
        "papermill": {
          "duration": 1.927801,
          "end_time": "2025-06-18T10:09:09.403184",
          "exception": false,
          "start_time": "2025-06-18T10:09:07.475383",
          "status": "completed"
        },
        "tags": [],
        "id": "135dd8b9",
        "outputId": "a6bfff12-cb2e-442e-e4d4-69b6159110b4"
      },
      "outputs": [
        {
          "name": "stdout",
          "output_type": "stream",
          "text": [
            "/kaggle/input/black-friday-sales-eda/train.csv\n"
          ]
        }
      ],
      "source": [
        "# This Python 3 environment comes with many helpful analytics libraries installed\n",
        "# It is defined by the kaggle/python Docker image: https://github.com/kaggle/docker-python\n",
        "# For example, here's several helpful packages to load\n",
        "\n",
        "import numpy as np # linear algebra\n",
        "import pandas as pd # data processing, CSV file I/O (e.g. pd.read_csv)\n",
        "\n",
        "# Input data files are available in the read-only \"../input/\" directory\n",
        "# For example, running this (by clicking run or pressing Shift+Enter) will list all files under the input directory\n",
        "\n",
        "import os\n",
        "for dirname, _, filenames in os.walk('/kaggle/input'):\n",
        "    for filename in filenames:\n",
        "        print(os.path.join(dirname, filename))\n",
        "\n",
        "# You can write up to 20GB to the current directory (/kaggle/working/) that gets preserved as output when you create a version using \"Save & Run All\"\n",
        "# You can also write temporary files to /kaggle/temp/, but they won't be saved outside of the current session"
      ]
    },
    {
      "cell_type": "code",
      "execution_count": null,
      "id": "be9efd65",
      "metadata": {
        "execution": {
          "iopub.execute_input": "2025-06-18T10:09:09.419547Z",
          "iopub.status.busy": "2025-06-18T10:09:09.419049Z",
          "iopub.status.idle": "2025-06-18T10:09:10.403687Z",
          "shell.execute_reply": "2025-06-18T10:09:10.402759Z"
        },
        "papermill": {
          "duration": 0.99457,
          "end_time": "2025-06-18T10:09:10.405309",
          "exception": false,
          "start_time": "2025-06-18T10:09:09.410739",
          "status": "completed"
        },
        "tags": [],
        "id": "be9efd65"
      },
      "outputs": [],
      "source": [
        "bfs=pd.read_csv('/kaggle/input/black-friday-sales-eda/train.csv')"
      ]
    },
    {
      "cell_type": "code",
      "execution_count": null,
      "id": "5a7c4e6f",
      "metadata": {
        "execution": {
          "iopub.execute_input": "2025-06-18T10:09:10.421573Z",
          "iopub.status.busy": "2025-06-18T10:09:10.421245Z",
          "iopub.status.idle": "2025-06-18T10:09:10.453050Z",
          "shell.execute_reply": "2025-06-18T10:09:10.451938Z"
        },
        "papermill": {
          "duration": 0.042153,
          "end_time": "2025-06-18T10:09:10.454978",
          "exception": false,
          "start_time": "2025-06-18T10:09:10.412825",
          "status": "completed"
        },
        "tags": [],
        "id": "5a7c4e6f",
        "outputId": "1bd8246c-dc6d-4074-c0b0-8ca6da8735f9"
      },
      "outputs": [
        {
          "name": "stderr",
          "output_type": "stream",
          "text": [
            "/usr/local/lib/python3.11/dist-packages/pandas/io/formats/format.py:1458: RuntimeWarning: invalid value encountered in greater\n",
            "  has_large_values = (abs_vals > 1e6).any()\n",
            "/usr/local/lib/python3.11/dist-packages/pandas/io/formats/format.py:1459: RuntimeWarning: invalid value encountered in less\n",
            "  has_small_values = ((abs_vals < 10 ** (-self.digits)) & (abs_vals > 0)).any()\n",
            "/usr/local/lib/python3.11/dist-packages/pandas/io/formats/format.py:1459: RuntimeWarning: invalid value encountered in greater\n",
            "  has_small_values = ((abs_vals < 10 ** (-self.digits)) & (abs_vals > 0)).any()\n"
          ]
        },
        {
          "data": {
            "text/html": [
              "<div>\n",
              "<style scoped>\n",
              "    .dataframe tbody tr th:only-of-type {\n",
              "        vertical-align: middle;\n",
              "    }\n",
              "\n",
              "    .dataframe tbody tr th {\n",
              "        vertical-align: top;\n",
              "    }\n",
              "\n",
              "    .dataframe thead th {\n",
              "        text-align: right;\n",
              "    }\n",
              "</style>\n",
              "<table border=\"1\" class=\"dataframe\">\n",
              "  <thead>\n",
              "    <tr style=\"text-align: right;\">\n",
              "      <th></th>\n",
              "      <th>User_ID</th>\n",
              "      <th>Product_ID</th>\n",
              "      <th>Gender</th>\n",
              "      <th>Age</th>\n",
              "      <th>Occupation</th>\n",
              "      <th>City_Category</th>\n",
              "      <th>Stay_In_Current_City_Years</th>\n",
              "      <th>Marital_Status</th>\n",
              "      <th>Product_Category_1</th>\n",
              "      <th>Product_Category_2</th>\n",
              "      <th>Product_Category_3</th>\n",
              "      <th>Purchase</th>\n",
              "    </tr>\n",
              "  </thead>\n",
              "  <tbody>\n",
              "    <tr>\n",
              "      <th>0</th>\n",
              "      <td>1000001</td>\n",
              "      <td>P00069042</td>\n",
              "      <td>F</td>\n",
              "      <td>0-17</td>\n",
              "      <td>10</td>\n",
              "      <td>A</td>\n",
              "      <td>2</td>\n",
              "      <td>0</td>\n",
              "      <td>3</td>\n",
              "      <td>NaN</td>\n",
              "      <td>NaN</td>\n",
              "      <td>8370</td>\n",
              "    </tr>\n",
              "    <tr>\n",
              "      <th>1</th>\n",
              "      <td>1000001</td>\n",
              "      <td>P00248942</td>\n",
              "      <td>F</td>\n",
              "      <td>0-17</td>\n",
              "      <td>10</td>\n",
              "      <td>A</td>\n",
              "      <td>2</td>\n",
              "      <td>0</td>\n",
              "      <td>1</td>\n",
              "      <td>6.0</td>\n",
              "      <td>14.0</td>\n",
              "      <td>15200</td>\n",
              "    </tr>\n",
              "    <tr>\n",
              "      <th>2</th>\n",
              "      <td>1000001</td>\n",
              "      <td>P00087842</td>\n",
              "      <td>F</td>\n",
              "      <td>0-17</td>\n",
              "      <td>10</td>\n",
              "      <td>A</td>\n",
              "      <td>2</td>\n",
              "      <td>0</td>\n",
              "      <td>12</td>\n",
              "      <td>NaN</td>\n",
              "      <td>NaN</td>\n",
              "      <td>1422</td>\n",
              "    </tr>\n",
              "    <tr>\n",
              "      <th>3</th>\n",
              "      <td>1000001</td>\n",
              "      <td>P00085442</td>\n",
              "      <td>F</td>\n",
              "      <td>0-17</td>\n",
              "      <td>10</td>\n",
              "      <td>A</td>\n",
              "      <td>2</td>\n",
              "      <td>0</td>\n",
              "      <td>12</td>\n",
              "      <td>14.0</td>\n",
              "      <td>NaN</td>\n",
              "      <td>1057</td>\n",
              "    </tr>\n",
              "    <tr>\n",
              "      <th>4</th>\n",
              "      <td>1000002</td>\n",
              "      <td>P00285442</td>\n",
              "      <td>M</td>\n",
              "      <td>55+</td>\n",
              "      <td>16</td>\n",
              "      <td>C</td>\n",
              "      <td>4+</td>\n",
              "      <td>0</td>\n",
              "      <td>8</td>\n",
              "      <td>NaN</td>\n",
              "      <td>NaN</td>\n",
              "      <td>7969</td>\n",
              "    </tr>\n",
              "  </tbody>\n",
              "</table>\n",
              "</div>"
            ],
            "text/plain": [
              "   User_ID Product_ID Gender   Age  Occupation City_Category  \\\n",
              "0  1000001  P00069042      F  0-17          10             A   \n",
              "1  1000001  P00248942      F  0-17          10             A   \n",
              "2  1000001  P00087842      F  0-17          10             A   \n",
              "3  1000001  P00085442      F  0-17          10             A   \n",
              "4  1000002  P00285442      M   55+          16             C   \n",
              "\n",
              "  Stay_In_Current_City_Years  Marital_Status  Product_Category_1  \\\n",
              "0                          2               0                   3   \n",
              "1                          2               0                   1   \n",
              "2                          2               0                  12   \n",
              "3                          2               0                  12   \n",
              "4                         4+               0                   8   \n",
              "\n",
              "   Product_Category_2  Product_Category_3  Purchase  \n",
              "0                 NaN                 NaN      8370  \n",
              "1                 6.0                14.0     15200  \n",
              "2                 NaN                 NaN      1422  \n",
              "3                14.0                 NaN      1057  \n",
              "4                 NaN                 NaN      7969  "
            ]
          },
          "execution_count": 3,
          "metadata": {},
          "output_type": "execute_result"
        }
      ],
      "source": [
        "bfs.head()"
      ]
    },
    {
      "cell_type": "code",
      "execution_count": null,
      "id": "4df5d4e1",
      "metadata": {
        "execution": {
          "iopub.execute_input": "2025-06-18T10:09:10.471108Z",
          "iopub.status.busy": "2025-06-18T10:09:10.470786Z",
          "iopub.status.idle": "2025-06-18T10:09:10.486775Z",
          "shell.execute_reply": "2025-06-18T10:09:10.485557Z"
        },
        "papermill": {
          "duration": 0.026077,
          "end_time": "2025-06-18T10:09:10.488532",
          "exception": false,
          "start_time": "2025-06-18T10:09:10.462455",
          "status": "completed"
        },
        "tags": [],
        "id": "4df5d4e1",
        "outputId": "466e183e-70b0-4ae4-8a00-85ed3a71053a"
      },
      "outputs": [
        {
          "name": "stderr",
          "output_type": "stream",
          "text": [
            "/usr/local/lib/python3.11/dist-packages/pandas/io/formats/format.py:1458: RuntimeWarning: invalid value encountered in greater\n",
            "  has_large_values = (abs_vals > 1e6).any()\n",
            "/usr/local/lib/python3.11/dist-packages/pandas/io/formats/format.py:1459: RuntimeWarning: invalid value encountered in less\n",
            "  has_small_values = ((abs_vals < 10 ** (-self.digits)) & (abs_vals > 0)).any()\n",
            "/usr/local/lib/python3.11/dist-packages/pandas/io/formats/format.py:1459: RuntimeWarning: invalid value encountered in greater\n",
            "  has_small_values = ((abs_vals < 10 ** (-self.digits)) & (abs_vals > 0)).any()\n"
          ]
        },
        {
          "data": {
            "text/html": [
              "<div>\n",
              "<style scoped>\n",
              "    .dataframe tbody tr th:only-of-type {\n",
              "        vertical-align: middle;\n",
              "    }\n",
              "\n",
              "    .dataframe tbody tr th {\n",
              "        vertical-align: top;\n",
              "    }\n",
              "\n",
              "    .dataframe thead th {\n",
              "        text-align: right;\n",
              "    }\n",
              "</style>\n",
              "<table border=\"1\" class=\"dataframe\">\n",
              "  <thead>\n",
              "    <tr style=\"text-align: right;\">\n",
              "      <th></th>\n",
              "      <th>User_ID</th>\n",
              "      <th>Product_ID</th>\n",
              "      <th>Gender</th>\n",
              "      <th>Age</th>\n",
              "      <th>Occupation</th>\n",
              "      <th>City_Category</th>\n",
              "      <th>Stay_In_Current_City_Years</th>\n",
              "      <th>Marital_Status</th>\n",
              "      <th>Product_Category_1</th>\n",
              "      <th>Product_Category_2</th>\n",
              "      <th>Product_Category_3</th>\n",
              "      <th>Purchase</th>\n",
              "    </tr>\n",
              "  </thead>\n",
              "  <tbody>\n",
              "    <tr>\n",
              "      <th>0</th>\n",
              "      <td>1000001</td>\n",
              "      <td>P00069042</td>\n",
              "      <td>F</td>\n",
              "      <td>0-17</td>\n",
              "      <td>10</td>\n",
              "      <td>A</td>\n",
              "      <td>2</td>\n",
              "      <td>0</td>\n",
              "      <td>3</td>\n",
              "      <td>NaN</td>\n",
              "      <td>NaN</td>\n",
              "      <td>8370</td>\n",
              "    </tr>\n",
              "    <tr>\n",
              "      <th>1</th>\n",
              "      <td>1000001</td>\n",
              "      <td>P00248942</td>\n",
              "      <td>F</td>\n",
              "      <td>0-17</td>\n",
              "      <td>10</td>\n",
              "      <td>A</td>\n",
              "      <td>2</td>\n",
              "      <td>0</td>\n",
              "      <td>1</td>\n",
              "      <td>6.0</td>\n",
              "      <td>14.0</td>\n",
              "      <td>15200</td>\n",
              "    </tr>\n",
              "    <tr>\n",
              "      <th>2</th>\n",
              "      <td>1000001</td>\n",
              "      <td>P00087842</td>\n",
              "      <td>F</td>\n",
              "      <td>0-17</td>\n",
              "      <td>10</td>\n",
              "      <td>A</td>\n",
              "      <td>2</td>\n",
              "      <td>0</td>\n",
              "      <td>12</td>\n",
              "      <td>NaN</td>\n",
              "      <td>NaN</td>\n",
              "      <td>1422</td>\n",
              "    </tr>\n",
              "    <tr>\n",
              "      <th>3</th>\n",
              "      <td>1000001</td>\n",
              "      <td>P00085442</td>\n",
              "      <td>F</td>\n",
              "      <td>0-17</td>\n",
              "      <td>10</td>\n",
              "      <td>A</td>\n",
              "      <td>2</td>\n",
              "      <td>0</td>\n",
              "      <td>12</td>\n",
              "      <td>14.0</td>\n",
              "      <td>NaN</td>\n",
              "      <td>1057</td>\n",
              "    </tr>\n",
              "    <tr>\n",
              "      <th>4</th>\n",
              "      <td>1000002</td>\n",
              "      <td>P00285442</td>\n",
              "      <td>M</td>\n",
              "      <td>55+</td>\n",
              "      <td>16</td>\n",
              "      <td>C</td>\n",
              "      <td>4+</td>\n",
              "      <td>0</td>\n",
              "      <td>8</td>\n",
              "      <td>NaN</td>\n",
              "      <td>NaN</td>\n",
              "      <td>7969</td>\n",
              "    </tr>\n",
              "  </tbody>\n",
              "</table>\n",
              "</div>"
            ],
            "text/plain": [
              "   User_ID Product_ID Gender   Age  Occupation City_Category  \\\n",
              "0  1000001  P00069042      F  0-17          10             A   \n",
              "1  1000001  P00248942      F  0-17          10             A   \n",
              "2  1000001  P00087842      F  0-17          10             A   \n",
              "3  1000001  P00085442      F  0-17          10             A   \n",
              "4  1000002  P00285442      M   55+          16             C   \n",
              "\n",
              "  Stay_In_Current_City_Years  Marital_Status  Product_Category_1  \\\n",
              "0                          2               0                   3   \n",
              "1                          2               0                   1   \n",
              "2                          2               0                  12   \n",
              "3                          2               0                  12   \n",
              "4                         4+               0                   8   \n",
              "\n",
              "   Product_Category_2  Product_Category_3  Purchase  \n",
              "0                 NaN                 NaN      8370  \n",
              "1                 6.0                14.0     15200  \n",
              "2                 NaN                 NaN      1422  \n",
              "3                14.0                 NaN      1057  \n",
              "4                 NaN                 NaN      7969  "
            ]
          },
          "execution_count": 4,
          "metadata": {},
          "output_type": "execute_result"
        }
      ],
      "source": [
        "bfs.head()"
      ]
    },
    {
      "cell_type": "code",
      "execution_count": null,
      "id": "01b55e21",
      "metadata": {
        "execution": {
          "iopub.execute_input": "2025-06-18T10:09:10.505385Z",
          "iopub.status.busy": "2025-06-18T10:09:10.505093Z",
          "iopub.status.idle": "2025-06-18T10:09:10.513725Z",
          "shell.execute_reply": "2025-06-18T10:09:10.512765Z"
        },
        "papermill": {
          "duration": 0.019387,
          "end_time": "2025-06-18T10:09:10.515541",
          "exception": false,
          "start_time": "2025-06-18T10:09:10.496154",
          "status": "completed"
        },
        "tags": [],
        "id": "01b55e21",
        "outputId": "72ed2566-9662-415b-ee7e-78fc539e9923"
      },
      "outputs": [
        {
          "data": {
            "text/plain": [
              "Index(['User_ID', 'Product_ID', 'Gender', 'Age', 'Occupation', 'City_Category',\n",
              "       'Stay_In_Current_City_Years', 'Marital_Status', 'Product_Category_1',\n",
              "       'Product_Category_2', 'Product_Category_3', 'Purchase'],\n",
              "      dtype='object')"
            ]
          },
          "execution_count": 5,
          "metadata": {},
          "output_type": "execute_result"
        }
      ],
      "source": [
        "bfs.columns"
      ]
    },
    {
      "cell_type": "code",
      "execution_count": null,
      "id": "90354103",
      "metadata": {
        "execution": {
          "iopub.execute_input": "2025-06-18T10:09:10.532345Z",
          "iopub.status.busy": "2025-06-18T10:09:10.532044Z",
          "iopub.status.idle": "2025-06-18T10:09:10.850488Z",
          "shell.execute_reply": "2025-06-18T10:09:10.849310Z"
        },
        "papermill": {
          "duration": 0.328695,
          "end_time": "2025-06-18T10:09:10.851982",
          "exception": false,
          "start_time": "2025-06-18T10:09:10.523287",
          "status": "completed"
        },
        "tags": [],
        "id": "90354103",
        "outputId": "b18500b6-d79d-4d4f-fe52-2be501d321af"
      },
      "outputs": [
        {
          "data": {
            "text/plain": [
              "False    550068\n",
              "Name: count, dtype: int64"
            ]
          },
          "execution_count": 6,
          "metadata": {},
          "output_type": "execute_result"
        }
      ],
      "source": [
        "bfs.duplicated().value_counts()"
      ]
    },
    {
      "cell_type": "code",
      "execution_count": null,
      "id": "5118dfd0",
      "metadata": {
        "execution": {
          "iopub.execute_input": "2025-06-18T10:09:10.869243Z",
          "iopub.status.busy": "2025-06-18T10:09:10.868530Z",
          "iopub.status.idle": "2025-06-18T10:09:10.873839Z",
          "shell.execute_reply": "2025-06-18T10:09:10.872928Z"
        },
        "papermill": {
          "duration": 0.015657,
          "end_time": "2025-06-18T10:09:10.875439",
          "exception": false,
          "start_time": "2025-06-18T10:09:10.859782",
          "status": "completed"
        },
        "tags": [],
        "id": "5118dfd0"
      },
      "outputs": [],
      "source": [
        "bfs.rename(columns=str.lower,inplace=True)"
      ]
    },
    {
      "cell_type": "code",
      "execution_count": null,
      "id": "116c1e1d",
      "metadata": {
        "execution": {
          "iopub.execute_input": "2025-06-18T10:09:10.893160Z",
          "iopub.status.busy": "2025-06-18T10:09:10.892232Z",
          "iopub.status.idle": "2025-06-18T10:09:10.900235Z",
          "shell.execute_reply": "2025-06-18T10:09:10.899225Z"
        },
        "papermill": {
          "duration": 0.018388,
          "end_time": "2025-06-18T10:09:10.901760",
          "exception": false,
          "start_time": "2025-06-18T10:09:10.883372",
          "status": "completed"
        },
        "tags": [],
        "id": "116c1e1d",
        "outputId": "262e12be-ae7e-4b6e-9419-8070d9e350f6"
      },
      "outputs": [
        {
          "data": {
            "text/plain": [
              "Index(['user_id', 'product_id', 'gender', 'age', 'occupation', 'city_category',\n",
              "       'stay_in_current_city_years', 'marital_status', 'product_category_1',\n",
              "       'product_category_2', 'product_category_3', 'purchase'],\n",
              "      dtype='object')"
            ]
          },
          "execution_count": 8,
          "metadata": {},
          "output_type": "execute_result"
        }
      ],
      "source": [
        "bfs.columns"
      ]
    },
    {
      "cell_type": "code",
      "execution_count": null,
      "id": "d14d6324",
      "metadata": {
        "execution": {
          "iopub.execute_input": "2025-06-18T10:09:10.924038Z",
          "iopub.status.busy": "2025-06-18T10:09:10.923580Z",
          "iopub.status.idle": "2025-06-18T10:09:10.932633Z",
          "shell.execute_reply": "2025-06-18T10:09:10.931660Z"
        },
        "papermill": {
          "duration": 0.021024,
          "end_time": "2025-06-18T10:09:10.934993",
          "exception": false,
          "start_time": "2025-06-18T10:09:10.913969",
          "status": "completed"
        },
        "tags": [],
        "id": "d14d6324",
        "outputId": "ccceb214-00d9-49fb-cd6b-19f1b9f33cee"
      },
      "outputs": [
        {
          "data": {
            "text/plain": [
              "0         1000001\n",
              "1         1000001\n",
              "2         1000001\n",
              "3         1000001\n",
              "4         1000002\n",
              "           ...   \n",
              "550063    1006033\n",
              "550064    1006035\n",
              "550065    1006036\n",
              "550066    1006038\n",
              "550067    1006039\n",
              "Name: user_id, Length: 550068, dtype: int64"
            ]
          },
          "execution_count": 9,
          "metadata": {},
          "output_type": "execute_result"
        }
      ],
      "source": [
        "bfs.user_id"
      ]
    },
    {
      "cell_type": "code",
      "execution_count": null,
      "id": "4495f6d4",
      "metadata": {
        "execution": {
          "iopub.execute_input": "2025-06-18T10:09:10.959372Z",
          "iopub.status.busy": "2025-06-18T10:09:10.959018Z",
          "iopub.status.idle": "2025-06-18T10:09:10.969245Z",
          "shell.execute_reply": "2025-06-18T10:09:10.968169Z"
        },
        "papermill": {
          "duration": 0.024852,
          "end_time": "2025-06-18T10:09:10.970931",
          "exception": false,
          "start_time": "2025-06-18T10:09:10.946079",
          "status": "completed"
        },
        "tags": [],
        "id": "4495f6d4",
        "outputId": "cc122d57-361a-4a1d-8b15-496f31cfb7f9"
      },
      "outputs": [
        {
          "data": {
            "text/plain": [
              "0         P00069042\n",
              "1         P00248942\n",
              "2         P00087842\n",
              "3         P00085442\n",
              "4         P00285442\n",
              "            ...    \n",
              "550063    P00372445\n",
              "550064    P00375436\n",
              "550065    P00375436\n",
              "550066    P00375436\n",
              "550067    P00371644\n",
              "Name: product_id, Length: 550068, dtype: object"
            ]
          },
          "execution_count": 10,
          "metadata": {},
          "output_type": "execute_result"
        }
      ],
      "source": [
        "bfs.product_id"
      ]
    },
    {
      "cell_type": "code",
      "execution_count": null,
      "id": "8089b744",
      "metadata": {
        "execution": {
          "iopub.execute_input": "2025-06-18T10:09:10.991343Z",
          "iopub.status.busy": "2025-06-18T10:09:10.990997Z",
          "iopub.status.idle": "2025-06-18T10:09:11.019394Z",
          "shell.execute_reply": "2025-06-18T10:09:11.018426Z"
        },
        "papermill": {
          "duration": 0.039188,
          "end_time": "2025-06-18T10:09:11.021196",
          "exception": false,
          "start_time": "2025-06-18T10:09:10.982008",
          "status": "completed"
        },
        "tags": [],
        "id": "8089b744",
        "outputId": "348053f6-8c7e-40c1-d1f7-833a387d581d"
      },
      "outputs": [
        {
          "data": {
            "text/plain": [
              "array(['F', 'M'], dtype=object)"
            ]
          },
          "execution_count": 11,
          "metadata": {},
          "output_type": "execute_result"
        }
      ],
      "source": [
        "bfs.gender.unique()"
      ]
    },
    {
      "cell_type": "code",
      "execution_count": null,
      "id": "792853c4",
      "metadata": {
        "execution": {
          "iopub.execute_input": "2025-06-18T10:09:11.038746Z",
          "iopub.status.busy": "2025-06-18T10:09:11.038374Z",
          "iopub.status.idle": "2025-06-18T10:09:11.052356Z",
          "shell.execute_reply": "2025-06-18T10:09:11.051515Z"
        },
        "papermill": {
          "duration": 0.024718,
          "end_time": "2025-06-18T10:09:11.054044",
          "exception": false,
          "start_time": "2025-06-18T10:09:11.029326",
          "status": "completed"
        },
        "tags": [],
        "id": "792853c4",
        "outputId": "b7949010-f178-4526-86c4-95ecf17d1160"
      },
      "outputs": [
        {
          "name": "stderr",
          "output_type": "stream",
          "text": [
            "/usr/local/lib/python3.11/dist-packages/pandas/io/formats/format.py:1458: RuntimeWarning: invalid value encountered in greater\n",
            "  has_large_values = (abs_vals > 1e6).any()\n",
            "/usr/local/lib/python3.11/dist-packages/pandas/io/formats/format.py:1459: RuntimeWarning: invalid value encountered in less\n",
            "  has_small_values = ((abs_vals < 10 ** (-self.digits)) & (abs_vals > 0)).any()\n",
            "/usr/local/lib/python3.11/dist-packages/pandas/io/formats/format.py:1459: RuntimeWarning: invalid value encountered in greater\n",
            "  has_small_values = ((abs_vals < 10 ** (-self.digits)) & (abs_vals > 0)).any()\n"
          ]
        },
        {
          "data": {
            "text/html": [
              "<div>\n",
              "<style scoped>\n",
              "    .dataframe tbody tr th:only-of-type {\n",
              "        vertical-align: middle;\n",
              "    }\n",
              "\n",
              "    .dataframe tbody tr th {\n",
              "        vertical-align: top;\n",
              "    }\n",
              "\n",
              "    .dataframe thead th {\n",
              "        text-align: right;\n",
              "    }\n",
              "</style>\n",
              "<table border=\"1\" class=\"dataframe\">\n",
              "  <thead>\n",
              "    <tr style=\"text-align: right;\">\n",
              "      <th></th>\n",
              "      <th>user_id</th>\n",
              "      <th>product_id</th>\n",
              "      <th>gender</th>\n",
              "      <th>age</th>\n",
              "      <th>occupation</th>\n",
              "      <th>city_category</th>\n",
              "      <th>stay_in_current_city_years</th>\n",
              "      <th>marital_status</th>\n",
              "      <th>product_category_1</th>\n",
              "      <th>product_category_2</th>\n",
              "      <th>product_category_3</th>\n",
              "      <th>purchase</th>\n",
              "    </tr>\n",
              "  </thead>\n",
              "  <tbody>\n",
              "    <tr>\n",
              "      <th>0</th>\n",
              "      <td>1000001</td>\n",
              "      <td>P00069042</td>\n",
              "      <td>F</td>\n",
              "      <td>0-17</td>\n",
              "      <td>10</td>\n",
              "      <td>A</td>\n",
              "      <td>2</td>\n",
              "      <td>0</td>\n",
              "      <td>3</td>\n",
              "      <td>NaN</td>\n",
              "      <td>NaN</td>\n",
              "      <td>8370</td>\n",
              "    </tr>\n",
              "    <tr>\n",
              "      <th>1</th>\n",
              "      <td>1000001</td>\n",
              "      <td>P00248942</td>\n",
              "      <td>F</td>\n",
              "      <td>0-17</td>\n",
              "      <td>10</td>\n",
              "      <td>A</td>\n",
              "      <td>2</td>\n",
              "      <td>0</td>\n",
              "      <td>1</td>\n",
              "      <td>6.0</td>\n",
              "      <td>14.0</td>\n",
              "      <td>15200</td>\n",
              "    </tr>\n",
              "  </tbody>\n",
              "</table>\n",
              "</div>"
            ],
            "text/plain": [
              "   user_id product_id gender   age  occupation city_category  \\\n",
              "0  1000001  P00069042      F  0-17          10             A   \n",
              "1  1000001  P00248942      F  0-17          10             A   \n",
              "\n",
              "  stay_in_current_city_years  marital_status  product_category_1  \\\n",
              "0                          2               0                   3   \n",
              "1                          2               0                   1   \n",
              "\n",
              "   product_category_2  product_category_3  purchase  \n",
              "0                 NaN                 NaN      8370  \n",
              "1                 6.0                14.0     15200  "
            ]
          },
          "execution_count": 12,
          "metadata": {},
          "output_type": "execute_result"
        }
      ],
      "source": [
        "bfs.head(2)"
      ]
    },
    {
      "cell_type": "code",
      "execution_count": null,
      "id": "585deaac",
      "metadata": {
        "execution": {
          "iopub.execute_input": "2025-06-18T10:09:11.071697Z",
          "iopub.status.busy": "2025-06-18T10:09:11.071357Z",
          "iopub.status.idle": "2025-06-18T10:09:11.105088Z",
          "shell.execute_reply": "2025-06-18T10:09:11.104030Z"
        },
        "papermill": {
          "duration": 0.045481,
          "end_time": "2025-06-18T10:09:11.107734",
          "exception": false,
          "start_time": "2025-06-18T10:09:11.062253",
          "status": "completed"
        },
        "tags": [],
        "id": "585deaac",
        "outputId": "8f40e755-3e94-4e61-abb0-c52c531270b8"
      },
      "outputs": [
        {
          "data": {
            "text/plain": [
              "array(['0-17', '55+', '26-35', '46-50', '51-55', '36-45', '18-25'],\n",
              "      dtype=object)"
            ]
          },
          "execution_count": 13,
          "metadata": {},
          "output_type": "execute_result"
        }
      ],
      "source": [
        "bfs.age.unique()"
      ]
    },
    {
      "cell_type": "code",
      "execution_count": null,
      "id": "5c63c42f",
      "metadata": {
        "execution": {
          "iopub.execute_input": "2025-06-18T10:09:11.130047Z",
          "iopub.status.busy": "2025-06-18T10:09:11.129642Z",
          "iopub.status.idle": "2025-06-18T10:09:11.144462Z",
          "shell.execute_reply": "2025-06-18T10:09:11.143231Z"
        },
        "papermill": {
          "duration": 0.028905,
          "end_time": "2025-06-18T10:09:11.146657",
          "exception": false,
          "start_time": "2025-06-18T10:09:11.117752",
          "status": "completed"
        },
        "tags": [],
        "id": "5c63c42f",
        "outputId": "04513f9a-d5b2-41a9-c727-70862aea24f1"
      },
      "outputs": [
        {
          "data": {
            "text/plain": [
              "(array([10, 16, 15,  7, 20,  9,  1, 12, 17,  0,  3,  4, 11,  8, 19,  2, 18,\n",
              "         5, 14, 13,  6]),\n",
              " 21,\n",
              " dtype('int64'))"
            ]
          },
          "execution_count": 14,
          "metadata": {},
          "output_type": "execute_result"
        }
      ],
      "source": [
        "bfs.occupation.unique(),len(bfs.occupation.unique()),bfs.occupation.dtype"
      ]
    },
    {
      "cell_type": "code",
      "execution_count": null,
      "id": "cff7e1c4",
      "metadata": {
        "execution": {
          "iopub.execute_input": "2025-06-18T10:09:11.165260Z",
          "iopub.status.busy": "2025-06-18T10:09:11.164894Z",
          "iopub.status.idle": "2025-06-18T10:09:11.192962Z",
          "shell.execute_reply": "2025-06-18T10:09:11.191824Z"
        },
        "papermill": {
          "duration": 0.039478,
          "end_time": "2025-06-18T10:09:11.194833",
          "exception": false,
          "start_time": "2025-06-18T10:09:11.155355",
          "status": "completed"
        },
        "tags": [],
        "id": "cff7e1c4",
        "outputId": "ff1cb2f4-8045-421f-964f-ca4157512e16"
      },
      "outputs": [
        {
          "data": {
            "text/plain": [
              "array(['A', 'C', 'B'], dtype=object)"
            ]
          },
          "execution_count": 15,
          "metadata": {},
          "output_type": "execute_result"
        }
      ],
      "source": [
        "bfs.city_category.unique()"
      ]
    },
    {
      "cell_type": "code",
      "execution_count": null,
      "id": "e89b3c0f",
      "metadata": {
        "execution": {
          "iopub.execute_input": "2025-06-18T10:09:11.214006Z",
          "iopub.status.busy": "2025-06-18T10:09:11.213263Z",
          "iopub.status.idle": "2025-06-18T10:09:11.242779Z",
          "shell.execute_reply": "2025-06-18T10:09:11.241775Z"
        },
        "papermill": {
          "duration": 0.040557,
          "end_time": "2025-06-18T10:09:11.244365",
          "exception": false,
          "start_time": "2025-06-18T10:09:11.203808",
          "status": "completed"
        },
        "tags": [],
        "id": "e89b3c0f",
        "outputId": "49914cf9-1fdd-4146-fa38-b4e93330791e"
      },
      "outputs": [
        {
          "data": {
            "text/plain": [
              "array(['2', '4+', '3', '1', '0'], dtype=object)"
            ]
          },
          "execution_count": 16,
          "metadata": {},
          "output_type": "execute_result"
        }
      ],
      "source": [
        "bfs.stay_in_current_city_years.unique()"
      ]
    },
    {
      "cell_type": "code",
      "execution_count": null,
      "id": "5562272f",
      "metadata": {
        "execution": {
          "iopub.execute_input": "2025-06-18T10:09:11.262990Z",
          "iopub.status.busy": "2025-06-18T10:09:11.262664Z",
          "iopub.status.idle": "2025-06-18T10:09:11.361783Z",
          "shell.execute_reply": "2025-06-18T10:09:11.360924Z"
        },
        "papermill": {
          "duration": 0.1104,
          "end_time": "2025-06-18T10:09:11.363461",
          "exception": false,
          "start_time": "2025-06-18T10:09:11.253061",
          "status": "completed"
        },
        "tags": [],
        "id": "5562272f",
        "outputId": "3d824498-310a-4fa7-d945-6342bae755d6"
      },
      "outputs": [
        {
          "data": {
            "text/plain": [
              "array([2, 4, 3, 1, 0])"
            ]
          },
          "execution_count": 17,
          "metadata": {},
          "output_type": "execute_result"
        }
      ],
      "source": [
        "bfs.stay_in_current_city_years=bfs.stay_in_current_city_years.replace(\"4+\",'4').astype(int)\n",
        "bfs.stay_in_current_city_years.unique()"
      ]
    },
    {
      "cell_type": "code",
      "execution_count": null,
      "id": "b14760ef",
      "metadata": {
        "execution": {
          "iopub.execute_input": "2025-06-18T10:09:11.454812Z",
          "iopub.status.busy": "2025-06-18T10:09:11.454178Z",
          "iopub.status.idle": "2025-06-18T10:09:11.464184Z",
          "shell.execute_reply": "2025-06-18T10:09:11.463339Z"
        },
        "papermill": {
          "duration": 0.023036,
          "end_time": "2025-06-18T10:09:11.465920",
          "exception": false,
          "start_time": "2025-06-18T10:09:11.442884",
          "status": "completed"
        },
        "tags": [],
        "id": "b14760ef",
        "outputId": "e76e779c-7167-4083-bf16-c9df361805b4"
      },
      "outputs": [
        {
          "data": {
            "text/plain": [
              "array([0, 1])"
            ]
          },
          "execution_count": 18,
          "metadata": {},
          "output_type": "execute_result"
        }
      ],
      "source": [
        "bfs.marital_status.unique()"
      ]
    },
    {
      "cell_type": "code",
      "execution_count": null,
      "id": "7511c1fa",
      "metadata": {
        "execution": {
          "iopub.execute_input": "2025-06-18T10:09:11.484854Z",
          "iopub.status.busy": "2025-06-18T10:09:11.484545Z",
          "iopub.status.idle": "2025-06-18T10:09:11.497910Z",
          "shell.execute_reply": "2025-06-18T10:09:11.496948Z"
        },
        "papermill": {
          "duration": 0.024841,
          "end_time": "2025-06-18T10:09:11.499637",
          "exception": false,
          "start_time": "2025-06-18T10:09:11.474796",
          "status": "completed"
        },
        "tags": [],
        "id": "7511c1fa",
        "outputId": "e4ec18dc-bd1b-4b3a-d69e-a9dc41ab3e28"
      },
      "outputs": [
        {
          "name": "stderr",
          "output_type": "stream",
          "text": [
            "/usr/local/lib/python3.11/dist-packages/pandas/io/formats/format.py:1458: RuntimeWarning: invalid value encountered in greater\n",
            "  has_large_values = (abs_vals > 1e6).any()\n",
            "/usr/local/lib/python3.11/dist-packages/pandas/io/formats/format.py:1459: RuntimeWarning: invalid value encountered in less\n",
            "  has_small_values = ((abs_vals < 10 ** (-self.digits)) & (abs_vals > 0)).any()\n",
            "/usr/local/lib/python3.11/dist-packages/pandas/io/formats/format.py:1459: RuntimeWarning: invalid value encountered in greater\n",
            "  has_small_values = ((abs_vals < 10 ** (-self.digits)) & (abs_vals > 0)).any()\n"
          ]
        },
        {
          "data": {
            "text/html": [
              "<div>\n",
              "<style scoped>\n",
              "    .dataframe tbody tr th:only-of-type {\n",
              "        vertical-align: middle;\n",
              "    }\n",
              "\n",
              "    .dataframe tbody tr th {\n",
              "        vertical-align: top;\n",
              "    }\n",
              "\n",
              "    .dataframe thead th {\n",
              "        text-align: right;\n",
              "    }\n",
              "</style>\n",
              "<table border=\"1\" class=\"dataframe\">\n",
              "  <thead>\n",
              "    <tr style=\"text-align: right;\">\n",
              "      <th></th>\n",
              "      <th>user_id</th>\n",
              "      <th>product_id</th>\n",
              "      <th>gender</th>\n",
              "      <th>age</th>\n",
              "      <th>occupation</th>\n",
              "      <th>city_category</th>\n",
              "      <th>stay_in_current_city_years</th>\n",
              "      <th>marital_status</th>\n",
              "      <th>product_category_1</th>\n",
              "      <th>product_category_2</th>\n",
              "      <th>product_category_3</th>\n",
              "      <th>purchase</th>\n",
              "    </tr>\n",
              "  </thead>\n",
              "  <tbody>\n",
              "    <tr>\n",
              "      <th>0</th>\n",
              "      <td>1000001</td>\n",
              "      <td>P00069042</td>\n",
              "      <td>F</td>\n",
              "      <td>0-17</td>\n",
              "      <td>10</td>\n",
              "      <td>A</td>\n",
              "      <td>2</td>\n",
              "      <td>0</td>\n",
              "      <td>3</td>\n",
              "      <td>NaN</td>\n",
              "      <td>NaN</td>\n",
              "      <td>8370</td>\n",
              "    </tr>\n",
              "    <tr>\n",
              "      <th>1</th>\n",
              "      <td>1000001</td>\n",
              "      <td>P00248942</td>\n",
              "      <td>F</td>\n",
              "      <td>0-17</td>\n",
              "      <td>10</td>\n",
              "      <td>A</td>\n",
              "      <td>2</td>\n",
              "      <td>0</td>\n",
              "      <td>1</td>\n",
              "      <td>6.0</td>\n",
              "      <td>14.0</td>\n",
              "      <td>15200</td>\n",
              "    </tr>\n",
              "  </tbody>\n",
              "</table>\n",
              "</div>"
            ],
            "text/plain": [
              "   user_id product_id gender   age  occupation city_category  \\\n",
              "0  1000001  P00069042      F  0-17          10             A   \n",
              "1  1000001  P00248942      F  0-17          10             A   \n",
              "\n",
              "   stay_in_current_city_years  marital_status  product_category_1  \\\n",
              "0                           2               0                   3   \n",
              "1                           2               0                   1   \n",
              "\n",
              "   product_category_2  product_category_3  purchase  \n",
              "0                 NaN                 NaN      8370  \n",
              "1                 6.0                14.0     15200  "
            ]
          },
          "execution_count": 19,
          "metadata": {},
          "output_type": "execute_result"
        }
      ],
      "source": [
        "bfs.head(2)"
      ]
    },
    {
      "cell_type": "code",
      "execution_count": null,
      "id": "ab89d0ad",
      "metadata": {
        "execution": {
          "iopub.execute_input": "2025-06-18T10:09:11.518880Z",
          "iopub.status.busy": "2025-06-18T10:09:11.518545Z",
          "iopub.status.idle": "2025-06-18T10:09:11.548396Z",
          "shell.execute_reply": "2025-06-18T10:09:11.547386Z"
        },
        "papermill": {
          "duration": 0.041346,
          "end_time": "2025-06-18T10:09:11.550006",
          "exception": false,
          "start_time": "2025-06-18T10:09:11.508660",
          "status": "completed"
        },
        "tags": [],
        "id": "ab89d0ad",
        "outputId": "874030de-70f1-4939-e3cd-6ece5e372d2d"
      },
      "outputs": [
        {
          "name": "stdout",
          "output_type": "stream",
          "text": [
            "<class 'pandas.core.frame.DataFrame'>\n",
            "RangeIndex: 550068 entries, 0 to 550067\n",
            "Data columns (total 3 columns):\n",
            " #   Column              Non-Null Count   Dtype  \n",
            "---  ------              --------------   -----  \n",
            " 0   product_category_1  550068 non-null  int64  \n",
            " 1   product_category_2  376430 non-null  float64\n",
            " 2   product_category_3  166821 non-null  float64\n",
            "dtypes: float64(2), int64(1)\n",
            "memory usage: 12.6 MB\n"
          ]
        }
      ],
      "source": [
        "bfs[['product_category_1','product_category_2','product_category_3']].info()"
      ]
    },
    {
      "cell_type": "code",
      "execution_count": null,
      "id": "8ce8dbdd",
      "metadata": {
        "execution": {
          "iopub.execute_input": "2025-06-18T10:09:11.569321Z",
          "iopub.status.busy": "2025-06-18T10:09:11.568979Z",
          "iopub.status.idle": "2025-06-18T10:09:11.582421Z",
          "shell.execute_reply": "2025-06-18T10:09:11.581379Z"
        },
        "papermill": {
          "duration": 0.024726,
          "end_time": "2025-06-18T10:09:11.583853",
          "exception": false,
          "start_time": "2025-06-18T10:09:11.559127",
          "status": "completed"
        },
        "tags": [],
        "id": "8ce8dbdd",
        "outputId": "71e24fd8-1b66-402b-ea0b-e7aca9c8ca3e"
      },
      "outputs": [
        {
          "name": "stderr",
          "output_type": "stream",
          "text": [
            "/usr/local/lib/python3.11/dist-packages/pandas/io/formats/format.py:1458: RuntimeWarning: invalid value encountered in greater\n",
            "  has_large_values = (abs_vals > 1e6).any()\n",
            "/usr/local/lib/python3.11/dist-packages/pandas/io/formats/format.py:1459: RuntimeWarning: invalid value encountered in less\n",
            "  has_small_values = ((abs_vals < 10 ** (-self.digits)) & (abs_vals > 0)).any()\n",
            "/usr/local/lib/python3.11/dist-packages/pandas/io/formats/format.py:1459: RuntimeWarning: invalid value encountered in greater\n",
            "  has_small_values = ((abs_vals < 10 ** (-self.digits)) & (abs_vals > 0)).any()\n"
          ]
        },
        {
          "data": {
            "text/html": [
              "<div>\n",
              "<style scoped>\n",
              "    .dataframe tbody tr th:only-of-type {\n",
              "        vertical-align: middle;\n",
              "    }\n",
              "\n",
              "    .dataframe tbody tr th {\n",
              "        vertical-align: top;\n",
              "    }\n",
              "\n",
              "    .dataframe thead th {\n",
              "        text-align: right;\n",
              "    }\n",
              "</style>\n",
              "<table border=\"1\" class=\"dataframe\">\n",
              "  <thead>\n",
              "    <tr style=\"text-align: right;\">\n",
              "      <th></th>\n",
              "      <th>user_id</th>\n",
              "      <th>product_id</th>\n",
              "      <th>gender</th>\n",
              "      <th>age</th>\n",
              "      <th>occupation</th>\n",
              "      <th>city_category</th>\n",
              "      <th>stay_in_current_city_years</th>\n",
              "      <th>marital_status</th>\n",
              "      <th>product_category_1</th>\n",
              "      <th>product_category_2</th>\n",
              "      <th>product_category_3</th>\n",
              "      <th>purchase</th>\n",
              "    </tr>\n",
              "  </thead>\n",
              "  <tbody>\n",
              "    <tr>\n",
              "      <th>0</th>\n",
              "      <td>1000001</td>\n",
              "      <td>P00069042</td>\n",
              "      <td>F</td>\n",
              "      <td>0-17</td>\n",
              "      <td>10</td>\n",
              "      <td>A</td>\n",
              "      <td>2</td>\n",
              "      <td>0</td>\n",
              "      <td>3</td>\n",
              "      <td>NaN</td>\n",
              "      <td>NaN</td>\n",
              "      <td>8370</td>\n",
              "    </tr>\n",
              "    <tr>\n",
              "      <th>1</th>\n",
              "      <td>1000001</td>\n",
              "      <td>P00248942</td>\n",
              "      <td>F</td>\n",
              "      <td>0-17</td>\n",
              "      <td>10</td>\n",
              "      <td>A</td>\n",
              "      <td>2</td>\n",
              "      <td>0</td>\n",
              "      <td>1</td>\n",
              "      <td>6.0</td>\n",
              "      <td>14.0</td>\n",
              "      <td>15200</td>\n",
              "    </tr>\n",
              "  </tbody>\n",
              "</table>\n",
              "</div>"
            ],
            "text/plain": [
              "   user_id product_id gender   age  occupation city_category  \\\n",
              "0  1000001  P00069042      F  0-17          10             A   \n",
              "1  1000001  P00248942      F  0-17          10             A   \n",
              "\n",
              "   stay_in_current_city_years  marital_status  product_category_1  \\\n",
              "0                           2               0                   3   \n",
              "1                           2               0                   1   \n",
              "\n",
              "   product_category_2  product_category_3  purchase  \n",
              "0                 NaN                 NaN      8370  \n",
              "1                 6.0                14.0     15200  "
            ]
          },
          "execution_count": 21,
          "metadata": {},
          "output_type": "execute_result"
        }
      ],
      "source": [
        "bfs.head(2)"
      ]
    },
    {
      "cell_type": "code",
      "execution_count": null,
      "id": "822ca383",
      "metadata": {
        "execution": {
          "iopub.execute_input": "2025-06-18T10:09:11.604304Z",
          "iopub.status.busy": "2025-06-18T10:09:11.603294Z",
          "iopub.status.idle": "2025-06-18T10:09:11.762569Z",
          "shell.execute_reply": "2025-06-18T10:09:11.761601Z"
        },
        "papermill": {
          "duration": 0.170982,
          "end_time": "2025-06-18T10:09:11.764231",
          "exception": false,
          "start_time": "2025-06-18T10:09:11.593249",
          "status": "completed"
        },
        "tags": [],
        "id": "822ca383"
      },
      "outputs": [],
      "source": [
        "a=bfs.groupby('age')['product_category_2'].agg(pd.Series.mode)\n",
        "b=bfs.groupby('age')['product_category_3'].agg(pd.Series.mode)\n",
        "c=bfs.groupby('occupation')['product_category_2'].agg(pd.Series.mode)\n",
        "d=bfs.groupby('occupation')['product_category_3'].agg(pd.Series.mode)\n"
      ]
    },
    {
      "cell_type": "code",
      "execution_count": null,
      "id": "d47f7eca",
      "metadata": {
        "execution": {
          "iopub.execute_input": "2025-06-18T10:09:11.785071Z",
          "iopub.status.busy": "2025-06-18T10:09:11.784737Z",
          "iopub.status.idle": "2025-06-18T10:09:11.791501Z",
          "shell.execute_reply": "2025-06-18T10:09:11.790638Z"
        },
        "papermill": {
          "duration": 0.018523,
          "end_time": "2025-06-18T10:09:11.793001",
          "exception": false,
          "start_time": "2025-06-18T10:09:11.774478",
          "status": "completed"
        },
        "tags": [],
        "id": "d47f7eca",
        "outputId": "f39a38af-e092-484d-b40b-133e9b737e68"
      },
      "outputs": [
        {
          "data": {
            "text/plain": [
              "age\n",
              "0-17     4.0\n",
              "18-25    8.0\n",
              "26-35    8.0\n",
              "36-45    8.0\n",
              "46-50    8.0\n",
              "51-55    8.0\n",
              "55+      8.0\n",
              "Name: product_category_2, dtype: float64"
            ]
          },
          "execution_count": 23,
          "metadata": {},
          "output_type": "execute_result"
        }
      ],
      "source": [
        "a"
      ]
    },
    {
      "cell_type": "code",
      "execution_count": null,
      "id": "ab7aa0ef",
      "metadata": {
        "execution": {
          "iopub.execute_input": "2025-06-18T10:09:11.814249Z",
          "iopub.status.busy": "2025-06-18T10:09:11.813945Z",
          "iopub.status.idle": "2025-06-18T10:09:12.849152Z",
          "shell.execute_reply": "2025-06-18T10:09:12.848289Z"
        },
        "papermill": {
          "duration": 1.048228,
          "end_time": "2025-06-18T10:09:12.850660",
          "exception": false,
          "start_time": "2025-06-18T10:09:11.802432",
          "status": "completed"
        },
        "tags": [],
        "id": "ab7aa0ef",
        "outputId": "2b041aeb-e46e-47fb-ef28-3efd0f41af0c"
      },
      "outputs": [
        {
          "data": {
            "image/png": "[encoded data removed]",
            "text/plain": [
              "<Figure size 1800x1000 with 4 Axes>"
            ]
          },
          "metadata": {},
          "output_type": "display_data"
        }
      ],
      "source": [
        "import matplotlib.pyplot as plt\n",
        "plt.figure(figsize=(18,10))\n",
        "plt.subplots_adjust(left=0.1,\n",
        "                    bottom=0.1,\n",
        "                    right=0.9,\n",
        "                    top=0.9,\n",
        "                    wspace=0.4,\n",
        "                    hspace=0.4)\n",
        "plt.subplot(2,2,1)\n",
        "a.plot(kind='bar',title=\"age_vs_product_category_2\")\n",
        "plt.subplot(2,2,2)\n",
        "b.plot(kind='bar',title=\"age_vs_product_category_3\")\n",
        "plt.subplot(2,2,3)\n",
        "c.plot(kind='bar',title=\"occupation_vs_product_category_2\")\n",
        "plt.subplot(2,2,4)\n",
        "d.plot(kind='bar',title=\"occupation_vs_product_category_3\")\n",
        "plt.show()"
      ]
    },
    {
      "cell_type": "code",
      "execution_count": null,
      "id": "31477571",
      "metadata": {
        "execution": {
          "iopub.execute_input": "2025-06-18T10:09:12.872320Z",
          "iopub.status.busy": "2025-06-18T10:09:12.872004Z",
          "iopub.status.idle": "2025-06-18T10:09:12.877362Z",
          "shell.execute_reply": "2025-06-18T10:09:12.876379Z"
        },
        "papermill": {
          "duration": 0.017885,
          "end_time": "2025-06-18T10:09:12.878880",
          "exception": false,
          "start_time": "2025-06-18T10:09:12.860995",
          "status": "completed"
        },
        "tags": [],
        "id": "31477571"
      },
      "outputs": [],
      "source": [
        "def fill_nan_category(category_colunm):\n",
        "    x=bfs.groupby('occupation')[category_colunm].agg(pd.Series.mode)\n",
        "    for i,j in zip(x.index,x):\n",
        "        bfs.loc[bfs['occupation']==i,category_colunm]=bfs.loc[bfs['occupation']==i,category_colunm].fillna(j)"
      ]
    },
    {
      "cell_type": "code",
      "execution_count": null,
      "id": "3601ece3",
      "metadata": {
        "execution": {
          "iopub.execute_input": "2025-06-18T10:09:12.900989Z",
          "iopub.status.busy": "2025-06-18T10:09:12.900606Z",
          "iopub.status.idle": "2025-06-18T10:09:13.299494Z",
          "shell.execute_reply": "2025-06-18T10:09:13.298311Z"
        },
        "papermill": {
          "duration": 0.41203,
          "end_time": "2025-06-18T10:09:13.301243",
          "exception": false,
          "start_time": "2025-06-18T10:09:12.889213",
          "status": "completed"
        },
        "tags": [],
        "id": "3601ece3"
      },
      "outputs": [],
      "source": [
        "fill_nan_category('product_category_1')\n",
        "fill_nan_category('product_category_2')\n",
        "fill_nan_category('product_category_3')\n",
        "bfs.product_category_1=bfs.product_category_1.astype(float)"
      ]
    },
    {
      "cell_type": "code",
      "execution_count": null,
      "id": "a8075a63",
      "metadata": {
        "execution": {
          "iopub.execute_input": "2025-06-18T10:09:13.322788Z",
          "iopub.status.busy": "2025-06-18T10:09:13.322505Z",
          "iopub.status.idle": "2025-06-18T10:09:13.343238Z",
          "shell.execute_reply": "2025-06-18T10:09:13.342101Z"
        },
        "papermill": {
          "duration": 0.033238,
          "end_time": "2025-06-18T10:09:13.344908",
          "exception": false,
          "start_time": "2025-06-18T10:09:13.311670",
          "status": "completed"
        },
        "tags": [],
        "id": "a8075a63",
        "outputId": "ac97b255-4e81-4cee-c80c-a46f51378c10"
      },
      "outputs": [
        {
          "name": "stdout",
          "output_type": "stream",
          "text": [
            "<class 'pandas.core.frame.DataFrame'>\n",
            "RangeIndex: 550068 entries, 0 to 550067\n",
            "Data columns (total 3 columns):\n",
            " #   Column              Non-Null Count   Dtype  \n",
            "---  ------              --------------   -----  \n",
            " 0   product_category_1  550068 non-null  float64\n",
            " 1   product_category_2  550068 non-null  float64\n",
            " 2   product_category_3  550068 non-null  float64\n",
            "dtypes: float64(3)\n",
            "memory usage: 12.6 MB\n"
          ]
        }
      ],
      "source": [
        "bfs[['product_category_1','product_category_2','product_category_3']].info()\n"
      ]
    },
    {
      "cell_type": "code",
      "execution_count": null,
      "id": "56f13c2a",
      "metadata": {
        "execution": {
          "iopub.execute_input": "2025-06-18T10:09:13.366569Z",
          "iopub.status.busy": "2025-06-18T10:09:13.366249Z",
          "iopub.status.idle": "2025-06-18T10:09:13.379261Z",
          "shell.execute_reply": "2025-06-18T10:09:13.378218Z"
        },
        "papermill": {
          "duration": 0.025997,
          "end_time": "2025-06-18T10:09:13.381102",
          "exception": false,
          "start_time": "2025-06-18T10:09:13.355105",
          "status": "completed"
        },
        "tags": [],
        "id": "56f13c2a",
        "outputId": "ad03a9bd-b5cc-48e4-ae29-d915e77b5c62"
      },
      "outputs": [
        {
          "data": {
            "text/plain": [
              "(array([ 8370, 15200,  1422, ...,   135,   123,   613]), 550068)"
            ]
          },
          "execution_count": 28,
          "metadata": {},
          "output_type": "execute_result"
        }
      ],
      "source": [
        "bfs.purchase.unique(),bfs.purchase.isnull().count()"
      ]
    },
    {
      "cell_type": "code",
      "execution_count": null,
      "id": "974148d2",
      "metadata": {
        "execution": {
          "iopub.execute_input": "2025-06-18T10:09:13.403061Z",
          "iopub.status.busy": "2025-06-18T10:09:13.402395Z",
          "iopub.status.idle": "2025-06-18T10:09:13.530479Z",
          "shell.execute_reply": "2025-06-18T10:09:13.529585Z"
        },
        "papermill": {
          "duration": 0.140662,
          "end_time": "2025-06-18T10:09:13.532112",
          "exception": false,
          "start_time": "2025-06-18T10:09:13.391450",
          "status": "completed"
        },
        "tags": [],
        "id": "974148d2",
        "outputId": "d3eaa078-de06-4c6f-a238-ac3ccbe48195"
      },
      "outputs": [
        {
          "name": "stdout",
          "output_type": "stream",
          "text": [
            "<class 'pandas.core.frame.DataFrame'>\n",
            "RangeIndex: 550068 entries, 0 to 550067\n",
            "Data columns (total 12 columns):\n",
            " #   Column                      Non-Null Count   Dtype  \n",
            "---  ------                      --------------   -----  \n",
            " 0   user_id                     550068 non-null  int64  \n",
            " 1   product_id                  550068 non-null  object \n",
            " 2   gender                      550068 non-null  object \n",
            " 3   age                         550068 non-null  object \n",
            " 4   occupation                  550068 non-null  int64  \n",
            " 5   city_category               550068 non-null  object \n",
            " 6   stay_in_current_city_years  550068 non-null  int64  \n",
            " 7   marital_status              550068 non-null  int64  \n",
            " 8   product_category_1          550068 non-null  float64\n",
            " 9   product_category_2          550068 non-null  float64\n",
            " 10  product_category_3          550068 non-null  float64\n",
            " 11  purchase                    550068 non-null  int64  \n",
            "dtypes: float64(3), int64(5), object(4)\n",
            "memory usage: 50.4+ MB\n"
          ]
        }
      ],
      "source": [
        "bfs.info()"
      ]
    },
    {
      "cell_type": "code",
      "execution_count": null,
      "id": "3508c217",
      "metadata": {
        "execution": {
          "iopub.execute_input": "2025-06-18T10:09:13.555354Z",
          "iopub.status.busy": "2025-06-18T10:09:13.555014Z",
          "iopub.status.idle": "2025-06-18T10:09:13.569004Z",
          "shell.execute_reply": "2025-06-18T10:09:13.568074Z"
        },
        "papermill": {
          "duration": 0.02815,
          "end_time": "2025-06-18T10:09:13.570733",
          "exception": false,
          "start_time": "2025-06-18T10:09:13.542583",
          "status": "completed"
        },
        "tags": [],
        "id": "3508c217",
        "outputId": "c6e4883f-ed77-44a8-97b5-8277c76a8d97"
      },
      "outputs": [
        {
          "data": {
            "text/html": [
              "<div>\n",
              "<style scoped>\n",
              "    .dataframe tbody tr th:only-of-type {\n",
              "        vertical-align: middle;\n",
              "    }\n",
              "\n",
              "    .dataframe tbody tr th {\n",
              "        vertical-align: top;\n",
              "    }\n",
              "\n",
              "    .dataframe thead th {\n",
              "        text-align: right;\n",
              "    }\n",
              "</style>\n",
              "<table border=\"1\" class=\"dataframe\">\n",
              "  <thead>\n",
              "    <tr style=\"text-align: right;\">\n",
              "      <th></th>\n",
              "      <th>user_id</th>\n",
              "      <th>product_id</th>\n",
              "      <th>gender</th>\n",
              "      <th>age</th>\n",
              "      <th>occupation</th>\n",
              "      <th>city_category</th>\n",
              "      <th>stay_in_current_city_years</th>\n",
              "      <th>marital_status</th>\n",
              "      <th>product_category_1</th>\n",
              "      <th>product_category_2</th>\n",
              "      <th>product_category_3</th>\n",
              "      <th>purchase</th>\n",
              "    </tr>\n",
              "  </thead>\n",
              "  <tbody>\n",
              "    <tr>\n",
              "      <th>0</th>\n",
              "      <td>1000001</td>\n",
              "      <td>P00069042</td>\n",
              "      <td>F</td>\n",
              "      <td>0-17</td>\n",
              "      <td>10</td>\n",
              "      <td>A</td>\n",
              "      <td>2</td>\n",
              "      <td>0</td>\n",
              "      <td>3.0</td>\n",
              "      <td>4.0</td>\n",
              "      <td>16.0</td>\n",
              "      <td>8370</td>\n",
              "    </tr>\n",
              "    <tr>\n",
              "      <th>1</th>\n",
              "      <td>1000001</td>\n",
              "      <td>P00248942</td>\n",
              "      <td>F</td>\n",
              "      <td>0-17</td>\n",
              "      <td>10</td>\n",
              "      <td>A</td>\n",
              "      <td>2</td>\n",
              "      <td>0</td>\n",
              "      <td>1.0</td>\n",
              "      <td>6.0</td>\n",
              "      <td>14.0</td>\n",
              "      <td>15200</td>\n",
              "    </tr>\n",
              "    <tr>\n",
              "      <th>2</th>\n",
              "      <td>1000001</td>\n",
              "      <td>P00087842</td>\n",
              "      <td>F</td>\n",
              "      <td>0-17</td>\n",
              "      <td>10</td>\n",
              "      <td>A</td>\n",
              "      <td>2</td>\n",
              "      <td>0</td>\n",
              "      <td>12.0</td>\n",
              "      <td>4.0</td>\n",
              "      <td>16.0</td>\n",
              "      <td>1422</td>\n",
              "    </tr>\n",
              "    <tr>\n",
              "      <th>3</th>\n",
              "      <td>1000001</td>\n",
              "      <td>P00085442</td>\n",
              "      <td>F</td>\n",
              "      <td>0-17</td>\n",
              "      <td>10</td>\n",
              "      <td>A</td>\n",
              "      <td>2</td>\n",
              "      <td>0</td>\n",
              "      <td>12.0</td>\n",
              "      <td>14.0</td>\n",
              "      <td>16.0</td>\n",
              "      <td>1057</td>\n",
              "    </tr>\n",
              "    <tr>\n",
              "      <th>4</th>\n",
              "      <td>1000002</td>\n",
              "      <td>P00285442</td>\n",
              "      <td>M</td>\n",
              "      <td>55+</td>\n",
              "      <td>16</td>\n",
              "      <td>C</td>\n",
              "      <td>4</td>\n",
              "      <td>0</td>\n",
              "      <td>8.0</td>\n",
              "      <td>8.0</td>\n",
              "      <td>16.0</td>\n",
              "      <td>7969</td>\n",
              "    </tr>\n",
              "  </tbody>\n",
              "</table>\n",
              "</div>"
            ],
            "text/plain": [
              "   user_id product_id gender   age  occupation city_category  \\\n",
              "0  1000001  P00069042      F  0-17          10             A   \n",
              "1  1000001  P00248942      F  0-17          10             A   \n",
              "2  1000001  P00087842      F  0-17          10             A   \n",
              "3  1000001  P00085442      F  0-17          10             A   \n",
              "4  1000002  P00285442      M   55+          16             C   \n",
              "\n",
              "   stay_in_current_city_years  marital_status  product_category_1  \\\n",
              "0                           2               0                 3.0   \n",
              "1                           2               0                 1.0   \n",
              "2                           2               0                12.0   \n",
              "3                           2               0                12.0   \n",
              "4                           4               0                 8.0   \n",
              "\n",
              "   product_category_2  product_category_3  purchase  \n",
              "0                 4.0                16.0      8370  \n",
              "1                 6.0                14.0     15200  \n",
              "2                 4.0                16.0      1422  \n",
              "3                14.0                16.0      1057  \n",
              "4                 8.0                16.0      7969  "
            ]
          },
          "execution_count": 30,
          "metadata": {},
          "output_type": "execute_result"
        }
      ],
      "source": [
        "bfs.head()"
      ]
    },
    {
      "cell_type": "code",
      "execution_count": null,
      "id": "abf2a171",
      "metadata": {
        "execution": {
          "iopub.execute_input": "2025-06-18T10:09:13.593011Z",
          "iopub.status.busy": "2025-06-18T10:09:13.592708Z",
          "iopub.status.idle": "2025-06-18T10:09:16.385879Z",
          "shell.execute_reply": "2025-06-18T10:09:16.384871Z"
        },
        "papermill": {
          "duration": 2.80634,
          "end_time": "2025-06-18T10:09:16.387632",
          "exception": false,
          "start_time": "2025-06-18T10:09:13.581292",
          "status": "completed"
        },
        "tags": [],
        "id": "abf2a171"
      },
      "outputs": [],
      "source": [
        "bfs.to_csv('./bfs_clean_data.csv')"
      ]
    },
    {
      "cell_type": "code",
      "execution_count": null,
      "id": "959d5101",
      "metadata": {
        "execution": {
          "iopub.execute_input": "2025-06-18T10:09:16.409984Z",
          "iopub.status.busy": "2025-06-18T10:09:16.409693Z",
          "iopub.status.idle": "2025-06-18T10:09:16.424264Z",
          "shell.execute_reply": "2025-06-18T10:09:16.423258Z"
        },
        "papermill": {
          "duration": 0.027332,
          "end_time": "2025-06-18T10:09:16.425829",
          "exception": false,
          "start_time": "2025-06-18T10:09:16.398497",
          "status": "completed"
        },
        "tags": [],
        "id": "959d5101",
        "outputId": "e3c8167f-1f7b-440f-8e23-789807c3d203"
      },
      "outputs": [
        {
          "data": {
            "text/html": [
              "<div>\n",
              "<style scoped>\n",
              "    .dataframe tbody tr th:only-of-type {\n",
              "        vertical-align: middle;\n",
              "    }\n",
              "\n",
              "    .dataframe tbody tr th {\n",
              "        vertical-align: top;\n",
              "    }\n",
              "\n",
              "    .dataframe thead th {\n",
              "        text-align: right;\n",
              "    }\n",
              "</style>\n",
              "<table border=\"1\" class=\"dataframe\">\n",
              "  <thead>\n",
              "    <tr style=\"text-align: right;\">\n",
              "      <th></th>\n",
              "      <th>user_id</th>\n",
              "      <th>product_id</th>\n",
              "      <th>gender</th>\n",
              "      <th>age</th>\n",
              "      <th>occupation</th>\n",
              "      <th>city_category</th>\n",
              "      <th>stay_in_current_city_years</th>\n",
              "      <th>marital_status</th>\n",
              "      <th>product_category_1</th>\n",
              "      <th>product_category_2</th>\n",
              "      <th>product_category_3</th>\n",
              "      <th>purchase</th>\n",
              "    </tr>\n",
              "  </thead>\n",
              "  <tbody>\n",
              "    <tr>\n",
              "      <th>0</th>\n",
              "      <td>1000001</td>\n",
              "      <td>P00069042</td>\n",
              "      <td>F</td>\n",
              "      <td>0-17</td>\n",
              "      <td>10</td>\n",
              "      <td>A</td>\n",
              "      <td>2</td>\n",
              "      <td>0</td>\n",
              "      <td>3.0</td>\n",
              "      <td>4.0</td>\n",
              "      <td>16.0</td>\n",
              "      <td>8370</td>\n",
              "    </tr>\n",
              "    <tr>\n",
              "      <th>1</th>\n",
              "      <td>1000001</td>\n",
              "      <td>P00248942</td>\n",
              "      <td>F</td>\n",
              "      <td>0-17</td>\n",
              "      <td>10</td>\n",
              "      <td>A</td>\n",
              "      <td>2</td>\n",
              "      <td>0</td>\n",
              "      <td>1.0</td>\n",
              "      <td>6.0</td>\n",
              "      <td>14.0</td>\n",
              "      <td>15200</td>\n",
              "    </tr>\n",
              "    <tr>\n",
              "      <th>2</th>\n",
              "      <td>1000001</td>\n",
              "      <td>P00087842</td>\n",
              "      <td>F</td>\n",
              "      <td>0-17</td>\n",
              "      <td>10</td>\n",
              "      <td>A</td>\n",
              "      <td>2</td>\n",
              "      <td>0</td>\n",
              "      <td>12.0</td>\n",
              "      <td>4.0</td>\n",
              "      <td>16.0</td>\n",
              "      <td>1422</td>\n",
              "    </tr>\n",
              "    <tr>\n",
              "      <th>3</th>\n",
              "      <td>1000001</td>\n",
              "      <td>P00085442</td>\n",
              "      <td>F</td>\n",
              "      <td>0-17</td>\n",
              "      <td>10</td>\n",
              "      <td>A</td>\n",
              "      <td>2</td>\n",
              "      <td>0</td>\n",
              "      <td>12.0</td>\n",
              "      <td>14.0</td>\n",
              "      <td>16.0</td>\n",
              "      <td>1057</td>\n",
              "    </tr>\n",
              "    <tr>\n",
              "      <th>4</th>\n",
              "      <td>1000002</td>\n",
              "      <td>P00285442</td>\n",
              "      <td>M</td>\n",
              "      <td>55+</td>\n",
              "      <td>16</td>\n",
              "      <td>C</td>\n",
              "      <td>4</td>\n",
              "      <td>0</td>\n",
              "      <td>8.0</td>\n",
              "      <td>8.0</td>\n",
              "      <td>16.0</td>\n",
              "      <td>7969</td>\n",
              "    </tr>\n",
              "  </tbody>\n",
              "</table>\n",
              "</div>"
            ],
            "text/plain": [
              "   user_id product_id gender   age  occupation city_category  \\\n",
              "0  1000001  P00069042      F  0-17          10             A   \n",
              "1  1000001  P00248942      F  0-17          10             A   \n",
              "2  1000001  P00087842      F  0-17          10             A   \n",
              "3  1000001  P00085442      F  0-17          10             A   \n",
              "4  1000002  P00285442      M   55+          16             C   \n",
              "\n",
              "   stay_in_current_city_years  marital_status  product_category_1  \\\n",
              "0                           2               0                 3.0   \n",
              "1                           2               0                 1.0   \n",
              "2                           2               0                12.0   \n",
              "3                           2               0                12.0   \n",
              "4                           4               0                 8.0   \n",
              "\n",
              "   product_category_2  product_category_3  purchase  \n",
              "0                 4.0                16.0      8370  \n",
              "1                 6.0                14.0     15200  \n",
              "2                 4.0                16.0      1422  \n",
              "3                14.0                16.0      1057  \n",
              "4                 8.0                16.0      7969  "
            ]
          },
          "execution_count": 32,
          "metadata": {},
          "output_type": "execute_result"
        }
      ],
      "source": [
        "bfs.head()"
      ]
    },
    {
      "cell_type": "code",
      "execution_count": null,
      "id": "18ef99da",
      "metadata": {
        "execution": {
          "iopub.execute_input": "2025-06-18T10:09:16.449226Z",
          "iopub.status.busy": "2025-06-18T10:09:16.448938Z",
          "iopub.status.idle": "2025-06-18T10:09:20.943891Z",
          "shell.execute_reply": "2025-06-18T10:09:20.942741Z"
        },
        "papermill": {
          "duration": 4.5095,
          "end_time": "2025-06-18T10:09:20.946353",
          "exception": false,
          "start_time": "2025-06-18T10:09:16.436853",
          "status": "completed"
        },
        "tags": [],
        "id": "18ef99da",
        "outputId": "0a8ca44c-8bfb-4f80-8ac2-ca78d8a7b672"
      },
      "outputs": [
        {
          "name": "stderr",
          "output_type": "stream",
          "text": [
            "/usr/local/lib/python3.11/dist-packages/seaborn/_oldcore.py:1119: FutureWarning: use_inf_as_na option is deprecated and will be removed in a future version. Convert inf values to NaN before operating instead.\n",
            "  with pd.option_context('mode.use_inf_as_na', True):\n"
          ]
        },
        {
          "data": {
            "image/png": "[encoded data removed]",
            "text/plain": [
              "<Figure size 1500x500 with 2 Axes>"
            ]
          },
          "metadata": {},
          "output_type": "display_data"
        }
      ],
      "source": [
        " import seaborn as sns\n",
        "plt.figure(figsize=(15,5))\n",
        "plt.subplots_adjust(left=0.1,\n",
        "                    bottom=0.1,\n",
        "                    right=1,\n",
        "                    top=0.9,\n",
        "                    wspace=0.4,\n",
        "                    hspace=0.4)\n",
        "plt.subplot(1,2,1)\n",
        "sns.kdeplot(x='purchase',data=bfs)\n",
        "plt.subplot(1,2,2)\n",
        "sns.boxplot(y='purchase',data=bfs)\n",
        "plt.show()"
      ]
    },
    {
      "cell_type": "code",
      "execution_count": null,
      "id": "ec0d66d0",
      "metadata": {
        "execution": {
          "iopub.execute_input": "2025-06-18T10:09:20.978892Z",
          "iopub.status.busy": "2025-06-18T10:09:20.978431Z",
          "iopub.status.idle": "2025-06-18T10:09:20.995022Z",
          "shell.execute_reply": "2025-06-18T10:09:20.994207Z"
        },
        "papermill": {
          "duration": 0.035527,
          "end_time": "2025-06-18T10:09:20.996373",
          "exception": false,
          "start_time": "2025-06-18T10:09:20.960846",
          "status": "completed"
        },
        "tags": [],
        "id": "ec0d66d0",
        "outputId": "ba29a0f2-2728-4dbb-a484-f2ee93e4c0a3"
      },
      "outputs": [
        {
          "data": {
            "text/html": [
              "<div>\n",
              "<style scoped>\n",
              "    .dataframe tbody tr th:only-of-type {\n",
              "        vertical-align: middle;\n",
              "    }\n",
              "\n",
              "    .dataframe tbody tr th {\n",
              "        vertical-align: top;\n",
              "    }\n",
              "\n",
              "    .dataframe thead th {\n",
              "        text-align: right;\n",
              "    }\n",
              "</style>\n",
              "<table border=\"1\" class=\"dataframe\">\n",
              "  <thead>\n",
              "    <tr style=\"text-align: right;\">\n",
              "      <th></th>\n",
              "      <th>user_id</th>\n",
              "      <th>product_id</th>\n",
              "      <th>gender</th>\n",
              "      <th>age</th>\n",
              "      <th>occupation</th>\n",
              "      <th>city_category</th>\n",
              "      <th>stay_in_current_city_years</th>\n",
              "      <th>marital_status</th>\n",
              "      <th>product_category_1</th>\n",
              "      <th>product_category_2</th>\n",
              "      <th>product_category_3</th>\n",
              "      <th>purchase</th>\n",
              "    </tr>\n",
              "  </thead>\n",
              "  <tbody>\n",
              "    <tr>\n",
              "      <th>0</th>\n",
              "      <td>1000001</td>\n",
              "      <td>P00069042</td>\n",
              "      <td>F</td>\n",
              "      <td>0-17</td>\n",
              "      <td>10</td>\n",
              "      <td>A</td>\n",
              "      <td>2</td>\n",
              "      <td>0</td>\n",
              "      <td>3.0</td>\n",
              "      <td>4.0</td>\n",
              "      <td>16.0</td>\n",
              "      <td>8370</td>\n",
              "    </tr>\n",
              "    <tr>\n",
              "      <th>1</th>\n",
              "      <td>1000001</td>\n",
              "      <td>P00248942</td>\n",
              "      <td>F</td>\n",
              "      <td>0-17</td>\n",
              "      <td>10</td>\n",
              "      <td>A</td>\n",
              "      <td>2</td>\n",
              "      <td>0</td>\n",
              "      <td>1.0</td>\n",
              "      <td>6.0</td>\n",
              "      <td>14.0</td>\n",
              "      <td>15200</td>\n",
              "    </tr>\n",
              "    <tr>\n",
              "      <th>2</th>\n",
              "      <td>1000001</td>\n",
              "      <td>P00087842</td>\n",
              "      <td>F</td>\n",
              "      <td>0-17</td>\n",
              "      <td>10</td>\n",
              "      <td>A</td>\n",
              "      <td>2</td>\n",
              "      <td>0</td>\n",
              "      <td>12.0</td>\n",
              "      <td>4.0</td>\n",
              "      <td>16.0</td>\n",
              "      <td>1422</td>\n",
              "    </tr>\n",
              "    <tr>\n",
              "      <th>3</th>\n",
              "      <td>1000001</td>\n",
              "      <td>P00085442</td>\n",
              "      <td>F</td>\n",
              "      <td>0-17</td>\n",
              "      <td>10</td>\n",
              "      <td>A</td>\n",
              "      <td>2</td>\n",
              "      <td>0</td>\n",
              "      <td>12.0</td>\n",
              "      <td>14.0</td>\n",
              "      <td>16.0</td>\n",
              "      <td>1057</td>\n",
              "    </tr>\n",
              "    <tr>\n",
              "      <th>4</th>\n",
              "      <td>1000002</td>\n",
              "      <td>P00285442</td>\n",
              "      <td>M</td>\n",
              "      <td>55+</td>\n",
              "      <td>16</td>\n",
              "      <td>C</td>\n",
              "      <td>4</td>\n",
              "      <td>0</td>\n",
              "      <td>8.0</td>\n",
              "      <td>8.0</td>\n",
              "      <td>16.0</td>\n",
              "      <td>7969</td>\n",
              "    </tr>\n",
              "    <tr>\n",
              "      <th>...</th>\n",
              "      <td>...</td>\n",
              "      <td>...</td>\n",
              "      <td>...</td>\n",
              "      <td>...</td>\n",
              "      <td>...</td>\n",
              "      <td>...</td>\n",
              "      <td>...</td>\n",
              "      <td>...</td>\n",
              "      <td>...</td>\n",
              "      <td>...</td>\n",
              "      <td>...</td>\n",
              "      <td>...</td>\n",
              "    </tr>\n",
              "    <tr>\n",
              "      <th>550063</th>\n",
              "      <td>1006033</td>\n",
              "      <td>P00372445</td>\n",
              "      <td>M</td>\n",
              "      <td>51-55</td>\n",
              "      <td>13</td>\n",
              "      <td>B</td>\n",
              "      <td>1</td>\n",
              "      <td>1</td>\n",
              "      <td>20.0</td>\n",
              "      <td>8.0</td>\n",
              "      <td>16.0</td>\n",
              "      <td>368</td>\n",
              "    </tr>\n",
              "    <tr>\n",
              "      <th>550064</th>\n",
              "      <td>1006035</td>\n",
              "      <td>P00375436</td>\n",
              "      <td>F</td>\n",
              "      <td>26-35</td>\n",
              "      <td>1</td>\n",
              "      <td>C</td>\n",
              "      <td>3</td>\n",
              "      <td>0</td>\n",
              "      <td>20.0</td>\n",
              "      <td>8.0</td>\n",
              "      <td>16.0</td>\n",
              "      <td>371</td>\n",
              "    </tr>\n",
              "    <tr>\n",
              "      <th>550065</th>\n",
              "      <td>1006036</td>\n",
              "      <td>P00375436</td>\n",
              "      <td>F</td>\n",
              "      <td>26-35</td>\n",
              "      <td>15</td>\n",
              "      <td>B</td>\n",
              "      <td>4</td>\n",
              "      <td>1</td>\n",
              "      <td>20.0</td>\n",
              "      <td>8.0</td>\n",
              "      <td>16.0</td>\n",
              "      <td>137</td>\n",
              "    </tr>\n",
              "    <tr>\n",
              "      <th>550066</th>\n",
              "      <td>1006038</td>\n",
              "      <td>P00375436</td>\n",
              "      <td>F</td>\n",
              "      <td>55+</td>\n",
              "      <td>1</td>\n",
              "      <td>C</td>\n",
              "      <td>2</td>\n",
              "      <td>0</td>\n",
              "      <td>20.0</td>\n",
              "      <td>8.0</td>\n",
              "      <td>16.0</td>\n",
              "      <td>365</td>\n",
              "    </tr>\n",
              "    <tr>\n",
              "      <th>550067</th>\n",
              "      <td>1006039</td>\n",
              "      <td>P00371644</td>\n",
              "      <td>F</td>\n",
              "      <td>46-50</td>\n",
              "      <td>0</td>\n",
              "      <td>B</td>\n",
              "      <td>4</td>\n",
              "      <td>1</td>\n",
              "      <td>20.0</td>\n",
              "      <td>8.0</td>\n",
              "      <td>16.0</td>\n",
              "      <td>490</td>\n",
              "    </tr>\n",
              "  </tbody>\n",
              "</table>\n",
              "<p>550068 rows × 12 columns</p>\n",
              "</div>"
            ],
            "text/plain": [
              "        user_id product_id gender    age  occupation city_category  \\\n",
              "0       1000001  P00069042      F   0-17          10             A   \n",
              "1       1000001  P00248942      F   0-17          10             A   \n",
              "2       1000001  P00087842      F   0-17          10             A   \n",
              "3       1000001  P00085442      F   0-17          10             A   \n",
              "4       1000002  P00285442      M    55+          16             C   \n",
              "...         ...        ...    ...    ...         ...           ...   \n",
              "550063  1006033  P00372445      M  51-55          13             B   \n",
              "550064  1006035  P00375436      F  26-35           1             C   \n",
              "550065  1006036  P00375436      F  26-35          15             B   \n",
              "550066  1006038  P00375436      F    55+           1             C   \n",
              "550067  1006039  P00371644      F  46-50           0             B   \n",
              "\n",
              "        stay_in_current_city_years  marital_status  product_category_1  \\\n",
              "0                                2               0                 3.0   \n",
              "1                                2               0                 1.0   \n",
              "2                                2               0                12.0   \n",
              "3                                2               0                12.0   \n",
              "4                                4               0                 8.0   \n",
              "...                            ...             ...                 ...   \n",
              "550063                           1               1                20.0   \n",
              "550064                           3               0                20.0   \n",
              "550065                           4               1                20.0   \n",
              "550066                           2               0                20.0   \n",
              "550067                           4               1                20.0   \n",
              "\n",
              "        product_category_2  product_category_3  purchase  \n",
              "0                      4.0                16.0      8370  \n",
              "1                      6.0                14.0     15200  \n",
              "2                      4.0                16.0      1422  \n",
              "3                     14.0                16.0      1057  \n",
              "4                      8.0                16.0      7969  \n",
              "...                    ...                 ...       ...  \n",
              "550063                 8.0                16.0       368  \n",
              "550064                 8.0                16.0       371  \n",
              "550065                 8.0                16.0       137  \n",
              "550066                 8.0                16.0       365  \n",
              "550067                 8.0                16.0       490  \n",
              "\n",
              "[550068 rows x 12 columns]"
            ]
          },
          "execution_count": 34,
          "metadata": {},
          "output_type": "execute_result"
        }
      ],
      "source": [
        "bfs"
      ]
    },
    {
      "cell_type": "code",
      "execution_count": null,
      "id": "b9499e1e",
      "metadata": {
        "execution": {
          "iopub.execute_input": "2025-06-18T10:09:21.021992Z",
          "iopub.status.busy": "2025-06-18T10:09:21.021699Z",
          "iopub.status.idle": "2025-06-18T10:09:21.196447Z",
          "shell.execute_reply": "2025-06-18T10:09:21.195517Z"
        },
        "papermill": {
          "duration": 0.189363,
          "end_time": "2025-06-18T10:09:21.198064",
          "exception": false,
          "start_time": "2025-06-18T10:09:21.008701",
          "status": "completed"
        },
        "tags": [],
        "id": "b9499e1e",
        "outputId": "f18d9f6e-6d9f-4566-f499-11fe59f29abf"
      },
      "outputs": [
        {
          "data": {
            "image/png": "[encoded data removed]",
            "text/plain": [
              "<Figure size 500x500 with 1 Axes>"
            ]
          },
          "metadata": {},
          "output_type": "display_data"
        }
      ],
      "source": [
        "bfs.groupby('gender').agg({'gender':'count'}).gender.plot(kind='pie',autopct='%1.1f%%',figsize=(5,5),shadow=True)\n",
        "plt.show()"
      ]
    },
    {
      "cell_type": "code",
      "execution_count": null,
      "id": "1bcc812f",
      "metadata": {
        "execution": {
          "iopub.execute_input": "2025-06-18T10:09:21.225209Z",
          "iopub.status.busy": "2025-06-18T10:09:21.224879Z",
          "iopub.status.idle": "2025-06-18T10:09:21.913062Z",
          "shell.execute_reply": "2025-06-18T10:09:21.911940Z"
        },
        "papermill": {
          "duration": 0.703864,
          "end_time": "2025-06-18T10:09:21.914585",
          "exception": false,
          "start_time": "2025-06-18T10:09:21.210721",
          "status": "completed"
        },
        "tags": [],
        "id": "1bcc812f",
        "outputId": "6dc29087-aca7-4055-da97-c3b6612eb434"
      },
      "outputs": [
        {
          "name": "stderr",
          "output_type": "stream",
          "text": [
            "/usr/local/lib/python3.11/dist-packages/seaborn/_oldcore.py:1119: FutureWarning: use_inf_as_na option is deprecated and will be removed in a future version. Convert inf values to NaN before operating instead.\n",
            "  with pd.option_context('mode.use_inf_as_na', True):\n",
            "/usr/local/lib/python3.11/dist-packages/seaborn/_oldcore.py:1119: FutureWarning: use_inf_as_na option is deprecated and will be removed in a future version. Convert inf values to NaN before operating instead.\n",
            "  with pd.option_context('mode.use_inf_as_na', True):\n"
          ]
        },
        {
          "data": {
            "image/png": "[encoded data removed]",
            "text/plain": [
              "<Figure size 1000x400 with 2 Axes>"
            ]
          },
          "metadata": {},
          "output_type": "display_data"
        }
      ],
      "source": [
        "plt.figure(figsize=(10,4))\n",
        "plt.subplots_adjust(left=0.1,\n",
        "                    bottom=0.1,\n",
        "                    right=1.2,\n",
        "                    top=0.9,\n",
        "                    wspace=0.4,\n",
        "                    hspace=0.4)\n",
        "ma=bfs[bfs['gender']=='M'].value_counts('purchase').reset_index()\n",
        "fe=bfs[bfs['gender']=='F'].value_counts('purchase').to_frame()\n",
        "plt.subplot(1,2,1)\n",
        "sns.kdeplot(x='purchase',data=ma).set_title('Male')\n",
        "plt.subplot(1,2,2)\n",
        "sns.kdeplot(y='purchase',data=fe).set_title('Female')\n",
        "plt.show()\n"
      ]
    },
    {
      "cell_type": "code",
      "execution_count": null,
      "id": "aaa5ee02",
      "metadata": {
        "execution": {
          "iopub.execute_input": "2025-06-18T10:09:21.943996Z",
          "iopub.status.busy": "2025-06-18T10:09:21.943670Z",
          "iopub.status.idle": "2025-06-18T10:09:21.954317Z",
          "shell.execute_reply": "2025-06-18T10:09:21.953009Z"
        },
        "papermill": {
          "duration": 0.027406,
          "end_time": "2025-06-18T10:09:21.955984",
          "exception": false,
          "start_time": "2025-06-18T10:09:21.928578",
          "status": "completed"
        },
        "tags": [],
        "id": "aaa5ee02",
        "outputId": "d04b0c63-9204-4c2b-f83a-717a200a70e0"
      },
      "outputs": [
        {
          "data": {
            "text/html": [
              "<div>\n",
              "<style scoped>\n",
              "    .dataframe tbody tr th:only-of-type {\n",
              "        vertical-align: middle;\n",
              "    }\n",
              "\n",
              "    .dataframe tbody tr th {\n",
              "        vertical-align: top;\n",
              "    }\n",
              "\n",
              "    .dataframe thead th {\n",
              "        text-align: right;\n",
              "    }\n",
              "</style>\n",
              "<table border=\"1\" class=\"dataframe\">\n",
              "  <thead>\n",
              "    <tr style=\"text-align: right;\">\n",
              "      <th></th>\n",
              "      <th>purchase</th>\n",
              "      <th>count</th>\n",
              "    </tr>\n",
              "  </thead>\n",
              "  <tbody>\n",
              "    <tr>\n",
              "      <th>0</th>\n",
              "      <td>6855</td>\n",
              "      <td>144</td>\n",
              "    </tr>\n",
              "    <tr>\n",
              "      <th>1</th>\n",
              "      <td>7011</td>\n",
              "      <td>138</td>\n",
              "    </tr>\n",
              "    <tr>\n",
              "      <th>2</th>\n",
              "      <td>6923</td>\n",
              "      <td>138</td>\n",
              "    </tr>\n",
              "    <tr>\n",
              "      <th>3</th>\n",
              "      <td>7193</td>\n",
              "      <td>136</td>\n",
              "    </tr>\n",
              "    <tr>\n",
              "      <th>4</th>\n",
              "      <td>6891</td>\n",
              "      <td>136</td>\n",
              "    </tr>\n",
              "    <tr>\n",
              "      <th>...</th>\n",
              "      <td>...</td>\n",
              "      <td>...</td>\n",
              "    </tr>\n",
              "    <tr>\n",
              "      <th>17542</th>\n",
              "      <td>11139</td>\n",
              "      <td>1</td>\n",
              "    </tr>\n",
              "    <tr>\n",
              "      <th>17543</th>\n",
              "      <td>11134</td>\n",
              "      <td>1</td>\n",
              "    </tr>\n",
              "    <tr>\n",
              "      <th>17544</th>\n",
              "      <td>11132</td>\n",
              "      <td>1</td>\n",
              "    </tr>\n",
              "    <tr>\n",
              "      <th>17545</th>\n",
              "      <td>11128</td>\n",
              "      <td>1</td>\n",
              "    </tr>\n",
              "    <tr>\n",
              "      <th>17546</th>\n",
              "      <td>5137</td>\n",
              "      <td>1</td>\n",
              "    </tr>\n",
              "  </tbody>\n",
              "</table>\n",
              "<p>17547 rows × 2 columns</p>\n",
              "</div>"
            ],
            "text/plain": [
              "       purchase  count\n",
              "0          6855    144\n",
              "1          7011    138\n",
              "2          6923    138\n",
              "3          7193    136\n",
              "4          6891    136\n",
              "...         ...    ...\n",
              "17542     11139      1\n",
              "17543     11134      1\n",
              "17544     11132      1\n",
              "17545     11128      1\n",
              "17546      5137      1\n",
              "\n",
              "[17547 rows x 2 columns]"
            ]
          },
          "execution_count": 37,
          "metadata": {},
          "output_type": "execute_result"
        }
      ],
      "source": [
        "ma"
      ]
    },
    {
      "cell_type": "code",
      "execution_count": null,
      "id": "3319d24d",
      "metadata": {
        "execution": {
          "iopub.execute_input": "2025-06-18T10:09:21.984961Z",
          "iopub.status.busy": "2025-06-18T10:09:21.984676Z",
          "iopub.status.idle": "2025-06-18T10:09:22.159784Z",
          "shell.execute_reply": "2025-06-18T10:09:22.158831Z"
        },
        "papermill": {
          "duration": 0.19119,
          "end_time": "2025-06-18T10:09:22.161318",
          "exception": false,
          "start_time": "2025-06-18T10:09:21.970128",
          "status": "completed"
        },
        "tags": [],
        "id": "3319d24d",
        "outputId": "02648d99-7b70-4440-b1bd-4ea2dac785d3"
      },
      "outputs": [
        {
          "name": "stderr",
          "output_type": "stream",
          "text": [
            "/tmp/ipykernel_13/996389922.py:1: FutureWarning: The provided callable <built-in function sum> is currently using SeriesGroupBy.sum. In a future version of pandas, the provided callable will be used directly. To keep current behavior pass the string \"sum\" instead.\n",
            "  p=bfs.groupby('gender').agg({'purchase':sum}).reset_index()\n"
          ]
        },
        {
          "data": {
            "text/html": [
              "<div>\n",
              "<style scoped>\n",
              "    .dataframe tbody tr th:only-of-type {\n",
              "        vertical-align: middle;\n",
              "    }\n",
              "\n",
              "    .dataframe tbody tr th {\n",
              "        vertical-align: top;\n",
              "    }\n",
              "\n",
              "    .dataframe thead th {\n",
              "        text-align: right;\n",
              "    }\n",
              "</style>\n",
              "<table border=\"1\" class=\"dataframe\">\n",
              "  <thead>\n",
              "    <tr style=\"text-align: right;\">\n",
              "      <th></th>\n",
              "      <th>gender</th>\n",
              "      <th>purchase</th>\n",
              "    </tr>\n",
              "  </thead>\n",
              "  <tbody>\n",
              "    <tr>\n",
              "      <th>0</th>\n",
              "      <td>F</td>\n",
              "      <td>1186232642</td>\n",
              "    </tr>\n",
              "    <tr>\n",
              "      <th>1</th>\n",
              "      <td>M</td>\n",
              "      <td>3909580100</td>\n",
              "    </tr>\n",
              "  </tbody>\n",
              "</table>\n",
              "</div>"
            ],
            "text/plain": [
              "  gender    purchase\n",
              "0      F  1186232642\n",
              "1      M  3909580100"
            ]
          },
          "execution_count": 38,
          "metadata": {},
          "output_type": "execute_result"
        },
        {
          "data": {
            "image/png": "[encoded data removed]",
            "text/plain": [
              "<Figure size 640x480 with 1 Axes>"
            ]
          },
          "metadata": {},
          "output_type": "display_data"
        }
      ],
      "source": [
        "p=bfs.groupby('gender').agg({'purchase':sum}).reset_index()\n",
        "sns.barplot(x='gender',y='purchase',data=p)\n",
        "p"
      ]
    },
    {
      "cell_type": "code",
      "execution_count": null,
      "id": "06eb689d",
      "metadata": {
        "execution": {
          "iopub.execute_input": "2025-06-18T10:09:22.191737Z",
          "iopub.status.busy": "2025-06-18T10:09:22.191039Z",
          "iopub.status.idle": "2025-06-18T10:09:22.670299Z",
          "shell.execute_reply": "2025-06-18T10:09:22.669256Z"
        },
        "papermill": {
          "duration": 0.496732,
          "end_time": "2025-06-18T10:09:22.672337",
          "exception": false,
          "start_time": "2025-06-18T10:09:22.175605",
          "status": "completed"
        },
        "tags": [],
        "id": "06eb689d",
        "outputId": "25b04484-fa2e-406a-c1fe-a3ee29c5582e"
      },
      "outputs": [
        {
          "data": {
            "image/png": "[encoded data removed]",
            "text/plain": [
              "<Figure size 640x480 with 1 Axes>"
            ]
          },
          "metadata": {},
          "output_type": "display_data"
        }
      ],
      "source": [
        "p_id=bfs.value_counts('product_id').sort_values(ascending=False).head(50)\n",
        "sns.barplot(y=p_id.index,x=p_id)\n",
        "plt.show()"
      ]
    },
    {
      "cell_type": "code",
      "execution_count": null,
      "id": "9cb240a8",
      "metadata": {
        "execution": {
          "iopub.execute_input": "2025-06-18T10:09:22.705124Z",
          "iopub.status.busy": "2025-06-18T10:09:22.704816Z",
          "iopub.status.idle": "2025-06-18T10:09:23.858380Z",
          "shell.execute_reply": "2025-06-18T10:09:23.857456Z"
        },
        "papermill": {
          "duration": 1.171974,
          "end_time": "2025-06-18T10:09:23.859989",
          "exception": false,
          "start_time": "2025-06-18T10:09:22.688015",
          "status": "completed"
        },
        "tags": [],
        "id": "9cb240a8",
        "outputId": "c7c4b683-fbde-4efc-a5b9-e9bc618530f7"
      },
      "outputs": [
        {
          "data": {
            "image/png": "[encoded data removed]",
            "text/plain": [
              "<Figure size 1500x500 with 3 Axes>"
            ]
          },
          "metadata": {},
          "output_type": "display_data"
        }
      ],
      "source": [
        "c1=bfs.groupby('gender')['product_category_1'].value_counts().to_frame().rename(columns={\"product_category_1\":'count'}).reset_index()\n",
        "c2=bfs.groupby('gender')['product_category_2'].value_counts().to_frame().rename(columns={\"product_category_2\":'count'}).reset_index()\n",
        "c3=bfs.groupby('gender')['product_category_3'].value_counts().to_frame().rename(columns={\"product_category_3\":'count'}).reset_index()\n",
        "plt.figure(figsize=(15,5))\n",
        "plt.subplots_adjust(left=0.1,\n",
        "                    bottom=0.1,\n",
        "                    right=1.2,\n",
        "                    top=0.9,\n",
        "                    wspace=0.4,\n",
        "                    hspace=0.4)\n",
        "plt.subplot(1,3,1)\n",
        "sns.barplot(x='product_category_1',y='count',hue='gender',data=c1)\n",
        "plt.subplot(1,3,2)\n",
        "sns.barplot(x='product_category_2',y='count',hue='gender',data=c2)\n",
        "plt.subplot(1,3,3)\n",
        "sns.barplot(x='product_category_3',y='count',hue='gender',data=c3)\n",
        "plt.show()"
      ]
    },
    {
      "cell_type": "code",
      "execution_count": null,
      "id": "1d079095",
      "metadata": {
        "execution": {
          "iopub.execute_input": "2025-06-18T10:09:23.894677Z",
          "iopub.status.busy": "2025-06-18T10:09:23.894302Z",
          "iopub.status.idle": "2025-06-18T10:09:23.906558Z",
          "shell.execute_reply": "2025-06-18T10:09:23.905703Z"
        },
        "papermill": {
          "duration": 0.031324,
          "end_time": "2025-06-18T10:09:23.907931",
          "exception": false,
          "start_time": "2025-06-18T10:09:23.876607",
          "status": "completed"
        },
        "tags": [],
        "id": "1d079095",
        "outputId": "de438fc7-58d5-4acd-b24d-650fbe4a1973"
      },
      "outputs": [
        {
          "data": {
            "text/html": [
              "<div>\n",
              "<style scoped>\n",
              "    .dataframe tbody tr th:only-of-type {\n",
              "        vertical-align: middle;\n",
              "    }\n",
              "\n",
              "    .dataframe tbody tr th {\n",
              "        vertical-align: top;\n",
              "    }\n",
              "\n",
              "    .dataframe thead th {\n",
              "        text-align: right;\n",
              "    }\n",
              "</style>\n",
              "<table border=\"1\" class=\"dataframe\">\n",
              "  <thead>\n",
              "    <tr style=\"text-align: right;\">\n",
              "      <th></th>\n",
              "      <th>gender</th>\n",
              "      <th>product_category_1</th>\n",
              "      <th>count</th>\n",
              "    </tr>\n",
              "  </thead>\n",
              "  <tbody>\n",
              "    <tr>\n",
              "      <th>0</th>\n",
              "      <td>F</td>\n",
              "      <td>5.0</td>\n",
              "      <td>41961</td>\n",
              "    </tr>\n",
              "    <tr>\n",
              "      <th>1</th>\n",
              "      <td>F</td>\n",
              "      <td>8.0</td>\n",
              "      <td>33558</td>\n",
              "    </tr>\n",
              "    <tr>\n",
              "      <th>2</th>\n",
              "      <td>F</td>\n",
              "      <td>1.0</td>\n",
              "      <td>24831</td>\n",
              "    </tr>\n",
              "    <tr>\n",
              "      <th>3</th>\n",
              "      <td>F</td>\n",
              "      <td>3.0</td>\n",
              "      <td>6006</td>\n",
              "    </tr>\n",
              "    <tr>\n",
              "      <th>4</th>\n",
              "      <td>F</td>\n",
              "      <td>2.0</td>\n",
              "      <td>5658</td>\n",
              "    </tr>\n",
              "    <tr>\n",
              "      <th>5</th>\n",
              "      <td>F</td>\n",
              "      <td>11.0</td>\n",
              "      <td>4739</td>\n",
              "    </tr>\n",
              "    <tr>\n",
              "      <th>6</th>\n",
              "      <td>F</td>\n",
              "      <td>6.0</td>\n",
              "      <td>4559</td>\n",
              "    </tr>\n",
              "    <tr>\n",
              "      <th>7</th>\n",
              "      <td>F</td>\n",
              "      <td>4.0</td>\n",
              "      <td>3639</td>\n",
              "    </tr>\n",
              "    <tr>\n",
              "      <th>8</th>\n",
              "      <td>F</td>\n",
              "      <td>16.0</td>\n",
              "      <td>2402</td>\n",
              "    </tr>\n",
              "    <tr>\n",
              "      <th>9</th>\n",
              "      <td>F</td>\n",
              "      <td>12.0</td>\n",
              "      <td>1532</td>\n",
              "    </tr>\n",
              "    <tr>\n",
              "      <th>10</th>\n",
              "      <td>F</td>\n",
              "      <td>13.0</td>\n",
              "      <td>1462</td>\n",
              "    </tr>\n",
              "    <tr>\n",
              "      <th>11</th>\n",
              "      <td>F</td>\n",
              "      <td>10.0</td>\n",
              "      <td>1162</td>\n",
              "    </tr>\n",
              "    <tr>\n",
              "      <th>12</th>\n",
              "      <td>F</td>\n",
              "      <td>15.0</td>\n",
              "      <td>1046</td>\n",
              "    </tr>\n",
              "    <tr>\n",
              "      <th>13</th>\n",
              "      <td>F</td>\n",
              "      <td>7.0</td>\n",
              "      <td>943</td>\n",
              "    </tr>\n",
              "    <tr>\n",
              "      <th>14</th>\n",
              "      <td>F</td>\n",
              "      <td>20.0</td>\n",
              "      <td>723</td>\n",
              "    </tr>\n",
              "    <tr>\n",
              "      <th>15</th>\n",
              "      <td>F</td>\n",
              "      <td>14.0</td>\n",
              "      <td>623</td>\n",
              "    </tr>\n",
              "    <tr>\n",
              "      <th>16</th>\n",
              "      <td>F</td>\n",
              "      <td>19.0</td>\n",
              "      <td>451</td>\n",
              "    </tr>\n",
              "    <tr>\n",
              "      <th>17</th>\n",
              "      <td>F</td>\n",
              "      <td>18.0</td>\n",
              "      <td>382</td>\n",
              "    </tr>\n",
              "    <tr>\n",
              "      <th>18</th>\n",
              "      <td>F</td>\n",
              "      <td>9.0</td>\n",
              "      <td>70</td>\n",
              "    </tr>\n",
              "    <tr>\n",
              "      <th>19</th>\n",
              "      <td>F</td>\n",
              "      <td>17.0</td>\n",
              "      <td>62</td>\n",
              "    </tr>\n",
              "    <tr>\n",
              "      <th>20</th>\n",
              "      <td>M</td>\n",
              "      <td>1.0</td>\n",
              "      <td>115547</td>\n",
              "    </tr>\n",
              "    <tr>\n",
              "      <th>21</th>\n",
              "      <td>M</td>\n",
              "      <td>5.0</td>\n",
              "      <td>108972</td>\n",
              "    </tr>\n",
              "    <tr>\n",
              "      <th>22</th>\n",
              "      <td>M</td>\n",
              "      <td>8.0</td>\n",
              "      <td>80367</td>\n",
              "    </tr>\n",
              "    <tr>\n",
              "      <th>23</th>\n",
              "      <td>M</td>\n",
              "      <td>11.0</td>\n",
              "      <td>19548</td>\n",
              "    </tr>\n",
              "    <tr>\n",
              "      <th>24</th>\n",
              "      <td>M</td>\n",
              "      <td>2.0</td>\n",
              "      <td>18206</td>\n",
              "    </tr>\n",
              "    <tr>\n",
              "      <th>25</th>\n",
              "      <td>M</td>\n",
              "      <td>6.0</td>\n",
              "      <td>15907</td>\n",
              "    </tr>\n",
              "    <tr>\n",
              "      <th>26</th>\n",
              "      <td>M</td>\n",
              "      <td>3.0</td>\n",
              "      <td>14207</td>\n",
              "    </tr>\n",
              "    <tr>\n",
              "      <th>27</th>\n",
              "      <td>M</td>\n",
              "      <td>4.0</td>\n",
              "      <td>8114</td>\n",
              "    </tr>\n",
              "    <tr>\n",
              "      <th>28</th>\n",
              "      <td>M</td>\n",
              "      <td>16.0</td>\n",
              "      <td>7426</td>\n",
              "    </tr>\n",
              "    <tr>\n",
              "      <th>29</th>\n",
              "      <td>M</td>\n",
              "      <td>15.0</td>\n",
              "      <td>5244</td>\n",
              "    </tr>\n",
              "    <tr>\n",
              "      <th>30</th>\n",
              "      <td>M</td>\n",
              "      <td>13.0</td>\n",
              "      <td>4087</td>\n",
              "    </tr>\n",
              "    <tr>\n",
              "      <th>31</th>\n",
              "      <td>M</td>\n",
              "      <td>10.0</td>\n",
              "      <td>3963</td>\n",
              "    </tr>\n",
              "    <tr>\n",
              "      <th>32</th>\n",
              "      <td>M</td>\n",
              "      <td>7.0</td>\n",
              "      <td>2778</td>\n",
              "    </tr>\n",
              "    <tr>\n",
              "      <th>33</th>\n",
              "      <td>M</td>\n",
              "      <td>18.0</td>\n",
              "      <td>2743</td>\n",
              "    </tr>\n",
              "    <tr>\n",
              "      <th>34</th>\n",
              "      <td>M</td>\n",
              "      <td>12.0</td>\n",
              "      <td>2415</td>\n",
              "    </tr>\n",
              "    <tr>\n",
              "      <th>35</th>\n",
              "      <td>M</td>\n",
              "      <td>20.0</td>\n",
              "      <td>1827</td>\n",
              "    </tr>\n",
              "    <tr>\n",
              "      <th>36</th>\n",
              "      <td>M</td>\n",
              "      <td>19.0</td>\n",
              "      <td>1152</td>\n",
              "    </tr>\n",
              "    <tr>\n",
              "      <th>37</th>\n",
              "      <td>M</td>\n",
              "      <td>14.0</td>\n",
              "      <td>900</td>\n",
              "    </tr>\n",
              "    <tr>\n",
              "      <th>38</th>\n",
              "      <td>M</td>\n",
              "      <td>17.0</td>\n",
              "      <td>516</td>\n",
              "    </tr>\n",
              "    <tr>\n",
              "      <th>39</th>\n",
              "      <td>M</td>\n",
              "      <td>9.0</td>\n",
              "      <td>340</td>\n",
              "    </tr>\n",
              "  </tbody>\n",
              "</table>\n",
              "</div>"
            ],
            "text/plain": [
              "   gender  product_category_1   count\n",
              "0       F                 5.0   41961\n",
              "1       F                 8.0   33558\n",
              "2       F                 1.0   24831\n",
              "3       F                 3.0    6006\n",
              "4       F                 2.0    5658\n",
              "5       F                11.0    4739\n",
              "6       F                 6.0    4559\n",
              "7       F                 4.0    3639\n",
              "8       F                16.0    2402\n",
              "9       F                12.0    1532\n",
              "10      F                13.0    1462\n",
              "11      F                10.0    1162\n",
              "12      F                15.0    1046\n",
              "13      F                 7.0     943\n",
              "14      F                20.0     723\n",
              "15      F                14.0     623\n",
              "16      F                19.0     451\n",
              "17      F                18.0     382\n",
              "18      F                 9.0      70\n",
              "19      F                17.0      62\n",
              "20      M                 1.0  115547\n",
              "21      M                 5.0  108972\n",
              "22      M                 8.0   80367\n",
              "23      M                11.0   19548\n",
              "24      M                 2.0   18206\n",
              "25      M                 6.0   15907\n",
              "26      M                 3.0   14207\n",
              "27      M                 4.0    8114\n",
              "28      M                16.0    7426\n",
              "29      M                15.0    5244\n",
              "30      M                13.0    4087\n",
              "31      M                10.0    3963\n",
              "32      M                 7.0    2778\n",
              "33      M                18.0    2743\n",
              "34      M                12.0    2415\n",
              "35      M                20.0    1827\n",
              "36      M                19.0    1152\n",
              "37      M                14.0     900\n",
              "38      M                17.0     516\n",
              "39      M                 9.0     340"
            ]
          },
          "execution_count": 41,
          "metadata": {},
          "output_type": "execute_result"
        }
      ],
      "source": [
        "c1"
      ]
    },
    {
      "cell_type": "code",
      "execution_count": null,
      "id": "21e5bed8",
      "metadata": {
        "execution": {
          "iopub.execute_input": "2025-06-18T10:09:23.942947Z",
          "iopub.status.busy": "2025-06-18T10:09:23.942629Z",
          "iopub.status.idle": "2025-06-18T10:09:24.521880Z",
          "shell.execute_reply": "2025-06-18T10:09:24.520953Z"
        },
        "papermill": {
          "duration": 0.598661,
          "end_time": "2025-06-18T10:09:24.523450",
          "exception": false,
          "start_time": "2025-06-18T10:09:23.924789",
          "status": "completed"
        },
        "tags": [],
        "id": "21e5bed8",
        "outputId": "4356be7c-064d-42df-ac68-056057fe85c8"
      },
      "outputs": [
        {
          "name": "stderr",
          "output_type": "stream",
          "text": [
            "/usr/local/lib/python3.11/dist-packages/seaborn/_oldcore.py:1119: FutureWarning: use_inf_as_na option is deprecated and will be removed in a future version. Convert inf values to NaN before operating instead.\n",
            "  with pd.option_context('mode.use_inf_as_na', True):\n",
            "/usr/local/lib/python3.11/dist-packages/seaborn/_oldcore.py:1119: FutureWarning: use_inf_as_na option is deprecated and will be removed in a future version. Convert inf values to NaN before operating instead.\n",
            "  with pd.option_context('mode.use_inf_as_na', True):\n"
          ]
        },
        {
          "data": {
            "image/png": "[encoded data removed]",
            "text/plain": [
              "<Figure size 1000x400 with 2 Axes>"
            ]
          },
          "metadata": {},
          "output_type": "display_data"
        }
      ],
      "source": [
        "UM_P=bfs[bfs['marital_status']==0].value_counts('purchase').to_frame()\n",
        "M_P=bfs[bfs['marital_status']==1].value_counts('purchase').to_frame()\n",
        "plt.figure(figsize=(10,4))\n",
        "plt.subplots_adjust(left=0.1,\n",
        "                    bottom=0.1,\n",
        "                    right=1.2,\n",
        "                    top=0.9,\n",
        "                    wspace=0.4,\n",
        "                    hspace=0.4)\n",
        "plt.subplot(1,2,1)\n",
        "sns.kdeplot(x='purchase',data=UM_P).set_title('unmarried')\n",
        "plt.subplot(1,2,2)\n",
        "sns.kdeplot(x='purchase',data=M_P).set_title('married')\n",
        "plt.show()"
      ]
    },
    {
      "cell_type": "code",
      "execution_count": null,
      "id": "1d672c29",
      "metadata": {
        "execution": {
          "iopub.execute_input": "2025-06-18T10:09:24.562102Z",
          "iopub.status.busy": "2025-06-18T10:09:24.561449Z",
          "iopub.status.idle": "2025-06-18T10:09:24.669394Z",
          "shell.execute_reply": "2025-06-18T10:09:24.668484Z"
        },
        "papermill": {
          "duration": 0.128436,
          "end_time": "2025-06-18T10:09:24.671040",
          "exception": false,
          "start_time": "2025-06-18T10:09:24.542604",
          "status": "completed"
        },
        "tags": [],
        "id": "1d672c29",
        "outputId": "903c3b4b-721e-4337-cc64-497601003b56"
      },
      "outputs": [
        {
          "data": {
            "image/png": "[encoded data removed]",
            "text/plain": [
              "<Figure size 500x500 with 1 Axes>"
            ]
          },
          "metadata": {},
          "output_type": "display_data"
        }
      ],
      "source": [
        "bfs.groupby('marital_status').agg({'marital_status':'count'}).marital_status.plot(kind='pie',autopct='%1.1f%%',figsize=(5,5),shadow=True)\n",
        "plt.show()"
      ]
    },
    {
      "cell_type": "code",
      "execution_count": null,
      "id": "8981ad25",
      "metadata": {
        "execution": {
          "iopub.execute_input": "2025-06-18T10:09:24.709369Z",
          "iopub.status.busy": "2025-06-18T10:09:24.709028Z",
          "iopub.status.idle": "2025-06-18T10:09:24.720993Z",
          "shell.execute_reply": "2025-06-18T10:09:24.720173Z"
        },
        "papermill": {
          "duration": 0.032682,
          "end_time": "2025-06-18T10:09:24.722305",
          "exception": false,
          "start_time": "2025-06-18T10:09:24.689623",
          "status": "completed"
        },
        "tags": [],
        "id": "8981ad25",
        "outputId": "402b339d-9a24-46fb-c728-0f6570530b5b"
      },
      "outputs": [
        {
          "data": {
            "text/html": [
              "<div>\n",
              "<style scoped>\n",
              "    .dataframe tbody tr th:only-of-type {\n",
              "        vertical-align: middle;\n",
              "    }\n",
              "\n",
              "    .dataframe tbody tr th {\n",
              "        vertical-align: top;\n",
              "    }\n",
              "\n",
              "    .dataframe thead th {\n",
              "        text-align: right;\n",
              "    }\n",
              "</style>\n",
              "<table border=\"1\" class=\"dataframe\">\n",
              "  <thead>\n",
              "    <tr style=\"text-align: right;\">\n",
              "      <th></th>\n",
              "      <th>user_id</th>\n",
              "      <th>product_id</th>\n",
              "      <th>gender</th>\n",
              "      <th>age</th>\n",
              "      <th>occupation</th>\n",
              "      <th>city_category</th>\n",
              "      <th>stay_in_current_city_years</th>\n",
              "      <th>marital_status</th>\n",
              "      <th>product_category_1</th>\n",
              "      <th>product_category_2</th>\n",
              "      <th>product_category_3</th>\n",
              "      <th>purchase</th>\n",
              "    </tr>\n",
              "  </thead>\n",
              "  <tbody>\n",
              "    <tr>\n",
              "      <th>0</th>\n",
              "      <td>1000001</td>\n",
              "      <td>P00069042</td>\n",
              "      <td>F</td>\n",
              "      <td>0-17</td>\n",
              "      <td>10</td>\n",
              "      <td>A</td>\n",
              "      <td>2</td>\n",
              "      <td>0</td>\n",
              "      <td>3.0</td>\n",
              "      <td>4.0</td>\n",
              "      <td>16.0</td>\n",
              "      <td>8370</td>\n",
              "    </tr>\n",
              "  </tbody>\n",
              "</table>\n",
              "</div>"
            ],
            "text/plain": [
              "   user_id product_id gender   age  occupation city_category  \\\n",
              "0  1000001  P00069042      F  0-17          10             A   \n",
              "\n",
              "   stay_in_current_city_years  marital_status  product_category_1  \\\n",
              "0                           2               0                 3.0   \n",
              "\n",
              "   product_category_2  product_category_3  purchase  \n",
              "0                 4.0                16.0      8370  "
            ]
          },
          "execution_count": 44,
          "metadata": {},
          "output_type": "execute_result"
        }
      ],
      "source": [
        "bfs.head(1)"
      ]
    },
    {
      "cell_type": "code",
      "execution_count": null,
      "id": "0a0f64c1",
      "metadata": {
        "execution": {
          "iopub.execute_input": "2025-06-18T10:09:24.761608Z",
          "iopub.status.busy": "2025-06-18T10:09:24.761219Z",
          "iopub.status.idle": "2025-06-18T10:09:25.439305Z",
          "shell.execute_reply": "2025-06-18T10:09:25.438377Z"
        },
        "papermill": {
          "duration": 0.699511,
          "end_time": "2025-06-18T10:09:25.441268",
          "exception": false,
          "start_time": "2025-06-18T10:09:24.741757",
          "status": "completed"
        },
        "tags": [],
        "id": "0a0f64c1",
        "outputId": "83ea7bf1-85e3-4b77-dedb-2cd61cb2daf6"
      },
      "outputs": [
        {
          "name": "stderr",
          "output_type": "stream",
          "text": [
            "/tmp/ipykernel_13/2876715686.py:1: FutureWarning: The provided callable <built-in function sum> is currently using SeriesGroupBy.sum. In a future version of pandas, the provided callable will be used directly. To keep current behavior pass the string \"sum\" instead.\n",
            "  M_UM_P=bfs.groupby(['gender','marital_status']).agg({'purchase':sum}).reset_index()\n"
          ]
        },
        {
          "data": {
            "text/html": [
              "<div>\n",
              "<style scoped>\n",
              "    .dataframe tbody tr th:only-of-type {\n",
              "        vertical-align: middle;\n",
              "    }\n",
              "\n",
              "    .dataframe tbody tr th {\n",
              "        vertical-align: top;\n",
              "    }\n",
              "\n",
              "    .dataframe thead th {\n",
              "        text-align: right;\n",
              "    }\n",
              "</style>\n",
              "<table border=\"1\" class=\"dataframe\">\n",
              "  <thead>\n",
              "    <tr style=\"text-align: right;\">\n",
              "      <th></th>\n",
              "      <th>gender</th>\n",
              "      <th>marital_status</th>\n",
              "      <th>purchase</th>\n",
              "    </tr>\n",
              "  </thead>\n",
              "  <tbody>\n",
              "    <tr>\n",
              "      <th>0</th>\n",
              "      <td>F</td>\n",
              "      <td>0</td>\n",
              "      <td>684154127</td>\n",
              "    </tr>\n",
              "    <tr>\n",
              "      <th>1</th>\n",
              "      <td>F</td>\n",
              "      <td>1</td>\n",
              "      <td>502078515</td>\n",
              "    </tr>\n",
              "    <tr>\n",
              "      <th>2</th>\n",
              "      <td>M</td>\n",
              "      <td>0</td>\n",
              "      <td>2324773320</td>\n",
              "    </tr>\n",
              "    <tr>\n",
              "      <th>3</th>\n",
              "      <td>M</td>\n",
              "      <td>1</td>\n",
              "      <td>1584806780</td>\n",
              "    </tr>\n",
              "  </tbody>\n",
              "</table>\n",
              "</div>"
            ],
            "text/plain": [
              "  gender  marital_status    purchase\n",
              "0      F               0   684154127\n",
              "1      F               1   502078515\n",
              "2      M               0  2324773320\n",
              "3      M               1  1584806780"
            ]
          },
          "execution_count": 45,
          "metadata": {},
          "output_type": "execute_result"
        },
        {
          "data": {
            "image/png": "[encoded data removed]",
            "text/plain": [
              "<Figure size 640x480 with 3 Axes>"
            ]
          },
          "metadata": {},
          "output_type": "display_data"
        }
      ],
      "source": [
        "M_UM_P=bfs.groupby(['gender','marital_status']).agg({'purchase':sum}).reset_index()\n",
        "UM=bfs[bfs['marital_status']==0].value_counts('product_id').nlargest(10)\n",
        "M=bfs[bfs['marital_status']==1].value_counts('product_id').nlargest(10)\n",
        "plt.subplots_adjust(left=0.1,\n",
        "                    bottom=0.1,\n",
        "                    right=1.2,\n",
        "                    top=0.9,\n",
        "                    wspace=0.4,\n",
        "                    hspace=0.4)\n",
        "plt.subplot(2,2,1)\n",
        "sns.barplot(x='marital_status',y='purchase',hue='gender',data=M_UM_P)\n",
        "plt.subplot(2,2,3)\n",
        "UM.plot(x=UM.index,y=UM,kind='bar',title='UnMarried_Customer')\n",
        "plt.subplot(2,2,4)\n",
        "M.plot(x=M.index,y=M,kind='bar',title='Married_Customer')\n",
        "M_UM_P\n"
      ]
    }
  ],
  "metadata": {
    "kaggle": {
      "accelerator": "none",
      "dataSources": [
        {
          "datasetId": 2457185,
          "sourceId": 4163061,
          "sourceType": "datasetVersion"
        }
      ],
      "dockerImageVersionId": 31040,
      "isGpuEnabled": false,
      "isInternetEnabled": true,
      "language": "python",
      "sourceType": "notebook"
    },
    "kernelspec": {
      "display_name": "Python 3",
      "language": "python",
      "name": "python3"
    },
    "language_info": {
      "codemirror_mode": {
        "name": "ipython",
        "version": 3
      },
      "file_extension": ".py",
      "mimetype": "text/x-python",
      "name": "python",
      "nbconvert_exporter": "python",
      "pygments_lexer": "ipython3",
      "version": "3.11.11"
    },
    "papermill": {
      "default_parameters": {},
      "duration": 23.593523,
      "end_time": "2025-06-18T10:09:26.181059",
      "environment_variables": {},
      "exception": null,
      "input_path": "__notebook__.ipynb",
      "output_path": "__notebook__.ipynb",
      "parameters": {},
      "start_time": "2025-06-18T10:09:02.587536",
      "version": "2.6.0"
    },
    "colab": {
      "provenance": [],
      "include_colab_link": true
    }
  },
  "nbformat": 4,
  "nbformat_minor": 5
}