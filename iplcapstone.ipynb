{
  "nbformat": 4,
  "nbformat_minor": 0,
  "metadata": {
    "colab": {
      "private_outputs": true,
      "provenance": [],
      "cell_execution_strategy": "setup",
      "authorship_tag": "ABX9TyORqs2R6mMg8RcExN0OxFr4",
      "include_colab_link": true
    },
    "kernelspec": {
      "name": "python3",
      "display_name": "Python 3"
    },
    "language_info": {
      "name": "python"
    }
  },
  "cells": [
    {
      "cell_type": "markdown",
      "metadata": {
        "id": "view-in-github",
        "colab_type": "text"
      },
      "source": [
        "<a href=\"https://colab.research.google.com/github/sahilpate3345/datascience/blob/sahil/iplcapstone.ipynb\" target=\"_parent\"><img src=\"https://colab.research.google.com/assets/colab-badge.svg\" alt=\"Open In Colab\"/></a>"
      ]
    },
    {
      "cell_type": "code",
      "execution_count": null,
      "metadata": {
        "id": "8doTcPBcBhkQ"
      },
      "outputs": [],
      "source": [
        "import numpy as np\n",
        "import pandas as pd\n",
        "import seaborn as sns\n",
        "import matplotlib.pyplot as plt\n",
        "import warnings\n",
        "warnings.filterwarnings(\"ignore\")\n",
        "\n",
        "df = pd.read_csv( '/content/IPL.csv')\n",
        "\n",
        "df.head()\n"
      ]
    },
    {
      "cell_type": "markdown",
      "source": [
        "# New Section"
      ],
      "metadata": {
        "id": "yRKF_La1Oune"
      }
    },
    {
      "cell_type": "code",
      "source": [
        "from google.colab import drive\n",
        "drive.mount('/content/drive')"
      ],
      "metadata": {
        "id": "xShN1z6xNmym"
      },
      "execution_count": null,
      "outputs": []
    },
    {
      "cell_type": "code",
      "source": [
        "df.info()"
      ],
      "metadata": {
        "id": "mR2dpYEUDdxM"
      },
      "execution_count": null,
      "outputs": []
    },
    {
      "cell_type": "code",
      "source": [
        "match_wins=df['match_winner'].value_counts()\n",
        "sns.barplot(y=match_wins.index,x=match_wins.values,palette='viridis')\n",
        "plt.title(\"most match win by team\")"
      ],
      "metadata": {
        "id": "LzXVJ51ODsk8"
      },
      "execution_count": null,
      "outputs": []
    },
    {
      "cell_type": "code",
      "source": [
        "sns.countplot(x=df['toss_decision'],palette='rainbow')\n",
        "plt.title(\"toss decision trends\")"
      ],
      "metadata": {
        "id": "9A_REZNOEf2E"
      },
      "execution_count": null,
      "outputs": []
    },
    {
      "cell_type": "code",
      "source": [
        "\n",
        "count=df[df['toss_winner']==df['match_winner']]['match_id'].count()\n",
        "percentage=(count*100)/df.shape[0]\n",
        "percentage.round(2)"
      ],
      "metadata": {
        "id": "4hOno-f-E2Kf"
      },
      "execution_count": null,
      "outputs": []
    },
    {
      "cell_type": "code",
      "source": [
        "sns.countplot(x=df['won_by'])\n",
        "plt.title(\"won by\")"
      ],
      "metadata": {
        "id": "v7MS1JiiFaya"
      },
      "execution_count": null,
      "outputs": []
    },
    {
      "cell_type": "code",
      "source": [
        "count=df['player_of_the_match'].value_counts().head(10)\n",
        "count"
      ],
      "metadata": {
        "id": "0eRKchT_F45k"
      },
      "execution_count": null,
      "outputs": []
    },
    {
      "cell_type": "code",
      "source": [
        "sns.barplot(x=count.values,y=count.index,palette='mako')\n",
        "plt.title(\"top 10 plauers with man of the match\")\n"
      ],
      "metadata": {
        "id": "nA9gV8c5GPiO"
      },
      "execution_count": null,
      "outputs": []
    },
    {
      "cell_type": "code",
      "source": [
        "df.head()"
      ],
      "metadata": {
        "id": "pBWkAMIjGwEm"
      },
      "execution_count": null,
      "outputs": []
    },
    {
      "cell_type": "code",
      "source": [
        "high=df.groupby('top_scorer')['highscore'].sum().sort_values(ascending=False).head(2)\n",
        "high"
      ],
      "metadata": {
        "id": "t_q3z-tDGy4R"
      },
      "execution_count": null,
      "outputs": []
    },
    {
      "cell_type": "code",
      "source": [
        "high.plot(kind='barh')"
      ],
      "metadata": {
        "id": "zCeXaGXEHWgT"
      },
      "execution_count": null,
      "outputs": []
    },
    {
      "cell_type": "code",
      "source": [
        "df.head()"
      ],
      "metadata": {
        "id": "LIhi5UY9HcgE"
      },
      "execution_count": null,
      "outputs": []
    },
    {
      "cell_type": "code",
      "source": [
        "df['highest_wickets'] = df['best_bowling_figure'].apply(lambda x :x.split('--')[0])\n",
        "df['highest_wickets'] = df['highest_wickets'].astype(int)\n",
        "top_bowlers = df.groupby('best_bowling')['highest_wickets'].sum().sort_values(ascending=False).head(10)\n",
        "top_bowlers.plot(kind = 'barh')"
      ],
      "metadata": {
        "id": "QZPLbhhUHf6g"
      },
      "execution_count": null,
      "outputs": []
    },
    {
      "cell_type": "code",
      "source": [
        "venue_count=df['venue'].value_counts()\n",
        "venue_count"
      ],
      "metadata": {
        "id": "HQUqOA_WITJV"
      },
      "execution_count": null,
      "outputs": []
    },
    {
      "cell_type": "code",
      "source": [
        "sns.barplot(y=venue_count.index,x=venue_count.values,palette='rainbow')\n"
      ],
      "metadata": {
        "id": "fgrCeQlTInsW"
      },
      "execution_count": null,
      "outputs": []
    },
    {
      "cell_type": "code",
      "source": [
        "df[df['won_by']=='Runs'].sort_values(by='margin',ascending=False)[['match_winner','margin']]\n"
      ],
      "metadata": {
        "id": "dkeF-9vMI9Rz"
      },
      "execution_count": null,
      "outputs": []
    },
    {
      "cell_type": "code",
      "source": [
        "df[df['highscore']==df['highscore'].max()][['top_scorer','highscore']]"
      ],
      "metadata": {
        "id": "QU970J_AKAiG"
      },
      "execution_count": null,
      "outputs": []
    },
    {
      "cell_type": "code",
      "source": [
        "df.head()"
      ],
      "metadata": {
        "id": "B75M-5MIKvgS"
      },
      "execution_count": null,
      "outputs": []
    },
    {
      "cell_type": "code",
      "source": [
        "df[df['highest_wickets']==df['highest_wickets'].max()][['best_bowling','best_bowling_figure']]"
      ],
      "metadata": {
        "id": "Afk3RfxgLFXi"
      },
      "execution_count": null,
      "outputs": []
    }
  ]
}